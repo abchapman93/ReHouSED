{
 "cells": [
  {
   "cell_type": "code",
   "execution_count": 1,
   "id": "426edd2f",
   "metadata": {},
   "outputs": [],
   "source": [
    "%load_ext autoreload\n",
    "%autoreload 2"
   ]
  },
  {
   "cell_type": "code",
   "execution_count": 2,
   "id": "f21278b5",
   "metadata": {},
   "outputs": [],
   "source": [
    "import sys\n",
    "sys.path.insert(0, \"..\")"
   ]
  },
  {
   "cell_type": "code",
   "execution_count": 3,
   "id": "0a8d5838",
   "metadata": {},
   "outputs": [],
   "source": [
    "from medspacy.visualization import visualize_ent, visualize_dep\n",
    "from helpers import ENT_COLORS"
   ]
  },
  {
   "cell_type": "markdown",
   "id": "d4183ddb",
   "metadata": {},
   "source": [
    "# 3. Postprocessing\n",
    "The language and documentation around housing status is very complex and noisy. Some reasons for this include templates (e.g., questionnaire's which contain housing-related terms but don't actually contain useful information), complex linguistic structures, and the actual complexity involved in defining what someone's housing status is. Now that we've extracted concepts and set some important attributes, the next component implements complex, highly specific, and sometimes brittle logic through **postprocessing**."
   ]
  },
  {
   "cell_type": "code",
   "execution_count": 4,
   "id": "8c3210cb",
   "metadata": {},
   "outputs": [],
   "source": [
    "from rehoused_nlp import build_nlp"
   ]
  },
  {
   "cell_type": "code",
   "execution_count": 5,
   "id": "6ea325d4",
   "metadata": {},
   "outputs": [],
   "source": [
    "%%capture\n",
    "nlp = build_nlp()\n",
    "\n",
    "for pipe in ('document_classifier',):\n",
    "    nlp.remove_pipe(pipe)"
   ]
  },
  {
   "cell_type": "code",
   "execution_count": null,
   "id": "8d9943f3",
   "metadata": {},
   "outputs": [],
   "source": []
  },
  {
   "cell_type": "code",
   "execution_count": 6,
   "id": "19aa11a7",
   "metadata": {},
   "outputs": [
    {
     "data": {
      "text/plain": [
       "['tagger',\n",
       " 'parser',\n",
       " 'concept_tagger',\n",
       " 'target_matcher',\n",
       " 'context',\n",
       " 'sectionizer',\n",
       " 'postprocessor']"
      ]
     },
     "execution_count": 6,
     "metadata": {},
     "output_type": "execute_result"
    }
   ],
   "source": [
    "nlp.pipe_names"
   ]
  },
  {
   "cell_type": "markdown",
   "id": "99242464",
   "metadata": {},
   "source": [
    "## Postprocessing\n",
    "\n",
    "See medspaCy's [notebook on Postprocessing](https://github.com/medspacy/medspacy/blob/master/notebooks/08-Preprocessing-Postprocessing.ipynb) for more information.\n",
    "\n",
    "Each Postprocessing rule has a description which documents what the rule is meant to do./"
   ]
  },
  {
   "cell_type": "code",
   "execution_count": 7,
   "id": "4929dad7",
   "metadata": {},
   "outputs": [],
   "source": [
    "postprocessor = nlp.get_pipe(\"postprocessor\")\n",
    "postprocessor.debug = True # print out debugging info"
   ]
  },
  {
   "cell_type": "code",
   "execution_count": 8,
   "id": "18d34346",
   "metadata": {},
   "outputs": [
    {
     "data": {
      "text/plain": [
       "[PostprocessingRule: None - If the generic phrase 'housing' occurs in patient goals, allow it to be used as hypothetical housing,\n",
       " PostprocessingRule: None - If the generic phrase 'housing' is preceded by 'found' or modified by 'positive housing', allow it to be used as evidence of housing.,\n",
       " PostprocessingRule: None - Require a modifier for the exact phrase 'home',\n",
       " PostprocessingRule: None - If a patient 'does not have stable housing', count that as evidence of homelessness,\n",
       " PostprocessingRule: None - Ignore entities overlapping with 'housing situation',\n",
       " PostprocessingRule: None - If housing is being discussed in the same sentence as 'housing options', the housing should be hypothetical.,\n",
       " PostprocessingRule: None - Consider 'rental assistance' to be 'evidence of housing' only if it is being received,\n",
       " PostprocessingRule: None - If evidence of housing is modified by 'need', change to 'EVIDENCE' or 'RISK_OF_HOMELESSNESS',\n",
       " PostprocessingRule: None - If evidence of housing occurs in the goals section, set to hypothetical,\n",
       " PostprocessingRule: None - If evidence of housing occurs in the goals section, change to not to hypothetical']"
      ]
     },
     "execution_count": 8,
     "metadata": {},
     "output_type": "execute_result"
    }
   ],
   "source": [
    "postprocessor.rules[:10]"
   ]
  },
  {
   "cell_type": "markdown",
   "id": "ef62edba",
   "metadata": {},
   "source": [
    "Let's consider the first rule. Note the description at the bottom:\n",
    "\n",
    "---\n",
    "```python\n",
    "PostprocessingRule(\n",
    "        patterns=[\n",
    "            PostprocessingPattern(lambda ent: ent.lower_ == \"housing\"),\n",
    "            PostprocessingPattern(lambda ent: ent.label_ == \"EVIDENCE_OF_HOUSING\"),\n",
    "            (\n",
    "                PostprocessingPattern(postprocessing_functions.is_modified_by_category, condition_args=(\"HYPOTHETICAL\",)),\n",
    "                PostprocessingPattern(postprocessing_functions.is_modified_by_text, condition_args=(r\"(goal|secure|await|obtain|find|worried|need)\",)),\n",
    "                PostprocessingPattern(lambda ent: ent._.section_category == \"patient_goals\"),\n",
    "            ),\n",
    "        ],\n",
    "        action=change_hypothetical_phrase_housing,\n",
    "        # action_args=(\"RISK_OF_HOMELESSNESS\",),\n",
    "        description=\"If the generic phrase 'housing' occurs in patient goals, allow it to be used as hypothetical housing\"\n",
    "    ),\n",
    "```\n",
    "\n",
    "---\n",
    "\n",
    "The purpose for this rule is that \"housing\" is an extremely generic word. When a patient is either homeless or in the process of being **\"rehoused\"**, the word **\"housing\"** will show up often without referring to anything specific about the patient. By default, the NLP will set `is_ignored` to `True` for this phrase. However, sometimes this isn't what we want. When \"housing\" is listed in a section like **\"Patient goals\"**, it perhaps implies that the patient is working towards finding stable housing.\n",
    "\n",
    "In the first example below, the postprocessing rule passess all of the conditions shown in `patterns` (ie., the phrase **\"housing\"** occurs in the patient goals section), and so it changes `is_ignored` to `False` and `is_hypothetical` to `True`. The debugging information shows this logic. In te"
   ]
  },
  {
   "cell_type": "code",
   "execution_count": 9,
   "id": "d50a6c46",
   "metadata": {},
   "outputs": [
    {
     "name": "stdout",
     "output_type": "stream",
     "text": [
      "housing\n",
      "Passed: PostprocessingRule: None - If the generic phrase 'housing' occurs in patient goals, allow it to be used as hypothetical housing on ent: housing Patient goals: housing\n",
      "Passed: PostprocessingRule: None - If evidence of housing occurs in the goals section, set to hypothetical on ent: housing Patient goals: housing\n",
      "\n",
      "housing\n",
      "is_ignored: False\n",
      "is_hypothetical True\n"
     ]
    }
   ],
   "source": [
    "doc = nlp(\"Patient goals: housing\")\n",
    "ent = doc.ents[-1]\n",
    "print(ent)\n",
    "print(\"is_ignored:\", ent._.is_ignored)\n",
    "print(\"is_hypothetical\", ent._.is_hypothetical)"
   ]
  },
  {
   "cell_type": "markdown",
   "id": "26a7d70c",
   "metadata": {},
   "source": [
    "In this second example, these conditions aren't met, so `is_ignored` stays `True` and `is_hypothetical` is `False`."
   ]
  },
  {
   "cell_type": "code",
   "execution_count": 10,
   "id": "5300f7bb",
   "metadata": {},
   "outputs": [
    {
     "name": "stdout",
     "output_type": "stream",
     "text": [
      "housing\n",
      "\n",
      "housing\n",
      "is_ignored: True\n",
      "is_hypothetical: False\n"
     ]
    }
   ],
   "source": [
    "doc = nlp(\"Will talk about housing\")\n",
    "ent = doc.ents[-1]\n",
    "print(ent)\n",
    "print(\"is_ignored:\", ent._.is_ignored)\n",
    "print(\"is_hypothetical:\", ent._.is_hypothetical)"
   ]
  },
  {
   "cell_type": "code",
   "execution_count": null,
   "id": "0b028b30",
   "metadata": {},
   "outputs": [],
   "source": []
  },
  {
   "cell_type": "markdown",
   "id": "0f08993a",
   "metadata": {},
   "source": [
    "That example is fairly straightforward and generalizable. Let's look at a more complex and, to be honest, problematic example:\n",
    "\n",
    "---\n",
    "```python\n",
    "PostprocessingRule(\n",
    "        [\n",
    "            PostprocessingPattern(lambda ent: ent.label_ == \"EVIDENCE_OF_HOUSING\"),\n",
    "            PostprocessingPattern(lambda ent: ent.lower_ in (\"house\", \"apartment\", \"apartment complex\", \"apartment building\", \"apt\")),\n",
    "            PostprocessingPattern(postprocessing_functions.is_modified_by_text,\n",
    "                                  condition_args=(r\"(apply|applied|visit|available|look)\",),\n",
    "                                  success_value=False),\n",
    "            PostprocessingPattern(postprocessing_functions.is_modified_by_category, condition_args=(\"HYPOTHETICAL\",),\n",
    "                                  success_value=False),\n",
    "            PostprocessingPattern(postprocessing_functions.is_modified_by_category, condition_args=(\"RESIDES_IN\",),\n",
    "                                  success_value=False),\n",
    "            PostprocessingPattern(postprocessing_functions.is_modified_by_category, condition_args=(\"ACCEPTED\",),\n",
    "                                  success_value=False),\n",
    "            PostprocessingPattern(is_preceded_by, condition_args=(\"maintain\", 5),\n",
    "                                  success_value=False),\n",
    "            PostprocessingPattern(is_preceded_by, condition_args=(r\"has ?(an|a)?\", 3),\n",
    "                                  success_value=False),\n",
    "            PostprocessingPattern(lambda ent:ent._.window(5)._.contains(r\"(his|her)( own)?\"),\n",
    "                                  success_value=False),\n",
    "            # PostprocessingPattern(lambda ent:ent._.window(5, left=True, right=False)._.contains(r\"transition\")),\n",
    "            PostprocessingPattern(postprocessing_functions.is_modified_by_category, condition_args=(\"POSITIVE_HOUSING\",), success_value=False),\n",
    "            # PostprocessingPattern(is_preceded_by, condition_args=([\"got\"],3), success_value=False),\n",
    "        ],\n",
    "        action=set_ignored, action_args=(True,),\n",
    "        description=\"Require a modifier for 'house' or 'apartment' to be considered housing\"\n",
    "    ),\n",
    "```\n",
    "---\n",
    "\n",
    "This rule was one of the most difficult to implement and probably one of the main causes of false negatives in the paper. The basic motivation for this is that similar to the world **\"housing\"**, words like **\"house\"** and  **\"apartment\"** are often not specifically referring to the patient's housing. So to avoid false positives, we may want to ignore these phrases. However, there are obviously many scenarios in which these entities are very specifically about the patient. So this rule tries to make distincitons between these two scenarios by looking for contextual information. For example:\n",
    "- **\"maintain her apartment\"** implies that the patient is living in an apartment\n",
    "- **\"applied to an apartment\"** implies that the patient is trying to get housing\n",
    "- **\"his own house**\" implies a patient has a house\n",
    "\n",
    "This rule works by checking for each of these variations which indicate a mention is relevant, and if none of the conditions are met, the entity is set to be ignored. (So unlike the previous rule we looked at, if this rule passes the entity is ignored.)  However, the problem is that it's very difficult/impossible the enumerate and capture all the different situations in which an entity should be considered relevant. When the NLP misses such a situation, this can cause a false negative.\n",
    "\n",
    "If we are looking at just the phrase **\"house\"**, it will be ignored:"
   ]
  },
  {
   "cell_type": "code",
   "execution_count": 11,
   "id": "a505bd3d",
   "metadata": {},
   "outputs": [
    {
     "name": "stdout",
     "output_type": "stream",
     "text": [
      "house\n",
      "Passed: PostprocessingRule: None - Require a modifier for 'house' or 'apartment' to be considered housing on ent: house house\n",
      "\n",
      "is_ignored True\n"
     ]
    }
   ],
   "source": [
    "doc = nlp(\"house\")\n",
    "print(\"is_ignored\", doc.ents[0]._.is_ignored)"
   ]
  },
  {
   "cell_type": "markdown",
   "id": "791bfd62",
   "metadata": {},
   "source": [
    "However, here are a few examples which should not be ignored, so the rule won't pass:"
   ]
  },
  {
   "cell_type": "code",
   "execution_count": 12,
   "id": "408527e9",
   "metadata": {},
   "outputs": [
    {
     "name": "stdout",
     "output_type": "stream",
     "text": [
      "house\n",
      "\n",
      "apartment\n",
      "\n",
      "apartment\n",
      "\n",
      "She has a house\n",
      "\n",
      "his house.\n",
      "\n"
     ]
    }
   ],
   "source": [
    "texts = [\n",
    "    \"He has his own house\",\n",
    "    \"applied to an apartment\",\n",
    "    \"Lives in an apartment\",\n",
    "    \"She has a house on the North Side\",\n",
    "    \"He denies any concerns about his house.\"\n",
    "]\n",
    "\n",
    "for text in texts:\n",
    "    nlp(text)"
   ]
  },
  {
   "cell_type": "markdown",
   "id": "5d58c8b6",
   "metadata": {},
   "source": [
    "Postprocessing is useful because it's flexible and allows for implementing fairly specific and complex logic. However, it can also be very brittle and difficult to manage. You can undoubtedly find many scenarios where a rule should work but doesn't, or where a rule ends up causing a false positive/negative. It's a trade-off and we found that generally the rules brought up performance, even though they were a common (and frustrating) cause of mistakes.\n",
    "\n",
    "This notebook won't go through rules in any more detail, but a good way to get a sense of what each of the rules do is by the looking at the tests which check that their logic generally works: `rehoused/tests/test_postprocessrules.py`"
   ]
  },
  {
   "cell_type": "code",
   "execution_count": null,
   "id": "5942d977",
   "metadata": {},
   "outputs": [],
   "source": []
  }
 ],
 "metadata": {
  "kernelspec": {
   "display_name": "Python 3 (ipykernel)",
   "language": "python",
   "name": "python3"
  },
  "language_info": {
   "codemirror_mode": {
    "name": "ipython",
    "version": 3
   },
   "file_extension": ".py",
   "mimetype": "text/x-python",
   "name": "python",
   "nbconvert_exporter": "python",
   "pygments_lexer": "ipython3",
   "version": "3.8.11"
  }
 },
 "nbformat": 4,
 "nbformat_minor": 5
}
