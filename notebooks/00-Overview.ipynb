{
 "cells": [
  {
   "cell_type": "code",
   "execution_count": 1,
   "id": "426edd2f",
   "metadata": {},
   "outputs": [],
   "source": [
    "%load_ext autoreload\n",
    "%autoreload 2"
   ]
  },
  {
   "cell_type": "code",
   "execution_count": 2,
   "id": "f21278b5",
   "metadata": {},
   "outputs": [],
   "source": [
    "import sys\n",
    "sys.path.insert(0, \"../..\")"
   ]
  },
  {
   "cell_type": "markdown",
   "id": "d4183ddb",
   "metadata": {},
   "source": [
    "# Background\n",
    "These notebooks will give a brief overview of the NLP syste described in \"ReHouSED: A Novel Measurement of Veteran Housing Stability Using Natural Language Processing\" by Chapman et al. \n",
    "\n",
    "This manuscript describes a methodology for classifying Veteran housing stability using information in clinical texts. The NLP system is implemented in Python using [medspaCy](https://github.com/medspacy/medspacy). This package medspaCy requires spaCy 2.2.5 and is not currently compatible with spaCy 3. \n",
    "\n",
    "This methodology produces a classification at two levels: **document level** and **patient level**. The document-level measure is a single classification for an individual clinical text in one of three discrete classifications: **\"STABLY_HOUSED\"**, **\"STABLY_HOUSED\"**, or **\"UNKNOWN\"**. The patient-level measure aggregates across multiple clinical documents for a patient across a certain time window (e.g., 30 days) and calculates the proportion of notes which are classified as \"STABLY_HOUSED\" out of all classified as \"STABLY_HOUSED\" or \"UNSTABLY_HOUSED\". This patient-level score is termed **Relative Housing Stability in Electronic Documentation** or ***ReHouSED***.\n",
    "\n",
    "The overall process is shown in the diagram below. In summary:\n",
    "\n",
    "- A set of patient documents containing keywords related to housing are taken and split into 30-day time intervals\n",
    "- Each document is processed by a rule-based NLP system which assigns a single document classification to each document\n",
    "- All documents in each patient-time window are aggregated to compute a ReHouSED score\n",
    "\n",
    "![rehoused_process_flow](../images/rehoused_process_overview.png)"
   ]
  },
  {
   "cell_type": "markdown",
   "id": "33425e32",
   "metadata": {},
   "source": [
    "# Using the model\n",
    "These notebooks will walk through the main components of the NLP system to demonstrate the underlying logic of the model. A general caveat is that the rules used here are really quite complex, messy, and specific to the dataset. I've removed most rules which are highly specific the data used in VA, and to use this in another setting you'll need to add additional rules to match the EHR or clinical workflows seen in your dataset. These notebooks will show how to customize for your dataset.\n",
    "\n",
    "Additional resources which may be helpful can be found in the notebooks for [medSpaCy](https://github.com/medspacy/medspacy) or [spaCy's documentation](spacy.io). This notebook will assume some knowledge of spaCy pipelines and common workflows.\n",
    "\n",
    "## Quickstart\n",
    "Before going through each specific step, the code below will show a quick way for getting started with loading the model and processing some example texts.\n",
    "\n",
    "If you've installed `rehoused` as a package, you can import the helper function `build_nlp`, which load the default model used in the paper. We'll also import a few other functions for visualizating the processed documents."
   ]
  },
  {
   "cell_type": "code",
   "execution_count": 96,
   "id": "e60e2963",
   "metadata": {},
   "outputs": [],
   "source": [
    "from rehoused import build_nlp, visualize_doc_classification\n",
    "from medspacy.visualization import visualize_ent, visualize_dep\n",
    "\n",
    "from helpers import ENT_COLORS # Colors for visualization"
   ]
  },
  {
   "cell_type": "code",
   "execution_count": 97,
   "id": "8539530d",
   "metadata": {},
   "outputs": [],
   "source": [
    "%%capture\n",
    "nlp = build_nlp()"
   ]
  },
  {
   "cell_type": "code",
   "execution_count": 98,
   "id": "ee97df36",
   "metadata": {},
   "outputs": [
    {
     "data": {
      "text/plain": [
       "<spacy.lang.en.English at 0x7fc14eccc670>"
      ]
     },
     "execution_count": 98,
     "metadata": {},
     "output_type": "execute_result"
    }
   ],
   "source": [
    "nlp"
   ]
  },
  {
   "cell_type": "markdown",
   "id": "0456815b",
   "metadata": {},
   "source": [
    "By default, these components are loaded:"
   ]
  },
  {
   "cell_type": "code",
   "execution_count": 100,
   "id": "2f8386a8",
   "metadata": {},
   "outputs": [
    {
     "data": {
      "text/plain": [
       "['tagger',\n",
       " 'parser',\n",
       " 'concept_tagger',\n",
       " 'target_matcher',\n",
       " 'context',\n",
       " 'sectionizer',\n",
       " 'postprocessor',\n",
       " 'document_classifier']"
      ]
     },
     "execution_count": 100,
     "metadata": {},
     "output_type": "execute_result"
    }
   ],
   "source": [
    "nlp.pipe_names"
   ]
  },
  {
   "cell_type": "markdown",
   "id": "8fae9037",
   "metadata": {},
   "source": [
    "Let's process a single document which mentions housing and see how the NLP handles it:"
   ]
  },
  {
   "cell_type": "code",
   "execution_count": 128,
   "id": "885f0047",
   "metadata": {},
   "outputs": [],
   "source": [
    "text = \"The patient was evicted from her apartment last night and is now homeless.\""
   ]
  },
  {
   "cell_type": "code",
   "execution_count": 129,
   "id": "924d12ca",
   "metadata": {},
   "outputs": [],
   "source": [
    "doc = nlp(text)"
   ]
  },
  {
   "cell_type": "markdown",
   "id": "4a651434",
   "metadata": {},
   "source": [
    "We can see below that two entities were extracted: **\"evicted from her apartment\"** and **\"homeless\"**. Based on these entities. the document was assigned a document classification of **\"UNSTABLY_HOUSED\"**."
   ]
  },
  {
   "cell_type": "code",
   "execution_count": 131,
   "id": "c716e124",
   "metadata": {},
   "outputs": [
    {
     "data": {
      "text/html": [
       "<h3>Document Classification: UNSTABLY_HOUSED</h3><div class=\"entities\" style=\"line-height: 2.5; direction: ltr\">The patient was \n",
       "<mark class=\"entity\" style=\"background: #ffbb78; padding: 0.45em 0.6em; margin: 0 0.25em; line-height: 1; border-radius: 0.35em;\">\n",
       "    evicted from her apartment\n",
       "    <span style=\"font-size: 0.8em; font-weight: bold; line-height: 1; border-radius: 0.35em; text-transform: uppercase; vertical-align: middle; margin-left: 0.5rem\">RISK_OF_HOMELESSNESS</span>\n",
       "</mark>\n",
       " last night and is now \n",
       "<mark class=\"entity\" style=\"background: #d62728; padding: 0.45em 0.6em; margin: 0 0.25em; line-height: 1; border-radius: 0.35em;\">\n",
       "    homeless\n",
       "    <span style=\"font-size: 0.8em; font-weight: bold; line-height: 1; border-radius: 0.35em; text-transform: uppercase; vertical-align: middle; margin-left: 0.5rem\">EVIDENCE_OF_HOMELESSNESS</span>\n",
       "</mark>\n",
       ".</div>"
      ],
      "text/plain": [
       "<IPython.core.display.HTML object>"
      ]
     },
     "metadata": {},
     "output_type": "display_data"
    }
   ],
   "source": [
    "visualize_doc_classification(doc, colors=ENT_COLORS)"
   ]
  },
  {
   "cell_type": "code",
   "execution_count": 133,
   "id": "e1f3b62b",
   "metadata": {},
   "outputs": [
    {
     "data": {
      "text/plain": [
       "'UNSTABLY_HOUSED'"
      ]
     },
     "execution_count": 133,
     "metadata": {},
     "output_type": "execute_result"
    }
   ],
   "source": [
    "doc._.document_classification"
   ]
  },
  {
   "cell_type": "code",
   "execution_count": 132,
   "id": "798fedb6",
   "metadata": {},
   "outputs": [
    {
     "data": {
      "text/plain": [
       "(evicted from her apartment, homeless)"
      ]
     },
     "execution_count": 132,
     "metadata": {},
     "output_type": "execute_result"
    }
   ],
   "source": [
    "doc.ents"
   ]
  },
  {
   "cell_type": "code",
   "execution_count": 131,
   "id": "89eaa914",
   "metadata": {},
   "outputs": [
    {
     "data": {
      "text/html": [
       "<h3>Document Classification: UNSTABLY_HOUSED</h3><div class=\"entities\" style=\"line-height: 2.5; direction: ltr\">The patient was \n",
       "<mark class=\"entity\" style=\"background: #ffbb78; padding: 0.45em 0.6em; margin: 0 0.25em; line-height: 1; border-radius: 0.35em;\">\n",
       "    evicted from her apartment\n",
       "    <span style=\"font-size: 0.8em; font-weight: bold; line-height: 1; border-radius: 0.35em; text-transform: uppercase; vertical-align: middle; margin-left: 0.5rem\">RISK_OF_HOMELESSNESS</span>\n",
       "</mark>\n",
       " last night and is now \n",
       "<mark class=\"entity\" style=\"background: #d62728; padding: 0.45em 0.6em; margin: 0 0.25em; line-height: 1; border-radius: 0.35em;\">\n",
       "    homeless\n",
       "    <span style=\"font-size: 0.8em; font-weight: bold; line-height: 1; border-radius: 0.35em; text-transform: uppercase; vertical-align: middle; margin-left: 0.5rem\">EVIDENCE_OF_HOMELESSNESS</span>\n",
       "</mark>\n",
       ".</div>"
      ],
      "text/plain": [
       "<IPython.core.display.HTML object>"
      ]
     },
     "metadata": {},
     "output_type": "display_data"
    }
   ],
   "source": [
    "visualize_doc_classification(doc, colors=ENT_COLORS)"
   ]
  },
  {
   "cell_type": "code",
   "execution_count": null,
   "id": "ee9f1bc0",
   "metadata": {},
   "outputs": [],
   "source": []
  },
  {
   "cell_type": "markdown",
   "id": "80fe03f4",
   "metadata": {},
   "source": [
    "Now let's look at a different sentence. Here, two entities of class **\"EVIDENCE_OF_HOUSING\"** are extracted and document classification of **\"STABLY_HOUSED\"** is assigned."
   ]
  },
  {
   "cell_type": "code",
   "execution_count": 134,
   "id": "25a09e71",
   "metadata": {},
   "outputs": [],
   "source": [
    "text = \"She signed her lease and is doing well in her new apartment.\""
   ]
  },
  {
   "cell_type": "code",
   "execution_count": 135,
   "id": "76d3a080",
   "metadata": {},
   "outputs": [],
   "source": [
    "doc = nlp(text)"
   ]
  },
  {
   "cell_type": "code",
   "execution_count": 138,
   "id": "e6c9a6a7",
   "metadata": {},
   "outputs": [
    {
     "data": {
      "text/plain": [
       "'STABLY_HOUSED'"
      ]
     },
     "execution_count": 138,
     "metadata": {},
     "output_type": "execute_result"
    }
   ],
   "source": [
    "doc._.document_classification"
   ]
  },
  {
   "cell_type": "code",
   "execution_count": 136,
   "id": "1cfc1c7f",
   "metadata": {},
   "outputs": [
    {
     "data": {
      "text/plain": [
       "(signed her lease, her new apartment.)"
      ]
     },
     "execution_count": 136,
     "metadata": {},
     "output_type": "execute_result"
    }
   ],
   "source": [
    "doc.ents"
   ]
  },
  {
   "cell_type": "code",
   "execution_count": 138,
   "id": "0e1a6c49",
   "metadata": {},
   "outputs": [
    {
     "data": {
      "text/plain": [
       "'STABLY_HOUSED'"
      ]
     },
     "execution_count": 138,
     "metadata": {},
     "output_type": "execute_result"
    }
   ],
   "source": [
    "doc._.document_classification"
   ]
  },
  {
   "cell_type": "code",
   "execution_count": 139,
   "id": "e6312cca",
   "metadata": {},
   "outputs": [
    {
     "data": {
      "text/html": [
       "<h3>Document Classification: STABLY_HOUSED</h3><div class=\"entities\" style=\"line-height: 2.5; direction: ltr\">She \n",
       "<mark class=\"entity\" style=\"background: #2ca02c; padding: 0.45em 0.6em; margin: 0 0.25em; line-height: 1; border-radius: 0.35em;\">\n",
       "    signed her lease\n",
       "    <span style=\"font-size: 0.8em; font-weight: bold; line-height: 1; border-radius: 0.35em; text-transform: uppercase; vertical-align: middle; margin-left: 0.5rem\">EVIDENCE_OF_HOUSING</span>\n",
       "</mark>\n",
       " and is doing well in \n",
       "<mark class=\"entity\" style=\"background: #2ca02c; padding: 0.45em 0.6em; margin: 0 0.25em; line-height: 1; border-radius: 0.35em;\">\n",
       "    her new apartment.\n",
       "    <span style=\"font-size: 0.8em; font-weight: bold; line-height: 1; border-radius: 0.35em; text-transform: uppercase; vertical-align: middle; margin-left: 0.5rem\">EVIDENCE_OF_HOUSING</span>\n",
       "</mark>\n",
       "</div>"
      ],
      "text/plain": [
       "<IPython.core.display.HTML object>"
      ]
     },
     "metadata": {},
     "output_type": "display_data"
    }
   ],
   "source": [
    "visualize_doc_classification(doc, colors=ENT_COLORS)"
   ]
  },
  {
   "cell_type": "code",
   "execution_count": null,
   "id": "d6c395ea",
   "metadata": {},
   "outputs": [],
   "source": []
  },
  {
   "cell_type": "markdown",
   "id": "1234d30a",
   "metadata": {},
   "source": [
    "Let's look at one final example. In this case, the document is classified as **\"UNKNOWN\"**. Although there are two mentions of homelessness, they are both considered *historical* because they are modified by a **\"HISTORICAL\"** phrase. Attributes like this will be explained in a future notebook."
   ]
  },
  {
   "cell_type": "code",
   "execution_count": 154,
   "id": "777f26a8",
   "metadata": {},
   "outputs": [],
   "source": [
    "text = \"Pt has a past medical history of Homelessness.\"\n",
    "doc = nlp(text)"
   ]
  },
  {
   "cell_type": "code",
   "execution_count": 155,
   "id": "c47246e8",
   "metadata": {},
   "outputs": [
    {
     "data": {
      "text/plain": [
       "'UNKNOWN'"
      ]
     },
     "execution_count": 155,
     "metadata": {},
     "output_type": "execute_result"
    }
   ],
   "source": [
    "doc._.document_classification"
   ]
  },
  {
   "cell_type": "code",
   "execution_count": 156,
   "id": "7f5388e1",
   "metadata": {},
   "outputs": [
    {
     "data": {
      "text/plain": [
       "(Homelessness,)"
      ]
     },
     "execution_count": 156,
     "metadata": {},
     "output_type": "execute_result"
    }
   ],
   "source": [
    "doc.ents"
   ]
  },
  {
   "cell_type": "code",
   "execution_count": 157,
   "id": "f6df1c4e",
   "metadata": {},
   "outputs": [
    {
     "data": {
      "text/html": [
       "<h3>Document Classification: UNKNOWN</h3><div class=\"entities\" style=\"line-height: 2.5; direction: ltr\">Pt has a \n",
       "<mark class=\"entity\" style=\"background: #1f77b4; padding: 0.45em 0.6em; margin: 0 0.25em; line-height: 1; border-radius: 0.35em;\">\n",
       "    past medical history of\n",
       "    <span style=\"font-size: 0.8em; font-weight: bold; line-height: 1; border-radius: 0.35em; text-transform: uppercase; vertical-align: middle; margin-left: 0.5rem\">HISTORICAL</span>\n",
       "</mark>\n",
       " \n",
       "<mark class=\"entity\" style=\"background: #d62728; padding: 0.45em 0.6em; margin: 0 0.25em; line-height: 1; border-radius: 0.35em;\">\n",
       "    Homelessness\n",
       "    <span style=\"font-size: 0.8em; font-weight: bold; line-height: 1; border-radius: 0.35em; text-transform: uppercase; vertical-align: middle; margin-left: 0.5rem\">EVIDENCE_OF_HOMELESSNESS</span>\n",
       "</mark>\n",
       ".</div>"
      ],
      "text/plain": [
       "<IPython.core.display.HTML object>"
      ]
     },
     "metadata": {},
     "output_type": "display_data"
    }
   ],
   "source": [
    "visualize_doc_classification(doc, colors=ENT_COLORS)"
   ]
  },
  {
   "cell_type": "code",
   "execution_count": null,
   "id": "6acdcc3d",
   "metadata": {},
   "outputs": [],
   "source": []
  },
  {
   "cell_type": "markdown",
   "id": "0fd77361",
   "metadata": {},
   "source": [
    "## Additional examples\n",
    "This final section will take a list of short texts, process them, sort them by classification, and then visualize them."
   ]
  },
  {
   "cell_type": "code",
   "execution_count": 160,
   "id": "4e4b05f8",
   "metadata": {},
   "outputs": [],
   "source": [
    "texts = [\n",
    "    \"The veteran is doing well in her new apartment.\",\n",
    "    \"He has paid his rent.\",\n",
    "    \"He signed a lease\",\n",
    "    \"Veteran slept on the streets.\",\n",
    "    \"The patient is currently literally homeless.\",\n",
    "    \"Spent last night at the Mission.\",\n",
    "    \"Got a bed at a shelter downtown.\",\n",
    "    \"He stayed at his mother's house\",\n",
    "    \"Cannot pay the upcoming rent\",\n",
    "    \"Got an eviction notice.\",\n",
    "    \"Patient with a history of homelessness\",\n",
    "    \"Are you in a house, apartment, or room?\",\n",
    "    \"Here to discuss his housing situation.\",\n",
    "    \"She lives in an apartment building\",\n",
    "    \"The patient is not currently homeless\"\n",
    "]"
   ]
  },
  {
   "cell_type": "code",
   "execution_count": 161,
   "id": "ab2f753a",
   "metadata": {},
   "outputs": [
    {
     "data": {
      "text/html": [
       "<span class=\"tex2jax_ignore\"><svg xmlns=\"http://www.w3.org/2000/svg\" xmlns:xlink=\"http://www.w3.org/1999/xlink\" xml:lang=\"en\" id=\"be7776c18e7c46db83f50e7673843c21-0\" class=\"displacy\" width=\"925\" height=\"137.0\" direction=\"ltr\" style=\"max-width: none; height: 137.0px; color: #000000; background: #ffffff; font-family: Arial; direction: ltr\">\n",
       "<text class=\"displacy-token\" fill=\"currentColor\" text-anchor=\"middle\" y=\"47.0\">\n",
       "    <tspan class=\"displacy-word\" fill=\"currentColor\" x=\"50\">Here</tspan>\n",
       "    <tspan class=\"displacy-tag\" dy=\"2em\" fill=\"currentColor\" x=\"50\"></tspan>\n",
       "</text>\n",
       "\n",
       "<text class=\"displacy-token\" fill=\"currentColor\" text-anchor=\"middle\" y=\"47.0\">\n",
       "    <tspan class=\"displacy-word\" fill=\"currentColor\" x=\"225\">to</tspan>\n",
       "    <tspan class=\"displacy-tag\" dy=\"2em\" fill=\"currentColor\" x=\"225\"></tspan>\n",
       "</text>\n",
       "\n",
       "<text class=\"displacy-token\" fill=\"currentColor\" text-anchor=\"middle\" y=\"47.0\">\n",
       "    <tspan class=\"displacy-word\" fill=\"currentColor\" x=\"400\">discuss</tspan>\n",
       "    <tspan class=\"displacy-tag\" dy=\"2em\" fill=\"currentColor\" x=\"400\"></tspan>\n",
       "</text>\n",
       "\n",
       "<text class=\"displacy-token\" fill=\"currentColor\" text-anchor=\"middle\" y=\"47.0\">\n",
       "    <tspan class=\"displacy-word\" fill=\"currentColor\" x=\"575\">his housing situation</tspan>\n",
       "    <tspan class=\"displacy-tag\" dy=\"2em\" fill=\"currentColor\" x=\"575\">IGNORE</tspan>\n",
       "</text>\n",
       "\n",
       "<text class=\"displacy-token\" fill=\"currentColor\" text-anchor=\"middle\" y=\"47.0\">\n",
       "    <tspan class=\"displacy-word\" fill=\"currentColor\" x=\"750\">.</tspan>\n",
       "    <tspan class=\"displacy-tag\" dy=\"2em\" fill=\"currentColor\" x=\"750\"></tspan>\n",
       "</text>\n",
       "</svg></span>"
      ],
      "text/plain": [
       "<IPython.core.display.HTML object>"
      ]
     },
     "metadata": {},
     "output_type": "display_data"
    }
   ],
   "source": [
    "visualize_dep(doc)"
   ]
  },
  {
   "cell_type": "code",
   "execution_count": 162,
   "id": "d3b2ff63",
   "metadata": {},
   "outputs": [
    {
     "name": "stdout",
     "output_type": "stream",
     "text": [
      "========== STABLY_HOUSED ==========\n"
     ]
    },
    {
     "data": {
      "text/html": [
       "<span class=\"tex2jax_ignore\"><div class=\"entities\" style=\"line-height: 2.5; direction: ltr\">The veteran is doing well in \n",
       "<mark class=\"entity\" style=\"background: #2ca02c; padding: 0.45em 0.6em; margin: 0 0.25em; line-height: 1; border-radius: 0.35em;\">\n",
       "    her new apartment.\n",
       "    <span style=\"font-size: 0.8em; font-weight: bold; line-height: 1; border-radius: 0.35em; text-transform: uppercase; vertical-align: middle; margin-left: 0.5rem\">EVIDENCE_OF_HOUSING</span>\n",
       "</mark>\n",
       "</div></span>"
      ],
      "text/plain": [
       "<IPython.core.display.HTML object>"
      ]
     },
     "metadata": {},
     "output_type": "display_data"
    },
    {
     "data": {
      "text/html": [
       "<span class=\"tex2jax_ignore\"><div class=\"entities\" style=\"line-height: 2.5; direction: ltr\">He has \n",
       "<mark class=\"entity\" style=\"background: #9567bd; padding: 0.45em 0.6em; margin: 0 0.25em; line-height: 1; border-radius: 0.35em;\">\n",
       "    paid\n",
       "    <span style=\"font-size: 0.8em; font-weight: bold; line-height: 1; border-radius: 0.35em; text-transform: uppercase; vertical-align: middle; margin-left: 0.5rem\">PAYMENT</span>\n",
       "</mark>\n",
       " his \n",
       "<mark class=\"entity\" style=\"background: #2ca02c; padding: 0.45em 0.6em; margin: 0 0.25em; line-height: 1; border-radius: 0.35em;\">\n",
       "    rent\n",
       "    <span style=\"font-size: 0.8em; font-weight: bold; line-height: 1; border-radius: 0.35em; text-transform: uppercase; vertical-align: middle; margin-left: 0.5rem\">EVIDENCE_OF_HOUSING</span>\n",
       "</mark>\n",
       ".</div></span>"
      ],
      "text/plain": [
       "<IPython.core.display.HTML object>"
      ]
     },
     "metadata": {},
     "output_type": "display_data"
    },
    {
     "data": {
      "text/html": [
       "<span class=\"tex2jax_ignore\"><div class=\"entities\" style=\"line-height: 2.5; direction: ltr\">He \n",
       "<mark class=\"entity\" style=\"background: #2ca02c; padding: 0.45em 0.6em; margin: 0 0.25em; line-height: 1; border-radius: 0.35em;\">\n",
       "    signed a lease\n",
       "    <span style=\"font-size: 0.8em; font-weight: bold; line-height: 1; border-radius: 0.35em; text-transform: uppercase; vertical-align: middle; margin-left: 0.5rem\">EVIDENCE_OF_HOUSING</span>\n",
       "</mark>\n",
       "</div></span>"
      ],
      "text/plain": [
       "<IPython.core.display.HTML object>"
      ]
     },
     "metadata": {},
     "output_type": "display_data"
    },
    {
     "data": {
      "text/html": [
       "<span class=\"tex2jax_ignore\"><div class=\"entities\" style=\"line-height: 2.5; direction: ltr\">She \n",
       "<mark class=\"entity\" style=\"background: #9567bd; padding: 0.45em 0.6em; margin: 0 0.25em; line-height: 1; border-radius: 0.35em;\">\n",
       "    lives in\n",
       "    <span style=\"font-size: 0.8em; font-weight: bold; line-height: 1; border-radius: 0.35em; text-transform: uppercase; vertical-align: middle; margin-left: 0.5rem\">RESIDES_IN</span>\n",
       "</mark>\n",
       " an \n",
       "<mark class=\"entity\" style=\"background: #2ca02c; padding: 0.45em 0.6em; margin: 0 0.25em; line-height: 1; border-radius: 0.35em;\">\n",
       "    apartment\n",
       "    <span style=\"font-size: 0.8em; font-weight: bold; line-height: 1; border-radius: 0.35em; text-transform: uppercase; vertical-align: middle; margin-left: 0.5rem\">EVIDENCE_OF_HOUSING</span>\n",
       "</mark>\n",
       " building</div></span>"
      ],
      "text/plain": [
       "<IPython.core.display.HTML object>"
      ]
     },
     "metadata": {},
     "output_type": "display_data"
    },
    {
     "data": {
      "text/html": [
       "<span class=\"tex2jax_ignore\"><div class=\"entities\" style=\"line-height: 2.5; direction: ltr\">The \n",
       "<mark class=\"entity\" style=\"background: #1f77b4; padding: 0.45em 0.6em; margin: 0 0.25em; line-height: 1; border-radius: 0.35em;\">\n",
       "    patient is not\n",
       "    <span style=\"font-size: 0.8em; font-weight: bold; line-height: 1; border-radius: 0.35em; text-transform: uppercase; vertical-align: middle; margin-left: 0.5rem\">NEGATED_EXISTENCE</span>\n",
       "</mark>\n",
       " currently \n",
       "<mark class=\"entity\" style=\"background: #d62728; padding: 0.45em 0.6em; margin: 0 0.25em; line-height: 1; border-radius: 0.35em;\">\n",
       "    homeless\n",
       "    <span style=\"font-size: 0.8em; font-weight: bold; line-height: 1; border-radius: 0.35em; text-transform: uppercase; vertical-align: middle; margin-left: 0.5rem\">EVIDENCE_OF_HOMELESSNESS</span>\n",
       "</mark>\n",
       "</div></span>"
      ],
      "text/plain": [
       "<IPython.core.display.HTML object>"
      ]
     },
     "metadata": {},
     "output_type": "display_data"
    },
    {
     "name": "stdout",
     "output_type": "stream",
     "text": [
      "\n",
      "========== UNSTABLY_HOUSED ==========\n"
     ]
    },
    {
     "data": {
      "text/html": [
       "<span class=\"tex2jax_ignore\"><div class=\"entities\" style=\"line-height: 2.5; direction: ltr\">Veteran \n",
       "<mark class=\"entity\" style=\"background: #d62728; padding: 0.45em 0.6em; margin: 0 0.25em; line-height: 1; border-radius: 0.35em;\">\n",
       "    slept on the\n",
       "    <span style=\"font-size: 0.8em; font-weight: bold; line-height: 1; border-radius: 0.35em; text-transform: uppercase; vertical-align: middle; margin-left: 0.5rem\">EVIDENCE_OF_HOMELESSNESS</span>\n",
       "</mark>\n",
       " streets.</div></span>"
      ],
      "text/plain": [
       "<IPython.core.display.HTML object>"
      ]
     },
     "metadata": {},
     "output_type": "display_data"
    },
    {
     "data": {
      "text/html": [
       "<span class=\"tex2jax_ignore\"><div class=\"entities\" style=\"line-height: 2.5; direction: ltr\">The patient is \n",
       "<mark class=\"entity\" style=\"background: #17becf; padding: 0.45em 0.6em; margin: 0 0.25em; line-height: 1; border-radius: 0.35em;\">\n",
       "    currently\n",
       "    <span style=\"font-size: 0.8em; font-weight: bold; line-height: 1; border-radius: 0.35em; text-transform: uppercase; vertical-align: middle; margin-left: 0.5rem\">CURRENT</span>\n",
       "</mark>\n",
       " \n",
       "<mark class=\"entity\" style=\"background: #d62728; padding: 0.45em 0.6em; margin: 0 0.25em; line-height: 1; border-radius: 0.35em;\">\n",
       "    literally homeless\n",
       "    <span style=\"font-size: 0.8em; font-weight: bold; line-height: 1; border-radius: 0.35em; text-transform: uppercase; vertical-align: middle; margin-left: 0.5rem\">EVIDENCE_OF_HOMELESSNESS</span>\n",
       "</mark>\n",
       ".</div></span>"
      ],
      "text/plain": [
       "<IPython.core.display.HTML object>"
      ]
     },
     "metadata": {},
     "output_type": "display_data"
    },
    {
     "data": {
      "text/html": [
       "<span class=\"tex2jax_ignore\"><div class=\"entities\" style=\"line-height: 2.5; direction: ltr\">Spent last night \n",
       "<mark class=\"entity\" style=\"background: #ff7f0e; padding: 0.45em 0.6em; margin: 0 0.25em; line-height: 1; border-radius: 0.35em;\">\n",
       "    at the Mission\n",
       "    <span style=\"font-size: 0.8em; font-weight: bold; line-height: 1; border-radius: 0.35em; text-transform: uppercase; vertical-align: middle; margin-left: 0.5rem\">TEMPORARY_HOUSING</span>\n",
       "</mark>\n",
       ".</div></span>"
      ],
      "text/plain": [
       "<IPython.core.display.HTML object>"
      ]
     },
     "metadata": {},
     "output_type": "display_data"
    },
    {
     "data": {
      "text/html": [
       "<span class=\"tex2jax_ignore\"><div class=\"entities\" style=\"line-height: 2.5; direction: ltr\">Got a bed at a \n",
       "<mark class=\"entity\" style=\"background: #ff7f0e; padding: 0.45em 0.6em; margin: 0 0.25em; line-height: 1; border-radius: 0.35em;\">\n",
       "    shelter\n",
       "    <span style=\"font-size: 0.8em; font-weight: bold; line-height: 1; border-radius: 0.35em; text-transform: uppercase; vertical-align: middle; margin-left: 0.5rem\">TEMPORARY_HOUSING</span>\n",
       "</mark>\n",
       " downtown.</div></span>"
      ],
      "text/plain": [
       "<IPython.core.display.HTML object>"
      ]
     },
     "metadata": {},
     "output_type": "display_data"
    },
    {
     "data": {
      "text/html": [
       "<span class=\"tex2jax_ignore\"><div class=\"entities\" style=\"line-height: 2.5; direction: ltr\">He stayed at his \n",
       "<mark class=\"entity\" style=\"background: #8c564b; padding: 0.45em 0.6em; margin: 0 0.25em; line-height: 1; border-radius: 0.35em;\">\n",
       "    mother's house\n",
       "    <span style=\"font-size: 0.8em; font-weight: bold; line-height: 1; border-radius: 0.35em; text-transform: uppercase; vertical-align: middle; margin-left: 0.5rem\">DOUBLING_UP</span>\n",
       "</mark>\n",
       "</div></span>"
      ],
      "text/plain": [
       "<IPython.core.display.HTML object>"
      ]
     },
     "metadata": {},
     "output_type": "display_data"
    },
    {
     "data": {
      "text/html": [
       "<span class=\"tex2jax_ignore\"><div class=\"entities\" style=\"line-height: 2.5; direction: ltr\">Cannot pay the upcoming \n",
       "<mark class=\"entity\" style=\"background: #ffbb78; padding: 0.45em 0.6em; margin: 0 0.25em; line-height: 1; border-radius: 0.35em;\">\n",
       "    rent\n",
       "    <span style=\"font-size: 0.8em; font-weight: bold; line-height: 1; border-radius: 0.35em; text-transform: uppercase; vertical-align: middle; margin-left: 0.5rem\">RISK_OF_HOMELESSNESS</span>\n",
       "</mark>\n",
       "</div></span>"
      ],
      "text/plain": [
       "<IPython.core.display.HTML object>"
      ]
     },
     "metadata": {},
     "output_type": "display_data"
    },
    {
     "data": {
      "text/html": [
       "<span class=\"tex2jax_ignore\"><div class=\"entities\" style=\"line-height: 2.5; direction: ltr\">Got an \n",
       "<mark class=\"entity\" style=\"background: #ffbb78; padding: 0.45em 0.6em; margin: 0 0.25em; line-height: 1; border-radius: 0.35em;\">\n",
       "    eviction notice\n",
       "    <span style=\"font-size: 0.8em; font-weight: bold; line-height: 1; border-radius: 0.35em; text-transform: uppercase; vertical-align: middle; margin-left: 0.5rem\">RISK_OF_HOMELESSNESS</span>\n",
       "</mark>\n",
       ".</div></span>"
      ],
      "text/plain": [
       "<IPython.core.display.HTML object>"
      ]
     },
     "metadata": {},
     "output_type": "display_data"
    },
    {
     "name": "stdout",
     "output_type": "stream",
     "text": [
      "\n",
      "========== UNKNOWN ==========\n"
     ]
    },
    {
     "data": {
      "text/html": [
       "<span class=\"tex2jax_ignore\"><div class=\"entities\" style=\"line-height: 2.5; direction: ltr\">Patient with a \n",
       "<mark class=\"entity\" style=\"background: #1f77b4; padding: 0.45em 0.6em; margin: 0 0.25em; line-height: 1; border-radius: 0.35em;\">\n",
       "    history of\n",
       "    <span style=\"font-size: 0.8em; font-weight: bold; line-height: 1; border-radius: 0.35em; text-transform: uppercase; vertical-align: middle; margin-left: 0.5rem\">HISTORICAL</span>\n",
       "</mark>\n",
       " \n",
       "<mark class=\"entity\" style=\"background: #d62728; padding: 0.45em 0.6em; margin: 0 0.25em; line-height: 1; border-radius: 0.35em;\">\n",
       "    homelessness\n",
       "    <span style=\"font-size: 0.8em; font-weight: bold; line-height: 1; border-radius: 0.35em; text-transform: uppercase; vertical-align: middle; margin-left: 0.5rem\">EVIDENCE_OF_HOMELESSNESS</span>\n",
       "</mark>\n",
       "</div></span>"
      ],
      "text/plain": [
       "<IPython.core.display.HTML object>"
      ]
     },
     "metadata": {},
     "output_type": "display_data"
    },
    {
     "data": {
      "text/html": [
       "<span class=\"tex2jax_ignore\"><div class=\"entities\" style=\"line-height: 2.5; direction: ltr\">Are you in a \n",
       "<mark class=\"entity\" style=\"background: #2ca02c; padding: 0.45em 0.6em; margin: 0 0.25em; line-height: 1; border-radius: 0.35em;\">\n",
       "    house\n",
       "    <span style=\"font-size: 0.8em; font-weight: bold; line-height: 1; border-radius: 0.35em; text-transform: uppercase; vertical-align: middle; margin-left: 0.5rem\">EVIDENCE_OF_HOUSING</span>\n",
       "</mark>\n",
       ", \n",
       "<mark class=\"entity\" style=\"background: #2ca02c; padding: 0.45em 0.6em; margin: 0 0.25em; line-height: 1; border-radius: 0.35em;\">\n",
       "    apartment\n",
       "    <span style=\"font-size: 0.8em; font-weight: bold; line-height: 1; border-radius: 0.35em; text-transform: uppercase; vertical-align: middle; margin-left: 0.5rem\">EVIDENCE_OF_HOUSING</span>\n",
       "</mark>\n",
       ", or room\n",
       "<mark class=\"entity\" style=\"background: #dee0e3; padding: 0.45em 0.6em; margin: 0 0.25em; line-height: 1; border-radius: 0.35em;\">\n",
       "    ?\n",
       "    <span style=\"font-size: 0.8em; font-weight: bold; line-height: 1; border-radius: 0.35em; text-transform: uppercase; vertical-align: middle; margin-left: 0.5rem\">NOT_RELEVANT</span>\n",
       "</mark>\n",
       "</div></span>"
      ],
      "text/plain": [
       "<IPython.core.display.HTML object>"
      ]
     },
     "metadata": {},
     "output_type": "display_data"
    },
    {
     "data": {
      "text/html": [
       "<span class=\"tex2jax_ignore\"><div class=\"entities\" style=\"line-height: 2.5; direction: ltr\">Here to discuss \n",
       "<mark class=\"entity\" style=\"background: #dee0e3; padding: 0.45em 0.6em; margin: 0 0.25em; line-height: 1; border-radius: 0.35em;\">\n",
       "    his housing situation\n",
       "    <span style=\"font-size: 0.8em; font-weight: bold; line-height: 1; border-radius: 0.35em; text-transform: uppercase; vertical-align: middle; margin-left: 0.5rem\">IGNORE</span>\n",
       "</mark>\n",
       ".</div></span>"
      ],
      "text/plain": [
       "<IPython.core.display.HTML object>"
      ]
     },
     "metadata": {},
     "output_type": "display_data"
    },
    {
     "name": "stdout",
     "output_type": "stream",
     "text": [
      "\n"
     ]
    }
   ],
   "source": [
    "doc_classifications = (\"STABLY_HOUSED\", \"UNSTABLY_HOUSED\", \"UNKNOWN\")\n",
    "\n",
    "\n",
    "\n",
    "sorted_docs = {doc_class: list() for doc_class in doc_classifications}\n",
    "\n",
    "for text in texts:\n",
    "    doc = nlp(text)\n",
    "    sorted_docs[doc._.document_classification].append(doc)\n",
    "\n",
    "for doc_classification in doc_classifications:\n",
    "    \n",
    "    print(\"==\"*5, doc_classification, \"==\"*5)\n",
    "    for doc in sorted_docs[doc_classification]:\n",
    "        visualize_ent(doc, colors=colors)\n",
    "    print()"
   ]
  },
  {
   "cell_type": "code",
   "execution_count": null,
   "id": "0da95a03",
   "metadata": {},
   "outputs": [],
   "source": []
  }
 ],
 "metadata": {
  "kernelspec": {
   "display_name": "Python 3 (ipykernel)",
   "language": "python",
   "name": "python3"
  },
  "language_info": {
   "codemirror_mode": {
    "name": "ipython",
    "version": 3
   },
   "file_extension": ".py",
   "mimetype": "text/x-python",
   "name": "python",
   "nbconvert_exporter": "python",
   "pygments_lexer": "ipython3",
   "version": "3.8.11"
  }
 },
 "nbformat": 4,
 "nbformat_minor": 5
}
