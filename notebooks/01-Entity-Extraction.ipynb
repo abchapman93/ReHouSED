{
 "cells": [
  {
   "cell_type": "code",
   "execution_count": 1,
   "id": "426edd2f",
   "metadata": {},
   "outputs": [],
   "source": [
    "%load_ext autoreload\n",
    "%autoreload 2"
   ]
  },
  {
   "cell_type": "code",
   "execution_count": 25,
   "id": "f21278b5",
   "metadata": {},
   "outputs": [],
   "source": [
    "import sys\n",
    "sys.path.insert(0, \"..\")"
   ]
  },
  {
   "cell_type": "code",
   "execution_count": 3,
   "id": "0a8d5838",
   "metadata": {},
   "outputs": [],
   "source": [
    "from medspacy.visualization import visualize_ent\n",
    "from helpers import ENT_COLORS"
   ]
  },
  {
   "cell_type": "code",
   "execution_count": null,
   "id": "4986e979",
   "metadata": {},
   "outputs": [],
   "source": [
    "import warnings\n",
    "warnings.filterwarnings(\"ignore\")"
   ]
  },
  {
   "cell_type": "markdown",
   "id": "d4183ddb",
   "metadata": {},
   "source": [
    "# 1. Entity Extraction\n",
    "This notebook will explain the logic underlying the first step of the NLP process: extracting entities and target concepts."
   ]
  },
  {
   "cell_type": "markdown",
   "id": "5bdd0901",
   "metadata": {},
   "source": [
    "Let's load our NLP model. For this notebook, we'll disable some of the later components and just focus on the ones related to entity extraction."
   ]
  },
  {
   "cell_type": "code",
   "execution_count": 4,
   "id": "8c3210cb",
   "metadata": {},
   "outputs": [],
   "source": [
    "from rehoused_nlp import build_nlp"
   ]
  },
  {
   "cell_type": "code",
   "execution_count": 6,
   "id": "6ea325d4",
   "metadata": {},
   "outputs": [],
   "source": [
    "%%capture\n",
    "nlp = build_nlp()\n",
    "\n",
    "for pipe in ('medspacy_context', 'medspacy_sectionizer', 'medspacy_postprocessor', 'document_classifier'):\n",
    "    nlp.remove_pipe(pipe)"
   ]
  },
  {
   "cell_type": "code",
   "execution_count": 7,
   "id": "19aa11a7",
   "metadata": {},
   "outputs": [
    {
     "data": {
      "text/plain": [
       "['tok2vec',\n",
       " 'tagger',\n",
       " 'parser',\n",
       " 'attribute_ruler',\n",
       " 'lemmatizer',\n",
       " 'medspacy_concept_tagger',\n",
       " 'medspacy_target_matcher']"
      ]
     },
     "execution_count": 7,
     "metadata": {},
     "output_type": "execute_result"
    }
   ],
   "source": [
    "nlp.pipe_names"
   ]
  },
  {
   "cell_type": "markdown",
   "id": "231fd78f",
   "metadata": {},
   "source": [
    "The first two components here are the standard spaCy POS tagger and dependency parser. We won't talk much about those. Instead we'll focus on the two remaining components, which work in tandem to extract entities from the text:"
   ]
  },
  {
   "cell_type": "markdown",
   "id": "99242464",
   "metadata": {},
   "source": [
    "## ConceptTagger\n",
    "The `ConceptTagger` identifies patterns in the text and then assigns semantic labels to each token. Rules are stored as medspaCy `TargetRules` and defined by a `literal`, `category` and an optional `pattern`. Each rule will match a phrase defined by the pattern argument if it is not `None`, and the `literal` exact phrase otherwise. Patterns can be either be a regular expression string or a spaCy dictionary-based pattern.\n",
    "\n",
    "When a pattern is matched in the string, each token in the matched span will be assigned an attribute according to the `category` argument: `token._.concept_tag`. This semantic tag will be used in the next step to simplify entity extraction."
   ]
  },
  {
   "cell_type": "code",
   "execution_count": 9,
   "id": "59289a3f",
   "metadata": {},
   "outputs": [],
   "source": [
    "concept_tagger = nlp.get_pipe(\"medspacy_concept_tagger\")"
   ]
  },
  {
   "cell_type": "code",
   "execution_count": 10,
   "id": "cb0d83f0",
   "metadata": {},
   "outputs": [
    {
     "data": {
      "text/plain": [
       "[TargetRule(literal=\"apartment\", category=\"RESIDENCE\", pattern=[{'IS_TITLE': True, 'OP': '+'}, {'LOWER': {'REGEX': 'apartment'}}], attributes=None, on_match=None),\n",
       " TargetRule(literal=\"<RESIDES>\", category=\"RESIDES\", pattern=[{'LEMMA': {'IN': ['reside', 'stay', 'live', 'sleep']}}, {'LOWER': {'IN': ['in', 'at']}, 'OP': '?'}], attributes=None, on_match=None),\n",
       " TargetRule(literal=\"move in\", category=\"RESIDES\", pattern=[{'LEMMA': 'move'}, {'LOWER': 'in'}], attributes=None, on_match=None),\n",
       " TargetRule(literal=\"current living situation:\", category=\"RESIDES\", pattern=None, attributes=None, on_match=None),\n",
       " TargetRule(literal=\"veteran\", category=\"PATIENT\", pattern=[{'LOWER': {'REGEX': '^vet(eran)?'}}, {'LOWER': \"'s\", 'OP': '?'}], attributes=None, on_match=None),\n",
       " TargetRule(literal=\"patient\", category=\"PATIENT\", pattern=[{'LOWER': {'IN': ['patient', 'pt', 'pt.']}}, {'LOWER': \"'s\", 'OP': '?'}], attributes=None, on_match=None),\n",
       " TargetRule(literal=\"patient\", category=\"PATIENT\", pattern=[{'LOWER': {'IN': ['my', 'me']}}], attributes=None, on_match=None),\n",
       " TargetRule(literal=\"<DET> job\", category=\"EMPLOYMENT\", pattern=[{'POS': 'DET'}, {'LOWER': 'job'}], attributes=None, on_match=None),\n",
       " TargetRule(literal=\"...Homeless\", category=\"HOMELESSNESS\", pattern=[{'LOWER': {'REGEX': 'homeless'}}], attributes=None, on_match=None),\n",
       " TargetRule(literal=\"father\", category=\"FAMILY\", pattern=None, attributes=None, on_match=None)]"
      ]
     },
     "execution_count": 10,
     "metadata": {},
     "output_type": "execute_result"
    }
   ],
   "source": [
    "concept_tagger.rules[:10]"
   ]
  },
  {
   "cell_type": "markdown",
   "id": "e88db958",
   "metadata": {},
   "source": [
    "Let's look at an example. Here you can see that **\"Veteran\"** is assigned a concept tag of **\"PATIENT\"**, **\"staying at\"** is **\"RESIDES\"**, **\"father\"** is assigned **\"FAMILY\"**, and **\"apartment\"** is assigned **\"RESIDENCE\"**. Any token not matched by a pattern has a concept tag of `None`."
   ]
  },
  {
   "cell_type": "code",
   "execution_count": 11,
   "id": "a352ff80",
   "metadata": {},
   "outputs": [],
   "source": [
    "text = \"The Veteran is staying at his father's apartment.\"\n",
    "doc = nlp(text)"
   ]
  },
  {
   "cell_type": "code",
   "execution_count": 12,
   "id": "4f10b637",
   "metadata": {},
   "outputs": [
    {
     "name": "stdout",
     "output_type": "stream",
     "text": [
      "The \n",
      "Veteran PATIENT\n",
      "is \n",
      "staying RESIDES\n",
      "at RESIDES\n",
      "his \n",
      "father FAMILY\n",
      "'s \n",
      "apartment RESIDENCE\n",
      ". \n"
     ]
    }
   ],
   "source": [
    "for token in doc:\n",
    "    print(token, token._.concept_tag)"
   ]
  },
  {
   "cell_type": "markdown",
   "id": "ef652384",
   "metadata": {},
   "source": [
    "To illustrate how the `ConceptTagger` makes entity extraction simpler, let's process a similar but slightly different sentence. Although the text itself is slightly different, the concept tagger helps normalize it and pick out simpler patterns which will be useful later."
   ]
  },
  {
   "cell_type": "code",
   "execution_count": 13,
   "id": "0e7272aa",
   "metadata": {},
   "outputs": [],
   "source": [
    "text = \"The patient is sleeping in his mother's house.\"\n",
    "doc = nlp(text)"
   ]
  },
  {
   "cell_type": "code",
   "execution_count": 14,
   "id": "41f0fb5d",
   "metadata": {},
   "outputs": [
    {
     "name": "stdout",
     "output_type": "stream",
     "text": [
      "The \n",
      "patient PATIENT\n",
      "is \n",
      "sleeping RESIDES\n",
      "in RESIDES\n",
      "his \n",
      "mother FAMILY\n",
      "'s \n",
      "house RESIDENCE\n",
      ". \n"
     ]
    }
   ],
   "source": [
    "for token in doc:\n",
    "    print(token, token._.concept_tag)"
   ]
  },
  {
   "cell_type": "markdown",
   "id": "37b04e07",
   "metadata": {},
   "source": [
    "Here are the counts of each ConceptTag category:"
   ]
  },
  {
   "cell_type": "code",
   "execution_count": 15,
   "id": "40b9ca06",
   "metadata": {},
   "outputs": [
    {
     "data": {
      "text/plain": [
       "[('FAMILY', 46),\n",
       " ('RESIDENCE', 11),\n",
       " ('HOMELESS_LOCATION', 11),\n",
       " ('TEMPORARY_HOUSING', 6),\n",
       " ('RESIDES', 3),\n",
       " ('PATIENT', 3),\n",
       " ('HOMELESSNESS', 2),\n",
       " ('EMPLOYMENT', 1)]"
      ]
     },
     "execution_count": 15,
     "metadata": {},
     "output_type": "execute_result"
    }
   ],
   "source": [
    "from collections import Counter\n",
    "c = Counter([rule.category for rule in concept_tagger.rules])\n",
    "c.most_common()"
   ]
  },
  {
   "cell_type": "code",
   "execution_count": null,
   "id": "a0ba29c3",
   "metadata": {},
   "outputs": [],
   "source": []
  },
  {
   "cell_type": "markdown",
   "id": "64da1270",
   "metadata": {},
   "source": [
    "## TargetMatcher\n",
    "Target concepts are stored in a spaCy doc as Spans in `doc.ents`. There are numerous ways to add entities to a `Doc`. `TargetMatcher` is a medspaCy class which wraps together [spaCy's rule-based methods](https://spacy.io/usage/rule-based-matching/) and general regular expressions.\n",
    "\n",
    "Similar to the `ConceptTagger` component, we can access the `TargetMatcher` and its rules:"
   ]
  },
  {
   "cell_type": "code",
   "execution_count": 16,
   "id": "551aa214",
   "metadata": {},
   "outputs": [
    {
     "data": {
      "text/plain": [
       "<medspacy.target_matcher.target_matcher.TargetMatcher at 0x7fd12338c910>"
      ]
     },
     "execution_count": 16,
     "metadata": {},
     "output_type": "execute_result"
    }
   ],
   "source": [
    "target_matcher = nlp.get_pipe(\"medspacy_target_matcher\")\n",
    "target_matcher"
   ]
  },
  {
   "cell_type": "code",
   "execution_count": 17,
   "id": "03ead5f6",
   "metadata": {},
   "outputs": [
    {
     "data": {
      "text/plain": [
       "[TargetRule(literal=\"homeless\", category=\"EVIDENCE_OF_HOMELESSNESS\", pattern=[{'LOWER': {'REGEX': 'homeless'}}], attributes=None, on_match=None),\n",
       " TargetRule(literal=\"chronic homelessness\", category=\"EVIDENCE_OF_HOMELESSNESS\", pattern=[{'LOWER': {'REGEX': '^chronic'}}, {'LOWER': {'REGEX': '^homeless'}}], attributes=None, on_match=None),\n",
       " TargetRule(literal=\"literally homeless\", category=\"EVIDENCE_OF_HOMELESSNESS\", pattern=None, attributes=None, on_match=None),\n",
       " TargetRule(literal=\"homeless veteran\", category=\"EVIDENCE_OF_HOMELESSNESS\", pattern=None, attributes=None, on_match=None),\n",
       " TargetRule(literal=\"sleep in <HOMELESS_LOCATION>\", category=\"EVIDENCE_OF_HOMELESSNESS\", pattern=[{'_': {'concept_tag': 'RESIDES'}, 'OP': '+'}, {'OP': '?'}, {'_': {'concept_tag': 'HOMELESS_LOCATION'}}], attributes=None, on_match=None),\n",
       " TargetRule(literal=\"sleep in park\", category=\"EVIDENCE_OF_HOMELESSNESS\", pattern=[{'LEMMA': 'sleep'}, {'LOWER': 'in'}, {'POS': 'DET', 'OP': '?'}, {'LOWER': 'park'}], attributes=None, on_match=None),\n",
       " TargetRule(literal=\"live on streets\", category=\"EVIDENCE_OF_HOMELESSNESS\", pattern=[{'LEMMA': 'live'}, {'LOWER': 'on'}, {'LOWER': 'the', 'OP': '?'}, {'LEMMA': 'street'}], attributes=None, on_match=None),\n",
       " TargetRule(literal=\"lose housing\", category=\"EVIDENCE_OF_HOMELESSNESS\", pattern=[{'LEMMA': 'lose'}, {}, {'_': {'concept_tag': 'RESIDENCE'}, 'OP': '+'}], attributes=None, on_match=None),\n",
       " TargetRule(literal=\"<RESIDES> in <PROPN> Park\", category=\"EVIDENCE_OF_HOMELESSNESS\", pattern=[{'_': {'concept_tag': 'RESIDES'}, 'OP': '+'}, {'LOWER': 'the', 'OP': '?'}, {'IS_TITLE': True, 'OP': '+'}, {'LOWER': 'park'}], attributes=None, on_match=None),\n",
       " TargetRule(literal=\"Is veteran currently homeless? No\", category=\"EVIDENCE_OF_HOMELESSNESS\", pattern=[{'LOWER': 'is'}, {'LOWER': 'the', 'OP': '?'}, {'LOWER': {'IN': ['veteran', 'vet', 'patient', 'pt']}}, {'LOWER': 'currently'}, {'LOWER': 'homeless'}, {'LOWER': '?'}, {'IS_SPACE': True, 'OP': '*'}, {'LOWER': {'IN': ['no', 'n', 'not']}}], attributes={'is_negated': True}, on_match=None)]"
      ]
     },
     "execution_count": 17,
     "metadata": {},
     "output_type": "execute_result"
    }
   ],
   "source": [
    "target_matcher.rules[:10]"
   ]
  },
  {
   "cell_type": "markdown",
   "id": "ca0de56a",
   "metadata": {},
   "source": [
    "Let's look at a few specific rules. The first rule will match any token which contains \"homeless\", as defined in the `pattern` argument:\n",
    "\n",
    "```python\n",
    "TargetRule(literal=\"homeless\", category=\"EVIDENCE_OF_HOMELESSNESS\", pattern=[{'LOWER': {'REGEX': 'homeless'}}], attributes=None, on_match=None)\n",
    "```\n",
    "\n",
    "When an entity is added using a target rule, we can see the original rule in the `span._.target_rule` attribute."
   ]
  },
  {
   "cell_type": "code",
   "execution_count": 18,
   "id": "2c9e259e",
   "metadata": {},
   "outputs": [
    {
     "name": "stdout",
     "output_type": "stream",
     "text": [
      "(Homelessness,)\n",
      "EVIDENCE_OF_HOMELESSNESS\n",
      "TargetRule(literal=\"homeless\", category=\"EVIDENCE_OF_HOMELESSNESS\", pattern=[{'LOWER': {'REGEX': 'homeless'}}], attributes=None, on_match=None)\n"
     ]
    }
   ],
   "source": [
    "doc = nlp(\"Homelessness\")\n",
    "print(doc.ents)\n",
    "print(doc.ents[0].label_)\n",
    "print(doc.ents[0]._.target_rule)\n"
   ]
  },
  {
   "cell_type": "markdown",
   "id": "2d2fb6aa",
   "metadata": {},
   "source": [
    "Here is a slightly different pattern:"
   ]
  },
  {
   "cell_type": "code",
   "execution_count": 19,
   "id": "5d73181d",
   "metadata": {},
   "outputs": [
    {
     "name": "stdout",
     "output_type": "stream",
     "text": [
      "(chronically homeless,)\n",
      "EVIDENCE_OF_HOMELESSNESS\n",
      "TargetRule(literal=\"chronic homelessness\", category=\"EVIDENCE_OF_HOMELESSNESS\", pattern=[{'LOWER': {'REGEX': '^chronic'}}, {'LOWER': {'REGEX': '^homeless'}}], attributes=None, on_match=None)\n"
     ]
    }
   ],
   "source": [
    "doc = nlp(\"The Veteran is chronically homeless\")\n",
    "print(doc.ents)\n",
    "print(doc.ents[0].label_)\n",
    "print(doc.ents[0]._.target_rule)"
   ]
  },
  {
   "cell_type": "code",
   "execution_count": null,
   "id": "01d83c39",
   "metadata": {},
   "outputs": [],
   "source": []
  },
  {
   "cell_type": "markdown",
   "id": "f0dc9689",
   "metadata": {},
   "source": [
    "Let's look at one of the sentences we saw earlier. We already saw how the concept tagger assigns tags to each token. Let's see what entity is extracted and what the rule looks like. Here you can see that the `pattern` looks at the `concept_tag` attribute and looks for token sequences of **\"FAMILY\" \"'s\" \"RESIDENCE\"**, which will match both **\"father's apartment\"** and **\"mother's house\"**:"
   ]
  },
  {
   "cell_type": "code",
   "execution_count": 20,
   "id": "af51960b",
   "metadata": {},
   "outputs": [
    {
     "name": "stdout",
     "output_type": "stream",
     "text": [
      "(father's apartment,)\n",
      "DOUBLING_UP\n"
     ]
    },
    {
     "data": {
      "text/plain": [
       "TargetRule(literal=\"at <FAMILY> <RESIDENCE>\", category=\"DOUBLING_UP\", pattern=[{'LOWER': 'at', 'OP': '?'}, {'_': {'concept_tag': 'FAMILY'}, 'OP': '+'}, {'LOWER': \"'s\"}, {'_': {'concept_tag': 'RESIDENCE'}, 'OP': '+'}], attributes=None, on_match=None)"
      ]
     },
     "execution_count": 20,
     "metadata": {},
     "output_type": "execute_result"
    }
   ],
   "source": [
    "text = \"The Veteran is staying at his father's apartment.\"\n",
    "doc = nlp(text)\n",
    "print(doc.ents)\n",
    "print(doc.ents[0].label_)\n",
    "doc.ents[0]._.target_rule"
   ]
  },
  {
   "cell_type": "code",
   "execution_count": 21,
   "id": "7a238c64",
   "metadata": {},
   "outputs": [
    {
     "name": "stdout",
     "output_type": "stream",
     "text": [
      "(mother's house,)\n",
      "DOUBLING_UP\n"
     ]
    },
    {
     "data": {
      "text/plain": [
       "TargetRule(literal=\"at <FAMILY> <RESIDENCE>\", category=\"DOUBLING_UP\", pattern=[{'LOWER': 'at', 'OP': '?'}, {'_': {'concept_tag': 'FAMILY'}, 'OP': '+'}, {'LOWER': \"'s\"}, {'_': {'concept_tag': 'RESIDENCE'}, 'OP': '+'}], attributes=None, on_match=None)"
      ]
     },
     "execution_count": 21,
     "metadata": {},
     "output_type": "execute_result"
    }
   ],
   "source": [
    "text = \"The patient is sleeping in his mother's house.\"\n",
    "doc = nlp(text)\n",
    "print(doc.ents)\n",
    "print(doc.ents[0].label_)\n",
    "doc.ents[0]._.target_rule"
   ]
  },
  {
   "cell_type": "code",
   "execution_count": null,
   "id": "2a6fda5d",
   "metadata": {},
   "outputs": [],
   "source": []
  },
  {
   "cell_type": "markdown",
   "id": "a7c3a893",
   "metadata": {},
   "source": [
    "Let's go through the texts used in the introduction, visualize the docs, and see what target rules were used:"
   ]
  },
  {
   "cell_type": "code",
   "execution_count": 22,
   "id": "5336ccc1",
   "metadata": {},
   "outputs": [],
   "source": [
    "texts = [\n",
    "    \"The veteran is doing well in her new apartment.\",\n",
    "    \"He has paid his rent.\",\n",
    "    \"He signed a lease\",\n",
    "    \"Veteran slept on the streets.\",\n",
    "    \"The patient is currently literally homeless.\",\n",
    "    \"Spent last night at the Mission.\",\n",
    "    \"Got a bed at a shelter downtown.\",\n",
    "    \"He stayed at his mother's house\",\n",
    "    \"Cannot pay the upcoming rent\",\n",
    "    \"Got an eviction notice.\",\n",
    "    \"Patient with a history of homelessness\",\n",
    "    \"Are you in a house, apartment, or room?\",\n",
    "    \"Here to discuss his housing situation.\",\n",
    "    \"She lives in an apartment building\",\n",
    "    \"The patient is not currently homeless\"\n",
    "]"
   ]
  },
  {
   "cell_type": "code",
   "execution_count": 23,
   "id": "1436e0e0",
   "metadata": {},
   "outputs": [],
   "source": [
    "docs = list(nlp.pipe(texts))"
   ]
  },
  {
   "cell_type": "code",
   "execution_count": 26,
   "id": "b5865071",
   "metadata": {},
   "outputs": [
    {
     "data": {
      "text/html": [
       "<span class=\"tex2jax_ignore\"><div class=\"entities\" style=\"line-height: 2.5; direction: ltr\">The veteran is doing well in \n",
       "<mark class=\"entity\" style=\"background: #2ca02c; padding: 0.45em 0.6em; margin: 0 0.25em; line-height: 1; border-radius: 0.35em;\">\n",
       "    her new apartment.\n",
       "    <span style=\"font-size: 0.8em; font-weight: bold; line-height: 1; border-radius: 0.35em; vertical-align: middle; margin-left: 0.5rem\">EVIDENCE_OF_HOUSING</span>\n",
       "</mark>\n",
       "</div></span>"
      ],
      "text/plain": [
       "<IPython.core.display.HTML object>"
      ]
     },
     "metadata": {},
     "output_type": "display_data"
    },
    {
     "name": "stdout",
     "output_type": "stream",
     "text": [
      "TargetRule(literal=\"<HIS/HER> residence\", category=\"EVIDENCE_OF_HOUSING\", pattern=[{'LOWER': {'IN': ['his', 'her']}}, {'POS': 'ADJ', 'OP': '*', 'LOWER': {'NOT_IN': ['temporary']}}, {'_': {'concept_tag': 'RESIDENCE'}, 'OP': '+', 'LOWER': {'NOT_IN': ['housing', 'home']}}, {'POS': 'NOUN', 'OP': '!'}], attributes=None, on_match=None)\n"
     ]
    },
    {
     "data": {
      "text/html": [
       "<span class=\"tex2jax_ignore\"><div class=\"entities\" style=\"line-height: 2.5; direction: ltr\">He has paid his \n",
       "<mark class=\"entity\" style=\"background: #2ca02c; padding: 0.45em 0.6em; margin: 0 0.25em; line-height: 1; border-radius: 0.35em;\">\n",
       "    rent\n",
       "    <span style=\"font-size: 0.8em; font-weight: bold; line-height: 1; border-radius: 0.35em; vertical-align: middle; margin-left: 0.5rem\">EVIDENCE_OF_HOUSING</span>\n",
       "</mark>\n",
       ".</div></span>"
      ],
      "text/plain": [
       "<IPython.core.display.HTML object>"
      ]
     },
     "metadata": {},
     "output_type": "display_data"
    },
    {
     "name": "stdout",
     "output_type": "stream",
     "text": [
      "TargetRule(literal=\"rent\", category=\"EVIDENCE_OF_HOUSING\", pattern=None, attributes=None, on_match=None)\n"
     ]
    },
    {
     "data": {
      "text/html": [
       "<span class=\"tex2jax_ignore\"><div class=\"entities\" style=\"line-height: 2.5; direction: ltr\">He \n",
       "<mark class=\"entity\" style=\"background: #2ca02c; padding: 0.45em 0.6em; margin: 0 0.25em; line-height: 1; border-radius: 0.35em;\">\n",
       "    signed a lease\n",
       "    <span style=\"font-size: 0.8em; font-weight: bold; line-height: 1; border-radius: 0.35em; vertical-align: middle; margin-left: 0.5rem\">EVIDENCE_OF_HOUSING</span>\n",
       "</mark>\n",
       "</div></span>"
      ],
      "text/plain": [
       "<IPython.core.display.HTML object>"
      ]
     },
     "metadata": {},
     "output_type": "display_data"
    },
    {
     "name": "stdout",
     "output_type": "stream",
     "text": [
      "TargetRule(literal=\"signed a lease\", category=\"EVIDENCE_OF_HOUSING\", pattern=[{'LEMMA': 'sign'}, {'POS': 'DET'}, {'LOWER': 'lease'}], attributes=None, on_match=None)\n"
     ]
    },
    {
     "data": {
      "text/html": [
       "<span class=\"tex2jax_ignore\"><div class=\"entities\" style=\"line-height: 2.5; direction: ltr\">Veteran \n",
       "<mark class=\"entity\" style=\"background: #d62728; padding: 0.45em 0.6em; margin: 0 0.25em; line-height: 1; border-radius: 0.35em;\">\n",
       "    slept on the\n",
       "    <span style=\"font-size: 0.8em; font-weight: bold; line-height: 1; border-radius: 0.35em; vertical-align: middle; margin-left: 0.5rem\">EVIDENCE_OF_HOMELESSNESS</span>\n",
       "</mark>\n",
       " streets.</div></span>"
      ],
      "text/plain": [
       "<IPython.core.display.HTML object>"
      ]
     },
     "metadata": {},
     "output_type": "display_data"
    },
    {
     "name": "stdout",
     "output_type": "stream",
     "text": [
      "TargetRule(literal=\"sleep in <HOMELESS_LOCATION>\", category=\"EVIDENCE_OF_HOMELESSNESS\", pattern=[{'_': {'concept_tag': 'RESIDES'}, 'OP': '+'}, {'OP': '?'}, {'_': {'concept_tag': 'HOMELESS_LOCATION'}}], attributes=None, on_match=None)\n"
     ]
    },
    {
     "data": {
      "text/html": [
       "<span class=\"tex2jax_ignore\"><div class=\"entities\" style=\"line-height: 2.5; direction: ltr\">The patient is currently \n",
       "<mark class=\"entity\" style=\"background: #d62728; padding: 0.45em 0.6em; margin: 0 0.25em; line-height: 1; border-radius: 0.35em;\">\n",
       "    literally homeless\n",
       "    <span style=\"font-size: 0.8em; font-weight: bold; line-height: 1; border-radius: 0.35em; vertical-align: middle; margin-left: 0.5rem\">EVIDENCE_OF_HOMELESSNESS</span>\n",
       "</mark>\n",
       ".</div></span>"
      ],
      "text/plain": [
       "<IPython.core.display.HTML object>"
      ]
     },
     "metadata": {},
     "output_type": "display_data"
    },
    {
     "name": "stdout",
     "output_type": "stream",
     "text": [
      "TargetRule(literal=\"literally homeless\", category=\"EVIDENCE_OF_HOMELESSNESS\", pattern=None, attributes=None, on_match=None)\n"
     ]
    },
    {
     "data": {
      "text/html": [
       "<span class=\"tex2jax_ignore\"><div class=\"entities\" style=\"line-height: 2.5; direction: ltr\">Spent last night \n",
       "<mark class=\"entity\" style=\"background: #ff7f0e; padding: 0.45em 0.6em; margin: 0 0.25em; line-height: 1; border-radius: 0.35em;\">\n",
       "    at the Mission\n",
       "    <span style=\"font-size: 0.8em; font-weight: bold; line-height: 1; border-radius: 0.35em; vertical-align: middle; margin-left: 0.5rem\">TEMPORARY_HOUSING</span>\n",
       "</mark>\n",
       ".</div></span>"
      ],
      "text/plain": [
       "<IPython.core.display.HTML object>"
      ]
     },
     "metadata": {},
     "output_type": "display_data"
    },
    {
     "name": "stdout",
     "output_type": "stream",
     "text": [
      "TargetRule(literal=\"at the <NOUN> mission\", category=\"TEMPORARY_HOUSING\", pattern=[{'LOWER': {'IN': ['at', 'in']}}, {'LOWER': 'the', 'OP': '?'}, {'POS': {'IN': ['PROPN', 'NOUN', 'ADJ']}, 'OP': '*'}, {'LOWER': 'mission'}], attributes=None, on_match=None)\n"
     ]
    },
    {
     "data": {
      "text/html": [
       "<span class=\"tex2jax_ignore\"><div class=\"entities\" style=\"line-height: 2.5; direction: ltr\">Got a bed at a \n",
       "<mark class=\"entity\" style=\"background: #ff7f0e; padding: 0.45em 0.6em; margin: 0 0.25em; line-height: 1; border-radius: 0.35em;\">\n",
       "    shelter\n",
       "    <span style=\"font-size: 0.8em; font-weight: bold; line-height: 1; border-radius: 0.35em; vertical-align: middle; margin-left: 0.5rem\">TEMPORARY_HOUSING</span>\n",
       "</mark>\n",
       " downtown.</div></span>"
      ],
      "text/plain": [
       "<IPython.core.display.HTML object>"
      ]
     },
     "metadata": {},
     "output_type": "display_data"
    },
    {
     "name": "stdout",
     "output_type": "stream",
     "text": [
      "TargetRule(literal=\"shelter\", category=\"TEMPORARY_HOUSING\", pattern=[{'LOWER': {'IN': ['homeless', 'community']}, 'OP': '?'}, {'LOWER': 'shelter'}], attributes=None, on_match=None)\n"
     ]
    },
    {
     "data": {
      "text/html": [
       "<span class=\"tex2jax_ignore\"><div class=\"entities\" style=\"line-height: 2.5; direction: ltr\">He stayed at his \n",
       "<mark class=\"entity\" style=\"background: #8c564b; padding: 0.45em 0.6em; margin: 0 0.25em; line-height: 1; border-radius: 0.35em;\">\n",
       "    mother's house\n",
       "    <span style=\"font-size: 0.8em; font-weight: bold; line-height: 1; border-radius: 0.35em; vertical-align: middle; margin-left: 0.5rem\">DOUBLING_UP</span>\n",
       "</mark>\n",
       "</div></span>"
      ],
      "text/plain": [
       "<IPython.core.display.HTML object>"
      ]
     },
     "metadata": {},
     "output_type": "display_data"
    },
    {
     "name": "stdout",
     "output_type": "stream",
     "text": [
      "TargetRule(literal=\"at <FAMILY> <RESIDENCE>\", category=\"DOUBLING_UP\", pattern=[{'LOWER': 'at', 'OP': '?'}, {'_': {'concept_tag': 'FAMILY'}, 'OP': '+'}, {'LOWER': \"'s\"}, {'_': {'concept_tag': 'RESIDENCE'}, 'OP': '+'}], attributes=None, on_match=None)\n"
     ]
    },
    {
     "data": {
      "text/html": [
       "<span class=\"tex2jax_ignore\"><div class=\"entities\" style=\"line-height: 2.5; direction: ltr\">Cannot pay the upcoming \n",
       "<mark class=\"entity\" style=\"background: #2ca02c; padding: 0.45em 0.6em; margin: 0 0.25em; line-height: 1; border-radius: 0.35em;\">\n",
       "    rent\n",
       "    <span style=\"font-size: 0.8em; font-weight: bold; line-height: 1; border-radius: 0.35em; vertical-align: middle; margin-left: 0.5rem\">EVIDENCE_OF_HOUSING</span>\n",
       "</mark>\n",
       "</div></span>"
      ],
      "text/plain": [
       "<IPython.core.display.HTML object>"
      ]
     },
     "metadata": {},
     "output_type": "display_data"
    },
    {
     "name": "stdout",
     "output_type": "stream",
     "text": [
      "TargetRule(literal=\"rent\", category=\"EVIDENCE_OF_HOUSING\", pattern=None, attributes=None, on_match=None)\n"
     ]
    },
    {
     "data": {
      "text/html": [
       "<span class=\"tex2jax_ignore\"><div class=\"entities\" style=\"line-height: 2.5; direction: ltr\">Got an \n",
       "<mark class=\"entity\" style=\"background: #ffbb78; padding: 0.45em 0.6em; margin: 0 0.25em; line-height: 1; border-radius: 0.35em;\">\n",
       "    eviction notice\n",
       "    <span style=\"font-size: 0.8em; font-weight: bold; line-height: 1; border-radius: 0.35em; vertical-align: middle; margin-left: 0.5rem\">RISK_OF_HOMELESSNESS</span>\n",
       "</mark>\n",
       ".</div></span>"
      ],
      "text/plain": [
       "<IPython.core.display.HTML object>"
      ]
     },
     "metadata": {},
     "output_type": "display_data"
    },
    {
     "name": "stdout",
     "output_type": "stream",
     "text": [
      "TargetRule(literal=\"eviction notice\", category=\"RISK_OF_HOMELESSNESS\", pattern=None, attributes=None, on_match=None)\n"
     ]
    },
    {
     "data": {
      "text/html": [
       "<span class=\"tex2jax_ignore\"><div class=\"entities\" style=\"line-height: 2.5; direction: ltr\">Patient with a history of \n",
       "<mark class=\"entity\" style=\"background: #d62728; padding: 0.45em 0.6em; margin: 0 0.25em; line-height: 1; border-radius: 0.35em;\">\n",
       "    homelessness\n",
       "    <span style=\"font-size: 0.8em; font-weight: bold; line-height: 1; border-radius: 0.35em; vertical-align: middle; margin-left: 0.5rem\">EVIDENCE_OF_HOMELESSNESS</span>\n",
       "</mark>\n",
       "</div></span>"
      ],
      "text/plain": [
       "<IPython.core.display.HTML object>"
      ]
     },
     "metadata": {},
     "output_type": "display_data"
    },
    {
     "name": "stdout",
     "output_type": "stream",
     "text": [
      "TargetRule(literal=\"homeless\", category=\"EVIDENCE_OF_HOMELESSNESS\", pattern=[{'LOWER': {'REGEX': 'homeless'}}], attributes=None, on_match=None)\n"
     ]
    },
    {
     "data": {
      "text/html": [
       "<span class=\"tex2jax_ignore\"><div class=\"entities\" style=\"line-height: 2.5; direction: ltr\">Are you in a \n",
       "<mark class=\"entity\" style=\"background: #2ca02c; padding: 0.45em 0.6em; margin: 0 0.25em; line-height: 1; border-radius: 0.35em;\">\n",
       "    house\n",
       "    <span style=\"font-size: 0.8em; font-weight: bold; line-height: 1; border-radius: 0.35em; vertical-align: middle; margin-left: 0.5rem\">EVIDENCE_OF_HOUSING</span>\n",
       "</mark>\n",
       ", \n",
       "<mark class=\"entity\" style=\"background: #2ca02c; padding: 0.45em 0.6em; margin: 0 0.25em; line-height: 1; border-radius: 0.35em;\">\n",
       "    apartment\n",
       "    <span style=\"font-size: 0.8em; font-weight: bold; line-height: 1; border-radius: 0.35em; vertical-align: middle; margin-left: 0.5rem\">EVIDENCE_OF_HOUSING</span>\n",
       "</mark>\n",
       ", or room?</div></span>"
      ],
      "text/plain": [
       "<IPython.core.display.HTML object>"
      ]
     },
     "metadata": {},
     "output_type": "display_data"
    },
    {
     "name": "stdout",
     "output_type": "stream",
     "text": [
      "TargetRule(literal=\"house\", category=\"EVIDENCE_OF_HOUSING\", pattern=None, attributes=None, on_match=None)\n",
      "TargetRule(literal=\"apartment\", category=\"EVIDENCE_OF_HOUSING\", pattern=None, attributes=None, on_match=None)\n"
     ]
    },
    {
     "data": {
      "text/html": [
       "<span class=\"tex2jax_ignore\"><div class=\"entities\" style=\"line-height: 2.5; direction: ltr\">Here to discuss his \n",
       "<mark class=\"entity\" style=\"background: #dee0e3; padding: 0.45em 0.6em; margin: 0 0.25em; line-height: 1; border-radius: 0.35em;\">\n",
       "    housing situation\n",
       "    <span style=\"font-size: 0.8em; font-weight: bold; line-height: 1; border-radius: 0.35em; vertical-align: middle; margin-left: 0.5rem\">IGNORE</span>\n",
       "</mark>\n",
       ".</div></span>"
      ],
      "text/plain": [
       "<IPython.core.display.HTML object>"
      ]
     },
     "metadata": {},
     "output_type": "display_data"
    },
    {
     "name": "stdout",
     "output_type": "stream",
     "text": [
      "TargetRule(literal=\"housing situation\", category=\"IGNORE\", pattern=None, attributes=None, on_match=None)\n"
     ]
    },
    {
     "data": {
      "text/html": [
       "<span class=\"tex2jax_ignore\"><div class=\"entities\" style=\"line-height: 2.5; direction: ltr\">She lives in an \n",
       "<mark class=\"entity\" style=\"background: #2ca02c; padding: 0.45em 0.6em; margin: 0 0.25em; line-height: 1; border-radius: 0.35em;\">\n",
       "    apartment\n",
       "    <span style=\"font-size: 0.8em; font-weight: bold; line-height: 1; border-radius: 0.35em; vertical-align: middle; margin-left: 0.5rem\">EVIDENCE_OF_HOUSING</span>\n",
       "</mark>\n",
       " building</div></span>"
      ],
      "text/plain": [
       "<IPython.core.display.HTML object>"
      ]
     },
     "metadata": {},
     "output_type": "display_data"
    },
    {
     "name": "stdout",
     "output_type": "stream",
     "text": [
      "TargetRule(literal=\"apartment\", category=\"EVIDENCE_OF_HOUSING\", pattern=None, attributes=None, on_match=None)\n"
     ]
    },
    {
     "data": {
      "text/html": [
       "<span class=\"tex2jax_ignore\"><div class=\"entities\" style=\"line-height: 2.5; direction: ltr\">The patient is not currently \n",
       "<mark class=\"entity\" style=\"background: #d62728; padding: 0.45em 0.6em; margin: 0 0.25em; line-height: 1; border-radius: 0.35em;\">\n",
       "    homeless\n",
       "    <span style=\"font-size: 0.8em; font-weight: bold; line-height: 1; border-radius: 0.35em; vertical-align: middle; margin-left: 0.5rem\">EVIDENCE_OF_HOMELESSNESS</span>\n",
       "</mark>\n",
       "</div></span>"
      ],
      "text/plain": [
       "<IPython.core.display.HTML object>"
      ]
     },
     "metadata": {},
     "output_type": "display_data"
    },
    {
     "name": "stdout",
     "output_type": "stream",
     "text": [
      "TargetRule(literal=\"homeless\", category=\"EVIDENCE_OF_HOMELESSNESS\", pattern=[{'LOWER': {'REGEX': 'homeless'}}], attributes=None, on_match=None)\n"
     ]
    }
   ],
   "source": [
    "for doc in docs:\n",
    "    visualize_ent(doc, colors=ENT_COLORS)\n",
    "    for ent in doc.ents:\n",
    "        print(ent._.target_rule)"
   ]
  },
  {
   "cell_type": "code",
   "execution_count": null,
   "id": "0da95a03",
   "metadata": {},
   "outputs": [],
   "source": []
  },
  {
   "cell_type": "markdown",
   "id": "3782ea79",
   "metadata": {},
   "source": [
    "Here are the counts of each entity category in the rules. Note that some spans are matched specifically to be ignored - these are to disambiguate certain phrases or problematic texts."
   ]
  },
  {
   "cell_type": "code",
   "execution_count": 27,
   "id": "6d5d4f17",
   "metadata": {},
   "outputs": [
    {
     "data": {
      "text/plain": [
       "[('EVIDENCE_OF_HOUSING', 69),\n",
       " ('IGNORE', 59),\n",
       " ('EVIDENCE_OF_HOMELESSNESS', 51),\n",
       " ('TEMPORARY_HOUSING', 37),\n",
       " ('RISK_OF_HOMELESSNESS', 33),\n",
       " ('DOUBLING_UP', 9),\n",
       " ('HOMELESSNESS_HEALTHCARE_SERVICE', 7),\n",
       " ('HEADER', 3)]"
      ]
     },
     "execution_count": 27,
     "metadata": {},
     "output_type": "execute_result"
    }
   ],
   "source": [
    "c = Counter([rule.category for rule in target_matcher.rules])\n",
    "c.most_common()"
   ]
  },
  {
   "cell_type": "code",
   "execution_count": null,
   "id": "aa724fa0",
   "metadata": {},
   "outputs": [],
   "source": []
  }
 ],
 "metadata": {
  "kernelspec": {
   "display_name": "Python 3 (ipykernel)",
   "language": "python",
   "name": "python3"
  },
  "language_info": {
   "codemirror_mode": {
    "name": "ipython",
    "version": 3
   },
   "file_extension": ".py",
   "mimetype": "text/x-python",
   "name": "python",
   "nbconvert_exporter": "python",
   "pygments_lexer": "ipython3",
   "version": "3.9.16"
  }
 },
 "nbformat": 4,
 "nbformat_minor": 5
}
