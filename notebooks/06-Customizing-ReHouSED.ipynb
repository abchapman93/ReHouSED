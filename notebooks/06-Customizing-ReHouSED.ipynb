{
 "cells": [
  {
   "cell_type": "code",
   "execution_count": 1,
   "id": "426edd2f",
   "metadata": {},
   "outputs": [],
   "source": [
    "%load_ext autoreload\n",
    "%autoreload 2"
   ]
  },
  {
   "cell_type": "code",
   "execution_count": 2,
   "id": "f21278b5",
   "metadata": {},
   "outputs": [],
   "source": [
    "import sys\n",
    "sys.path.insert(0, \"../..\")"
   ]
  },
  {
   "cell_type": "code",
   "execution_count": null,
   "id": "e60e2963",
   "metadata": {},
   "outputs": [],
   "source": [
    "from rehoused import build_nlp, visualize_doc_classification\n",
    "from medspacy.visualization import visualize_ent, visualize_dep\n",
    "from rehoused import calculate_rehoused"
   ]
  },
  {
   "cell_type": "code",
   "execution_count": null,
   "id": "0eac076a",
   "metadata": {},
   "outputs": [],
   "source": [
    "%%capture\n",
    "nlp = build_nlp()"
   ]
  },
  {
   "cell_type": "markdown",
   "id": "2843720d",
   "metadata": {},
   "source": [
    "# Appendix. Customizing ReHouSED NLP\n",
    "Like any clinical NLP system, the performance of this model will vary greatly based on your data and specific task. The system implemented in this package is an approximation of what was used in the manuscript, but was modified to be more general and remove any specific references to VA documentation practices. If you apply this to a new dataset, you will need to modify the system based on your EHR, the language used in clinical documents, and changed definitions.\n",
    "\n",
    "## Resources files\n",
    "The majority of logic for the system is contained in the `resources` directory: `rehoused/resources/*`. Each of these files will contain rules corresponding to one of the components described in the notebook. They will mostly be `.py` files, although many rules can also be stored as `.json`. files (the exception being `postprocessing` rules and rules which use more advanced callback functions). The subfolder `target_rules` will each contain rules for different entity classes.\n",
    "```\n",
    "- rehoused/\n",
    "    - resources/\n",
    "        - target_rules/\n",
    "            - doubling_up.py\n",
    "            - evidence_of_homelessness.py\n",
    "            - ...\n",
    "        - callbacks.py\n",
    "        - concept_tag_rules.py\n",
    "        - context_rules.py\n",
    "        - postprocess_rules.py\n",
    "        - preprocess_rules.py\n",
    "        - section_rules.py\n",
    "    - ...\n",
    "```\n",
    "\n",
    "We didn't discuss `preprocess_rules` or `callbacks` in these notebooks, but the medspaCy repo contains examples and documentation.\n",
    "\n",
    "## Loading rules\n",
    "The helper function `rehoused_nlp.utils.build_nlp()` handles instantiating the NLP pipeline and adding rules, but you can always manually load a model and add rules yourselves (again, see medspaCy for more examples).\n",
    "\n",
    "## Adding rules programatically\n",
    "The best way to customize rules is to edit or create resource files like the ones listed above. But you can also add them directly to pipeline components. Each of the examples below will show how to add a rule to one of the components we discussed."
   ]
  },
  {
   "cell_type": "markdown",
   "id": "a0a62088",
   "metadata": {},
   "source": [
    "### TargetMatcher"
   ]
  },
  {
   "cell_type": "code",
   "execution_count": null,
   "id": "a1ada83d",
   "metadata": {},
   "outputs": [],
   "source": [
    "from medspacy.target_matcher import TargetRule\n",
    "\n",
    "target_matcher = nlp.get_pipe(\"target_matcher\")\n",
    "# Add a phrase for a specific homelessness shelter\n",
    "rule = TargetRule(\"SLC Downtown Shelter for the Homeless\", \"TEMPORARY_HOUSING\")\n",
    "target_matcher.add([rule])\n",
    "\n",
    "visualize_ent(nlp(\"He is staying at SLC Downtown Shelter for the Homeless.\"))"
   ]
  },
  {
   "cell_type": "markdown",
   "id": "dbe5f03b",
   "metadata": {},
   "source": [
    "### ConText"
   ]
  },
  {
   "cell_type": "code",
   "execution_count": null,
   "id": "99f3f32f",
   "metadata": {},
   "outputs": [],
   "source": [
    "from medspacy.context import ConTextRule\n",
    "\n",
    "context = nlp.get_pipe(\"context\")\n",
    "# Add a phrase for matching dates and considering them historical\n",
    "rule = ConTextRule(\"in Xxx 20xx\", \"HISTORICAL\", direction=\"BIDIRECTIONAL\",\n",
    "                  pattern=[\n",
    "                      {\"LOWER\": \"in\"},\n",
    "                      {\"OP\": \"?\"},\n",
    "                      {\"LOWER\": {\"REGEX\": r\"20[01]\\d$\"}}\n",
    "                  ]\n",
    "                  )\n",
    "context.add([rule])\n",
    "\n",
    "visualize_dep(nlp(\"He was homeless in September 2016.\"))"
   ]
  },
  {
   "cell_type": "markdown",
   "id": "20f21ecd",
   "metadata": {},
   "source": [
    "### Section detection"
   ]
  },
  {
   "cell_type": "code",
   "execution_count": null,
   "id": "798a2e09",
   "metadata": {},
   "outputs": [],
   "source": [
    "from medspacy.section_detection import SectionRule\n",
    "\n",
    "sectionizer = nlp.get_pipe(\"sectionizer\")\n",
    "# Add a specific note header\n",
    "rule = SectionRule(\"Previous medical information:\", \"past_medical_history\")\n",
    "sectionizer.add([rule])\n",
    "\n",
    "visualize_ent(nlp(\"Previous medical information: Homelessness\"))"
   ]
  },
  {
   "cell_type": "markdown",
   "id": "02381543",
   "metadata": {},
   "source": [
    "### Postprocessing"
   ]
  },
  {
   "cell_type": "code",
   "execution_count": null,
   "id": "dc412d07",
   "metadata": {},
   "outputs": [],
   "source": [
    "from medspacy.postprocess import PostprocessingRule\n",
    "\n",
    "postprocessor = nlp.get_pipe(\"postprocessor\")\n",
    "# Add a rule to consider mentions in the \n",
    "# rule = SectionRule(\"Previous medical information:\", \"past_medical_history\")\n",
    "# sectionizer.add([rule])\n",
    "\n",
    "# visualize_ent(nlp(\"Previous medical information: Homelessness\"))"
   ]
  },
  {
   "cell_type": "code",
   "execution_count": null,
   "id": "e08b3a0a",
   "metadata": {},
   "outputs": [],
   "source": [
    "rehoused."
   ]
  },
  {
   "cell_type": "code",
   "execution_count": null,
   "id": "03279517",
   "metadata": {},
   "outputs": [],
   "source": [
    "doc = nlp(\"Discharge instructions: Learn more about resources for stable housing.\")"
   ]
  },
  {
   "cell_type": "code",
   "execution_count": null,
   "id": "00a653b7",
   "metadata": {},
   "outputs": [],
   "source": [
    "visualize_doc_classification(doc)"
   ]
  },
  {
   "cell_type": "code",
   "execution_count": null,
   "id": "0a611fa5",
   "metadata": {},
   "outputs": [],
   "source": [
    "visualize_ent(nlp(\"History of present illness: Met today at the clinic. Patient is a 30-year-old gentelman who has experienced homelessness.\"))"
   ]
  },
  {
   "cell_type": "code",
   "execution_count": null,
   "id": "ce1a3926",
   "metadata": {},
   "outputs": [],
   "source": [
    "rule = PostprocessingRule(\n",
    "    patterns=[]\n",
    ")"
   ]
  },
  {
   "cell_type": "code",
   "execution_count": null,
   "id": "bacc2a46",
   "metadata": {},
   "outputs": [],
   "source": []
  },
  {
   "cell_type": "code",
   "execution_count": null,
   "id": "ac49780f",
   "metadata": {},
   "outputs": [],
   "source": [
    "df = pd.read_csv(\"./example_rehoused_longitudinal.tsv\", sep=\"\\t\")"
   ]
  },
  {
   "cell_type": "code",
   "execution_count": null,
   "id": "d026af91",
   "metadata": {},
   "outputs": [],
   "source": [
    "df"
   ]
  },
  {
   "cell_type": "markdown",
   "id": "a46d413b",
   "metadata": {},
   "source": [
    "First, we'll process all of these documents with our NLP model:"
   ]
  },
  {
   "cell_type": "code",
   "execution_count": null,
   "id": "da725124",
   "metadata": {},
   "outputs": [],
   "source": [
    "docs = list(nlp.pipe(df[\"text\"]))"
   ]
  },
  {
   "cell_type": "code",
   "execution_count": null,
   "id": "bcef4863",
   "metadata": {},
   "outputs": [],
   "source": [
    "df[\"doc\"] = docs"
   ]
  },
  {
   "cell_type": "code",
   "execution_count": null,
   "id": "ee003f36",
   "metadata": {},
   "outputs": [],
   "source": [
    "df[\"document_classification\"] = [doc._.document_classification for doc in docs]"
   ]
  },
  {
   "cell_type": "markdown",
   "id": "b43f7c0b",
   "metadata": {},
   "source": [
    "Let's look at how each of these documents were processed. Notice that some examples may not exactly be correct, which could introduce some noise to our classification:"
   ]
  },
  {
   "cell_type": "code",
   "execution_count": null,
   "id": "27cf483e",
   "metadata": {},
   "outputs": [],
   "source": [
    "for i, row in df.iterrows():\n",
    "    print(\"Time:\", row[\"time_to_index\"])\n",
    "    visualize_doc_classification(row[\"doc\"])\n",
    "    print(\"----\"*5)\n",
    "    print()"
   ]
  },
  {
   "cell_type": "markdown",
   "id": "fa9d6bba",
   "metadata": {},
   "source": [
    "The helper function `calculate_rehoused` will group the DataFrame into 30-day windows (or whatever time window is specified) and calculate the ReHouSED score at each time point. Because this is a simple step, you could also easily do this manually.\n",
    "\n",
    "The resulting DataFrame contains a column specifying the time window, how many documents were classfied as **\"STABLY_HOUSED\"**, how many were classified as **\"UNSTABLY_HOUSED\"**, and the ReHouSED score calculated as the proportion. Note that although the input had 4 documents per time window, some documents were classified as **\"UNKNOWN\"** and dropped from the output."
   ]
  },
  {
   "cell_type": "code",
   "execution_count": null,
   "id": "afd074c9",
   "metadata": {},
   "outputs": [],
   "source": [
    "rh = calculate_rehoused(df, window_size=30, patient_col=\"pt_id\")"
   ]
  },
  {
   "cell_type": "code",
   "execution_count": null,
   "id": "ad1e3676",
   "metadata": {},
   "outputs": [],
   "source": [
    "rh.head()"
   ]
  },
  {
   "cell_type": "markdown",
   "id": "70635ce7",
   "metadata": {},
   "source": [
    "The ReHouSED score can now be used to show a longitudinal representation of a patient's housing stability. If we plot the ReHouSED score over time, we can see the patient's change from homelessness to stable housing. "
   ]
  },
  {
   "cell_type": "code",
   "execution_count": null,
   "id": "089f71a5",
   "metadata": {},
   "outputs": [],
   "source": [
    "plt.step(rh[\"time_window\"], rh[\"rehoused\"], marker=\"o\", where=\"post\")\n",
    "\n",
    "plt.xticks([0, 1, 2, 3])\n",
    "plt.xlabel(\"Time step\")\n",
    "plt.ylabel(\"ReHouSED\")\n",
    "plt.title(\"Patient ReHouSED score over 90 days\");"
   ]
  },
  {
   "cell_type": "markdown",
   "id": "2523dc80",
   "metadata": {},
   "source": [
    "This aggregation method allows for variation between documents. A patient with a large number of documents will likely have a more consistent and correct ReHouSED score. And calculating the ReHouSED score for a large number of patients may be used to do population-level analysis. Future work will look more at how to interpret this score and use it for population-level analysis."
   ]
  },
  {
   "cell_type": "code",
   "execution_count": null,
   "id": "0da95a03",
   "metadata": {},
   "outputs": [],
   "source": []
  }
 ],
 "metadata": {
  "kernelspec": {
   "display_name": "Python 3 (ipykernel)",
   "language": "python",
   "name": "python3"
  },
  "language_info": {
   "codemirror_mode": {
    "name": "ipython",
    "version": 3
   },
   "file_extension": ".py",
   "mimetype": "text/x-python",
   "name": "python",
   "nbconvert_exporter": "python",
   "pygments_lexer": "ipython3",
   "version": "3.8.11"
  }
 },
 "nbformat": 4,
 "nbformat_minor": 5
}
