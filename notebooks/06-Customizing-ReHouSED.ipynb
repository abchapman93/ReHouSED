{
 "cells": [
  {
   "cell_type": "code",
   "execution_count": 1,
   "id": "426edd2f",
   "metadata": {},
   "outputs": [],
   "source": [
    "%load_ext autoreload\n",
    "%autoreload 2"
   ]
  },
  {
   "cell_type": "code",
   "execution_count": 2,
   "id": "f21278b5",
   "metadata": {},
   "outputs": [],
   "source": [
    "import sys\n",
    "sys.path.insert(0, \"..\")"
   ]
  },
  {
   "cell_type": "code",
   "execution_count": 3,
   "id": "e60e2963",
   "metadata": {},
   "outputs": [],
   "source": [
    "from rehoused_nlp import build_nlp, visualize_doc_classification\n",
    "from medspacy.visualization import visualize_ent, visualize_dep\n",
    "from rehoused_nlp import calculate_rehoused\n",
    "\n",
    "from helpers import ENT_COLORS"
   ]
  },
  {
   "cell_type": "code",
   "execution_count": 4,
   "id": "19605bad",
   "metadata": {},
   "outputs": [],
   "source": [
    "import warnings\n",
    "warnings.filterwarnings(\"ignore\")"
   ]
  },
  {
   "cell_type": "code",
   "execution_count": 5,
   "id": "0eac076a",
   "metadata": {},
   "outputs": [],
   "source": [
    "%%capture\n",
    "nlp = build_nlp()"
   ]
  },
  {
   "cell_type": "markdown",
   "id": "2843720d",
   "metadata": {},
   "source": [
    "# Appendix. Customizing ReHouSED NLP\n",
    "Like any clinical NLP system, the performance of this model will vary greatly based on your data and specific task. The system implemented in this package is an approximation of what was used in the manuscript, but was modified to be more general and remove any specific references to VA documentation practices. If you apply this to a new dataset, you will need to modify the system based on your EHR, the language used in clinical documents, and changed definitions.\n",
    "\n",
    "## Resources files\n",
    "The majority of logic for the system is contained in the `resources` directory: `rehoused/resources/*`. Each of these files will contain rules corresponding to one of the components described in the notebook. They will mostly be `.py` files, although many rules can also be stored as `.json`. files (the exception being `postprocessing` rules and rules which use more advanced callback functions). The subfolder `target_rules` will each contain rules for different entity classes.\n",
    "```\n",
    "- rehoused_nlp/\n",
    "    - resources/\n",
    "        - target_rules/\n",
    "            - doubling_up.py\n",
    "            - evidence_of_homelessness.py\n",
    "            - ...\n",
    "        - callbacks.py\n",
    "        - concept_tag_rules.py\n",
    "        - context_rules.py\n",
    "        - postprocess_rules.py\n",
    "        - preprocess_rules.py\n",
    "        - section_rules.py\n",
    "    - ...\n",
    "```\n",
    "\n",
    "We didn't discuss `preprocess_rules` or `callbacks` in these notebooks, but the medspaCy repo contains examples and documentation.\n",
    "\n",
    "## Loading rules\n",
    "The helper function `rehoused_nlp.utils.build_nlp()` handles instantiating the NLP pipeline and adding rules, but you can always manually load a model and add rules yourselves (again, see medspaCy for more examples).\n",
    "\n",
    "## Adding rules programatically\n",
    "The best way to customize rules is to edit or create resource files like the ones listed above. But you can also add them directly to pipeline components. Each of the examples below will show how to add a rule to one of the components we discussed."
   ]
  },
  {
   "cell_type": "markdown",
   "id": "0eb84175",
   "metadata": {},
   "source": [
    "### TargetMatcher"
   ]
  },
  {
   "cell_type": "code",
   "execution_count": 7,
   "id": "0efb3549",
   "metadata": {},
   "outputs": [
    {
     "data": {
      "text/html": [
       "<span class=\"tex2jax_ignore\"><div class=\"entities\" style=\"line-height: 2.5; direction: ltr\">He is \n",
       "<mark class=\"entity\" style=\"background: #9567bd; padding: 0.45em 0.6em; margin: 0 0.25em; line-height: 1; border-radius: 0.35em;\">\n",
       "    staying at\n",
       "    <span style=\"font-size: 0.8em; font-weight: bold; line-height: 1; border-radius: 0.35em; vertical-align: middle; margin-left: 0.5rem\">RESIDES_IN</span>\n",
       "</mark>\n",
       " \n",
       "<mark class=\"entity\" style=\"background: #ff7f0e; padding: 0.45em 0.6em; margin: 0 0.25em; line-height: 1; border-radius: 0.35em;\">\n",
       "    SLC Downtown Shelter for the Homeless\n",
       "    <span style=\"font-size: 0.8em; font-weight: bold; line-height: 1; border-radius: 0.35em; vertical-align: middle; margin-left: 0.5rem\">TEMPORARY_HOUSING</span>\n",
       "</mark>\n",
       ".</div></span>"
      ],
      "text/plain": [
       "<IPython.core.display.HTML object>"
      ]
     },
     "metadata": {},
     "output_type": "display_data"
    }
   ],
   "source": [
    "from medspacy.target_matcher import TargetRule\n",
    "\n",
    "target_matcher = nlp.get_pipe(\"medspacy_target_matcher\")\n",
    "# Add a phrase for a specific homelessness shelter\n",
    "rule = TargetRule(\"SLC Downtown Shelter for the Homeless\", \"TEMPORARY_HOUSING\")\n",
    "target_matcher.add([rule])\n",
    "\n",
    "visualize_ent(nlp(\"He is staying at SLC Downtown Shelter for the Homeless.\"), colors=ENT_COLORS)"
   ]
  },
  {
   "cell_type": "markdown",
   "id": "fde87fcd",
   "metadata": {},
   "source": [
    "### ConText"
   ]
  },
  {
   "cell_type": "code",
   "execution_count": 9,
   "id": "44c56213",
   "metadata": {},
   "outputs": [
    {
     "data": {
      "text/html": [
       "<span class=\"tex2jax_ignore\"><svg xmlns=\"http://www.w3.org/2000/svg\" xmlns:xlink=\"http://www.w3.org/1999/xlink\" xml:lang=\"en\" id=\"be5c461c267b43838e12642767119e14-0\" class=\"displacy\" width=\"750\" height=\"224.5\" direction=\"ltr\" style=\"max-width: none; height: 224.5px; color: #000000; background: #ffffff; font-family: Arial; direction: ltr\">\n",
       "<text class=\"displacy-token\" fill=\"currentColor\" text-anchor=\"middle\" y=\"134.5\">\n",
       "    <tspan class=\"displacy-word\" fill=\"currentColor\" x=\"50\">He</tspan>\n",
       "    <tspan class=\"displacy-tag\" dy=\"2em\" fill=\"currentColor\" x=\"50\"></tspan>\n",
       "</text>\n",
       "\n",
       "<text class=\"displacy-token\" fill=\"currentColor\" text-anchor=\"middle\" y=\"134.5\">\n",
       "    <tspan class=\"displacy-word\" fill=\"currentColor\" x=\"225\">was homeless</tspan>\n",
       "    <tspan class=\"displacy-tag\" dy=\"2em\" fill=\"currentColor\" x=\"225\">EVIDENCE_OF_HOMELESSNESS</tspan>\n",
       "</text>\n",
       "\n",
       "<text class=\"displacy-token\" fill=\"currentColor\" text-anchor=\"middle\" y=\"134.5\">\n",
       "    <tspan class=\"displacy-word\" fill=\"currentColor\" x=\"400\">in September 2016</tspan>\n",
       "    <tspan class=\"displacy-tag\" dy=\"2em\" fill=\"currentColor\" x=\"400\"></tspan>\n",
       "</text>\n",
       "\n",
       "<text class=\"displacy-token\" fill=\"currentColor\" text-anchor=\"middle\" y=\"134.5\">\n",
       "    <tspan class=\"displacy-word\" fill=\"currentColor\" x=\"575\">.</tspan>\n",
       "    <tspan class=\"displacy-tag\" dy=\"2em\" fill=\"currentColor\" x=\"575\"></tspan>\n",
       "</text>\n",
       "\n",
       "<g class=\"displacy-arrow\">\n",
       "    <path class=\"displacy-arc\" id=\"arrow-be5c461c267b43838e12642767119e14-0-0\" stroke-width=\"2px\" d=\"M245,89.5 C245,2.0 400.0,2.0 400.0,89.5\" fill=\"none\" stroke=\"currentColor\"/>\n",
       "    <text dy=\"1.25em\" style=\"font-size: 0.8em; letter-spacing: 1px\">\n",
       "        <textPath xlink:href=\"#arrow-be5c461c267b43838e12642767119e14-0-0\" class=\"displacy-label\" startOffset=\"50%\" side=\"left\" fill=\"currentColor\" text-anchor=\"middle\">HISTORICAL</textPath>\n",
       "    </text>\n",
       "    <path class=\"displacy-arrowhead\" d=\"M245,91.5 L237,79.5 253,79.5\" fill=\"currentColor\"/>\n",
       "</g>\n",
       "</svg></span>"
      ],
      "text/plain": [
       "<IPython.core.display.HTML object>"
      ]
     },
     "metadata": {},
     "output_type": "display_data"
    }
   ],
   "source": [
    "from medspacy.context import ConTextRule\n",
    "\n",
    "context = nlp.get_pipe(\"medspacy_context\")\n",
    "# Add a phrase for matching dates and considering them historical\n",
    "rule = ConTextRule(\"in Xxx 20xx\", \"HISTORICAL\", direction=\"BIDIRECTIONAL\",\n",
    "                  pattern=[\n",
    "                      {\"LOWER\": \"in\"},\n",
    "                      {\"OP\": \"?\"},\n",
    "                      {\"LOWER\": {\"REGEX\": r\"20[01]\\d$\"}}\n",
    "                  ]\n",
    "                  )\n",
    "context.add([rule])\n",
    "\n",
    "visualize_dep(nlp(\"He was homeless in September 2016.\"))"
   ]
  },
  {
   "cell_type": "markdown",
   "id": "bc5f55cb",
   "metadata": {},
   "source": [
    "### Section detection"
   ]
  },
  {
   "cell_type": "code",
   "execution_count": 11,
   "id": "8b66da54",
   "metadata": {},
   "outputs": [
    {
     "data": {
      "text/html": [
       "<span class=\"tex2jax_ignore\"><div class=\"entities\" style=\"line-height: 2.5; direction: ltr\">\n",
       "<mark class=\"entity\" style=\"background: #ddd; padding: 0.45em 0.6em; margin: 0 0.25em; line-height: 1; border-radius: 0.35em;\">\n",
       "    Previous medical information:\n",
       "    <span style=\"font-size: 0.8em; font-weight: bold; line-height: 1; border-radius: 0.35em; vertical-align: middle; margin-left: 0.5rem\"><< PAST_MEDICAL_HISTORY >></span>\n",
       "</mark>\n",
       " \n",
       "<mark class=\"entity\" style=\"background: #d62728; padding: 0.45em 0.6em; margin: 0 0.25em; line-height: 1; border-radius: 0.35em;\">\n",
       "    Homelessness\n",
       "    <span style=\"font-size: 0.8em; font-weight: bold; line-height: 1; border-radius: 0.35em; vertical-align: middle; margin-left: 0.5rem\">EVIDENCE_OF_HOMELESSNESS</span>\n",
       "</mark>\n",
       "</div></span>"
      ],
      "text/plain": [
       "<IPython.core.display.HTML object>"
      ]
     },
     "metadata": {},
     "output_type": "display_data"
    }
   ],
   "source": [
    "from medspacy.section_detection import SectionRule\n",
    "\n",
    "sectionizer = nlp.get_pipe(\"medspacy_sectionizer\")\n",
    "# Add a specific note header\n",
    "rule = SectionRule(\"Previous medical information:\", \"past_medical_history\")\n",
    "sectionizer.add([rule])\n",
    "\n",
    "visualize_ent(nlp(\"Previous medical information: Homelessness\"), colors=ENT_COLORS)"
   ]
  },
  {
   "cell_type": "markdown",
   "id": "9e46f685",
   "metadata": {},
   "source": [
    "### Postprocessing"
   ]
  },
  {
   "cell_type": "code",
   "execution_count": 12,
   "id": "c4052d2c",
   "metadata": {},
   "outputs": [
    {
     "name": "stdout",
     "output_type": "stream",
     "text": [
      "Before:\n",
      "stable housing\n",
      "\n"
     ]
    },
    {
     "data": {
      "text/html": [
       "<h3>Document Classification: STABLY_HOUSED</h3><div class=\"entities\" style=\"line-height: 2.5; direction: ltr\">\n",
       "<mark class=\"entity\" style=\"background: #dee0e3; padding: 0.45em 0.6em; margin: 0 0.25em; line-height: 1; border-radius: 0.35em;\">\n",
       "    Discharge instructions:\n",
       "    <span style=\"font-size: 0.8em; font-weight: bold; line-height: 1; border-radius: 0.35em; vertical-align: middle; margin-left: 0.5rem\"><< PATIENT_INSTRUCTIONS >></span>\n",
       "</mark>\n",
       " Learn more about resources for \n",
       "<mark class=\"entity\" style=\"background: #1f77b4; padding: 0.45em 0.6em; margin: 0 0.25em; line-height: 1; border-radius: 0.35em;\">\n",
       "    stable housing\n",
       "    <span style=\"font-size: 0.8em; font-weight: bold; line-height: 1; border-radius: 0.35em; vertical-align: middle; margin-left: 0.5rem\">EVIDENCE_OF_HOUSING</span>\n",
       "</mark>\n",
       ".</div>"
      ],
      "text/plain": [
       "<IPython.core.display.HTML object>"
      ]
     },
     "metadata": {},
     "output_type": "display_data"
    },
    {
     "name": "stdout",
     "output_type": "stream",
     "text": [
      "After:\n",
      "stable housing\n",
      "Passed: PostprocessingRule: None - None on ent: stable housing Discharge instructions: Learn more about resources for stable housing.\n",
      "\n"
     ]
    },
    {
     "data": {
      "text/html": [
       "<h3>Document Classification: UNKNOWN</h3><div class=\"entities\" style=\"line-height: 2.5; direction: ltr\">\n",
       "<mark class=\"entity\" style=\"background: #ddd; padding: 0.45em 0.6em; margin: 0 0.25em; line-height: 1; border-radius: 0.35em;\">\n",
       "    Discharge instructions:\n",
       "    <span style=\"font-size: 0.8em; font-weight: bold; line-height: 1; border-radius: 0.35em; vertical-align: middle; margin-left: 0.5rem\"><< PATIENT_INSTRUCTIONS >></span>\n",
       "</mark>\n",
       " Learn more about resources for \n",
       "<mark class=\"entity\" style=\"background: #2ca02c; padding: 0.45em 0.6em; margin: 0 0.25em; line-height: 1; border-radius: 0.35em;\">\n",
       "    stable housing\n",
       "    <span style=\"font-size: 0.8em; font-weight: bold; line-height: 1; border-radius: 0.35em; vertical-align: middle; margin-left: 0.5rem\">EVIDENCE_OF_HOUSING</span>\n",
       "</mark>\n",
       ".</div>"
      ],
      "text/plain": [
       "<IPython.core.display.HTML object>"
      ]
     },
     "metadata": {},
     "output_type": "display_data"
    }
   ],
   "source": [
    "from medspacy.postprocess import PostprocessingRule, PostprocessingPattern\n",
    "from rehoused_nlp.resources.postprocess_rules import set_ignored\n",
    "\n",
    "\n",
    "postprocessor = nlp.get_pipe(\"medspacy_postprocessor\")\n",
    "postprocessor.debug = True\n",
    "# Add a rule to ignore mentions of entities in the \"patient_instructions\" section\n",
    "text = \"Discharge instructions: Learn more about resources for stable housing.\"\n",
    "\n",
    "print(\"Before:\")\n",
    "visualize_doc_classification(nlp(text))\n",
    "\n",
    "rule = PostprocessingRule(\n",
    "    patterns=[\n",
    "        PostprocessingPattern(lambda x:x._.section_category == \"patient_instructions\")\n",
    "    ],\n",
    "    action=set_ignored,\n",
    "    action_args=(True,)\n",
    ")\n",
    "\n",
    "postprocessor.add([rule])\n",
    "print(\"After:\")\n",
    "visualize_doc_classification(nlp(text), colors=ENT_COLORS)"
   ]
  },
  {
   "cell_type": "code",
   "execution_count": null,
   "id": "15ff1aba",
   "metadata": {},
   "outputs": [],
   "source": []
  },
  {
   "cell_type": "markdown",
   "id": "afa1f138",
   "metadata": {},
   "source": [
    "## Saving rules\n",
    "As mentioned before, some rules have to be saved as .py files. But `TargetRules`, `ConTextRules`, and `SectionRules` can be saved as JSON files, which can be convenient for sharing with other systems, such as systems other than medspaCy:"
   ]
  },
  {
   "cell_type": "code",
   "execution_count": 13,
   "id": "98f9b98d",
   "metadata": {},
   "outputs": [],
   "source": [
    "rules = target_matcher.rules[:5]"
   ]
  },
  {
   "cell_type": "code",
   "execution_count": 14,
   "id": "a67b0cab",
   "metadata": {},
   "outputs": [],
   "source": [
    "TargetRule.to_json(rules, \"./example_target_rules.json\")"
   ]
  },
  {
   "cell_type": "code",
   "execution_count": 15,
   "id": "273abde8",
   "metadata": {},
   "outputs": [
    {
     "name": "stdout",
     "output_type": "stream",
     "text": [
      "{'target_rules': [{'literal': 'homeless', 'category': 'EVIDENCE_OF_HOMELESSNESS', 'pattern': [{'LOWER': {'REGEX': 'homeless'}}]}, {'literal': 'chronic homelessness', 'category': 'EVIDENCE_OF_HOMELESSNESS', 'pattern': [{'LOWER': {'REGEX': '^chronic'}}, {'LOWER': {'REGEX': '^homeless'}}]}, {'literal': 'literally homeless', 'category': 'EVIDENCE_OF_HOMELESSNESS'}, {'literal': 'homeless veteran', 'category': 'EVIDENCE_OF_HOMELESSNESS'}, {'literal': 'sleep in <HOMELESS_LOCATION>', 'category': 'EVIDENCE_OF_HOMELESSNESS', 'pattern': [{'_': {'concept_tag': 'RESIDES'}, 'OP': '+'}, {'OP': '?'}, {'_': {'concept_tag': 'HOMELESS_LOCATION'}}]}]}\n"
     ]
    }
   ],
   "source": [
    "import json\n",
    "with open(\"./example_target_rules.json\") as f:\n",
    "    print(json.load(f))"
   ]
  },
  {
   "cell_type": "code",
   "execution_count": null,
   "id": "66547a78",
   "metadata": {},
   "outputs": [],
   "source": []
  }
 ],
 "metadata": {
  "kernelspec": {
   "display_name": "Python 3 (ipykernel)",
   "language": "python",
   "name": "python3"
  },
  "language_info": {
   "codemirror_mode": {
    "name": "ipython",
    "version": 3
   },
   "file_extension": ".py",
   "mimetype": "text/x-python",
   "name": "python",
   "nbconvert_exporter": "python",
   "pygments_lexer": "ipython3",
   "version": "3.9.16"
  }
 },
 "nbformat": 4,
 "nbformat_minor": 5
}
