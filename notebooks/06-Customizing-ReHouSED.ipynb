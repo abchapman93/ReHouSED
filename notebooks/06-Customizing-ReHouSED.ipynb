{
 "cells": [
  {
   "cell_type": "code",
   "execution_count": 1,
   "id": "426edd2f",
   "metadata": {},
   "outputs": [],
   "source": [
    "%load_ext autoreload\n",
    "%autoreload 2"
   ]
  },
  {
   "cell_type": "code",
   "execution_count": 2,
   "id": "f21278b5",
   "metadata": {},
   "outputs": [],
   "source": [
    "import sys\n",
    "sys.path.insert(0, \"..\")"
   ]
  },
  {
   "cell_type": "code",
   "execution_count": 4,
   "id": "e60e2963",
   "metadata": {},
   "outputs": [],
   "source": [
    "from rehoused_nlp import build_nlp, visualize_doc_classification\n",
    "from medspacy.visualization import visualize_ent, visualize_dep\n",
    "\n",
    "from helpers import ENT_COLORS"
   ]
  },
  {
   "cell_type": "code",
   "execution_count": 5,
   "id": "19605bad",
   "metadata": {},
   "outputs": [],
   "source": [
    "import warnings\n",
    "warnings.filterwarnings(\"ignore\")"
   ]
  },
  {
   "cell_type": "code",
   "execution_count": 6,
   "id": "0eac076a",
   "metadata": {},
   "outputs": [],
   "source": [
    "%%capture\n",
    "nlp = build_nlp()"
   ]
  },
  {
   "cell_type": "markdown",
   "id": "ac77f6da-688a-4b0d-be11-352a88a7b866",
   "metadata": {},
   "source": [
    "# Appendix. Customizing ReHouSED NLP\n",
    "Like any clinical NLP system, the performance of this model will vary greatly based on your data and specific task. The system implemented in this package is an approximation of what was used in the manuscript, but was modified to be more general and remove any specific references to VA documentation practices. If you apply this to a new dataset, you will need to modify the system based on your EHR, the language used in clinical documents, and changed definitions.\n",
    "\n",
    "## Adding rules using a config file\n",
    "\n",
    "### Resources files\n",
    "The majority of logic for the system is contained in the `resources` directory: `rehoused/resources/*`. Each of these files will contain rules corresponding to one of the components described in the notebook. They will mostly be `.json` files and I've attempted to organize them by class.\n",
    "\n",
    "\n",
    "```\n",
    "- rehoused_nlp/\n",
    "    - resources/\n",
    "        - target_rules/\n",
    "            - doubling_up.json\n",
    "            - homeless.json\n",
    "            - ...\n",
    "        - callbacks.py\n",
    "        - concept_tag_rules/\n",
    "        - configs/\n",
    "        - context_rules/\n",
    "        - postprocess_rules.py\n",
    "        - preprocess_rules.py\n",
    "        - section_rules/\n",
    "    - ...\n",
    "```\n",
    "\n",
    "We didn't discuss `preprocess_rules` or `callbacks` in these notebooks, but the medspaCy repo contains examples and documentation.\n",
    "\n",
    "### Config files\n",
    "The `config` directory contains a JSON file that specifies which rules should be loaded into ReHouSED. This allows the user to add new rules or disable existing rules by specifying a different config file. We'll show an example of how to do this.\n",
    "\n",
    "First, let's look at what one of the resources files looks like:"
   ]
  },
  {
   "cell_type": "code",
   "execution_count": 16,
   "id": "1f2e9dbb-4391-4bb8-a6fb-a1174bb548f7",
   "metadata": {},
   "outputs": [
    {
     "name": "stdout",
     "output_type": "stream",
     "text": [
      "{\n",
      "    \"target_rules\": [\n",
      "        {\n",
      "            \"category\": \"EVIDENCE_OF_HOMELESSNESS\",\n",
      "            \"literal\": \"(SCT 266935003)\",\n",
      "            \"attributes\": {\n",
      "                \"is_historical\": true\n",
      "            }\n",
      "        },\n",
      "        {\n",
      "            \"category\": \"EVIDENCE_OF_HOMELESSNESS\",\n",
      "            \"literal\": \"<RESIDES> ... <HOMELESS_LOCATION>\",\n",
      "            \"pattern\": [\n",
      "                {\n",
      "                    \"_\": {\n",
      "                        \"concept_tag\": \"HOMELESS_LOCATION\"\n",
      "                    },\n",
      "                    \"OP\": \"+\"\n",
      "                }\n",
      "            ]\n",
      "        },\n",
      "        {\n",
      "            \"category\": \"EVIDENCE_OF_HOMELESSNESS\",\n",
      "            \"literal\": \"admitted from <HOMELESS_LOCATION>\",\n",
      "            \"pattern\": [\n",
      "                {\n",
      "                    \"LOWER\": {\n",
      "                        \"REGEX\": \"^admit\"\n",
      "                    }\n",
      "                },\n",
      "                {\n",
      "                    \"LOWER\": \"from\"\n",
      "                },\n",
      "                {\n",
      "                    \"OP\": \"?\"\n",
      "                },\n",
      "               \n"
     ]
    }
   ],
   "source": [
    "import json\n",
    "\n",
    "fp = \"../rehoused_nlp/resources/target_matcher/homeless.json\"\n",
    "\n",
    "with open(fp) as f:\n",
    "    json_str = json.dumps(json.load(f), indent=4)\n",
    "\n",
    "print(json_str[:1000])"
   ]
  },
  {
   "cell_type": "markdown",
   "id": "23199d70-1d0b-4a14-8679-518c641c0366",
   "metadata": {},
   "source": [
    "And what the config file looks like:"
   ]
  },
  {
   "cell_type": "code",
   "execution_count": 17,
   "id": "ef53d82b-6672-4e61-be5a-1b3bef525385",
   "metadata": {
    "scrolled": true
   },
   "outputs": [
    {
     "name": "stdout",
     "output_type": "stream",
     "text": [
      "{\n",
      "    \"resources\": [\n",
      "        {\n",
      "            \"concept_tagger\": [\n",
      "                \"concept_tagger/employment.json\",\n",
      "                \"concept_tagger/family.json\",\n",
      "                \"concept_tagger/homeless.json\",\n",
      "                \"concept_tagger/sheltered_homeless.json\",\n",
      "                \"concept_tagger/unsheltered_homeless.json\",\n",
      "                \"concept_tagger/patient.json\",\n",
      "                \"concept_tagger/resides.json\",\n",
      "                \"concept_tagger/temporary_housing.json\",\n",
      "                \"concept_tagger/va_service.json\"\n",
      "            ],\n",
      "            \"context\": [\n",
      "                \"context/at_risk.json\",\n",
      "                \"context/current.json\",\n",
      "                \"context/family.json\",\n",
      "                \"context/historical.json\",\n",
      "                \"context/housing_related.json\",\n",
      "                \"context/hypothetical.json\",\n",
      "                \"context/negated_existence.json\",\n",
      "                \"context/other.json\",\n",
      "                \"context/on_match_rules.json\"\n",
      "            ],\n",
      "            \"sectionizer\": [\n",
      "                \"sectionizer/forms.json\",\n",
      "                \"sectionizer/section_rules.json\",\n",
      "                \"sectionizer/unknown.json\"\n",
      "            ],\n",
      "            \"target_matcher\": [\n",
      "                \"target_matcher/doubling_up.json\",\n",
      "                \"target_matcher/homeless.json\",\n",
      "                \"target_matcher/unsheltered_homeless.json\",\n",
      "                \"target_matcher/sheltered_homeless.json\",\n",
      "                \"target_matcher/unspecified_housing_instability.json\",\n",
      "                \"target_matcher/housing.json\",\n",
      "                \"target_matcher/other.json\",\n",
      "                \"target_matcher/risk.json\",\n",
      "                \"target_matcher/template.json\",\n",
      "                \"target_matcher/temporary.json\",\n",
      "                \"target_matcher/on_match_rules.json\"\n",
      "            ]\n",
      "        }\n",
      "    ]\n",
      "}\n"
     ]
    }
   ],
   "source": [
    "fp = \"../rehoused_nlp/resources/configs/rehoused_v1_config.json\"\n",
    "\n",
    "with open(fp) as f:\n",
    "    json_str = json.dumps(json.load(f), indent=4)\n",
    "\n",
    "print(json_str)"
   ]
  },
  {
   "cell_type": "markdown",
   "id": "a40dfd7d-2b6a-4178-957b-a206da6f5f42",
   "metadata": {},
   "source": [
    "The config file contains a mapping from each medspacy pipeline component to the JSON file containing rules. The exception is the Postprocessor and Preprocessor; those rules are defined in Python and added in the `build_nlp` function directly."
   ]
  },
  {
   "cell_type": "markdown",
   "id": "9861e8c7-4127-48fc-9b91-b53b47dd8105",
   "metadata": {},
   "source": [
    "Let's create a new config file and load that with the NLP. We need to specify the folder containing the resources and the path of the config file. I've created some simple rules files here in the `notebooks/` directory:"
   ]
  },
  {
   "cell_type": "code",
   "execution_count": 32,
   "id": "8d3e75b2-617a-4091-bc30-d9d747933667",
   "metadata": {},
   "outputs": [
    {
     "name": "stdout",
     "output_type": "stream",
     "text": [
      "{\n",
      "    \"resources\": [\n",
      "        {\n",
      "            \"context\": [\n",
      "                \"example_context_rules.json\"\n",
      "            ],\n",
      "            \"sectionizer\": [\n",
      "                \"example_section_rules.json\"\n",
      "            ],\n",
      "            \"target_matcher\": [\n",
      "                \"example_target_rules.json\"\n",
      "            ]\n",
      "        }\n",
      "    ]\n",
      "}\n"
     ]
    }
   ],
   "source": [
    "fp = \"./example_custom_resources/example_config.json\"\n",
    "\n",
    "with open(fp) as f:\n",
    "    json_str = json.dumps(json.load(f), indent=4)\n",
    "\n",
    "print(json_str)"
   ]
  },
  {
   "cell_type": "code",
   "execution_count": null,
   "id": "08eaa267-1779-4811-acfe-a324decb0417",
   "metadata": {},
   "outputs": [],
   "source": []
  },
  {
   "cell_type": "code",
   "execution_count": 33,
   "id": "38afae83-79c3-429c-bd91-fa955c3f4fe7",
   "metadata": {},
   "outputs": [],
   "source": [
    "nlp2 = build_nlp(resources_dir=\"./example_custom_resources/\", cfg_file=\"./example_custom_resources/example_config.json\")"
   ]
  },
  {
   "cell_type": "markdown",
   "id": "a6b8db75-7cb3-42fa-a578-559a02ded49b",
   "metadata": {},
   "source": [
    "Now when we look at each of our components, we only have the rules that we've specified in `example_config.json`."
   ]
  },
  {
   "cell_type": "code",
   "execution_count": 34,
   "id": "67f05d43-cc1d-4cf0-8985-a1bc56e016e8",
   "metadata": {},
   "outputs": [
    {
     "data": {
      "text/plain": [
       "[TargetRule(literal=\"SLC Downtown Shelter for the Homeless\", category=\"TEMPORARY_HOUSING\", pattern=None, attributes=None, on_match=None)]"
      ]
     },
     "execution_count": 34,
     "metadata": {},
     "output_type": "execute_result"
    }
   ],
   "source": [
    "nlp2.get_pipe(\"medspacy_target_matcher\").rules"
   ]
  },
  {
   "cell_type": "code",
   "execution_count": 35,
   "id": "b6288f8d-7f48-49ba-9acd-c9b61d29afbe",
   "metadata": {},
   "outputs": [
    {
     "data": {
      "text/plain": [
       "[ConTextRule(literal='in Xxx 20xx', category='HISTORICAL', pattern=[{'LOWER': 'in'}, {'OP': '?'}, {'LOWER': {'REGEX': '20[01]\\\\d$'}}], direction='BIDIRECTIONAL')]"
      ]
     },
     "execution_count": 35,
     "metadata": {},
     "output_type": "execute_result"
    }
   ],
   "source": [
    "nlp2.get_pipe(\"medspacy_context\").rules"
   ]
  },
  {
   "cell_type": "code",
   "execution_count": 37,
   "id": "38ac281a-178d-4402-9f28-e6f27c7d8a07",
   "metadata": {},
   "outputs": [
    {
     "data": {
      "text/plain": [
       "[SectionRule(literal=\"Previous medical information:\", category=\"past_medical_history\", pattern=None, on_match=None, parents=None, parent_required=False)]"
      ]
     },
     "execution_count": 37,
     "metadata": {},
     "output_type": "execute_result"
    }
   ],
   "source": [
    "nlp2.get_pipe(\"medspacy_sectionizer\").rules"
   ]
  },
  {
   "cell_type": "code",
   "execution_count": null,
   "id": "6cb3295b-34fe-40ed-9f2b-edbc4ef1baef",
   "metadata": {},
   "outputs": [],
   "source": []
  },
  {
   "cell_type": "markdown",
   "id": "fc409b78-9383-4801-a78d-5d4e618bc1ad",
   "metadata": {},
   "source": [
    "## Adding rules programatically\n",
    "The best way to customize rules is to edit or create resource files like the ones listed above. But you can also add them directly to pipeline components, and some components like the `Postprocessor` require this. Each of the examples below will show how to add a rule to the main NLP system that also contains the original rules."
   ]
  },
  {
   "cell_type": "markdown",
   "id": "0eb84175",
   "metadata": {},
   "source": [
    "### TargetMatcher"
   ]
  },
  {
   "cell_type": "code",
   "execution_count": 39,
   "id": "0efb3549",
   "metadata": {},
   "outputs": [
    {
     "data": {
      "text/html": [
       "<span class=\"tex2jax_ignore\"><div class=\"entities\" style=\"line-height: 2.5; direction: ltr\">He is \n",
       "<mark class=\"entity\" style=\"background: #9567bd; padding: 0.45em 0.6em; margin: 0 0.25em; line-height: 1; border-radius: 0.35em;\">\n",
       "    staying at\n",
       "    <span style=\"font-size: 0.8em; font-weight: bold; line-height: 1; border-radius: 0.35em; vertical-align: middle; margin-left: 0.5rem\">RESIDES_IN</span>\n",
       "</mark>\n",
       " \n",
       "<mark class=\"entity\" style=\"background: #ff7f0e; padding: 0.45em 0.6em; margin: 0 0.25em; line-height: 1; border-radius: 0.35em;\">\n",
       "    SLC Downtown Shelter for the Homeless\n",
       "    <span style=\"font-size: 0.8em; font-weight: bold; line-height: 1; border-radius: 0.35em; vertical-align: middle; margin-left: 0.5rem\">TEMPORARY_HOUSING</span>\n",
       "</mark>\n",
       ".</div></span>"
      ],
      "text/plain": [
       "<IPython.core.display.HTML object>"
      ]
     },
     "metadata": {},
     "output_type": "display_data"
    }
   ],
   "source": [
    "from medspacy.target_matcher import TargetRule\n",
    "\n",
    "target_matcher = nlp.get_pipe(\"medspacy_target_matcher\")\n",
    "# Add a phrase for a specific homelessness shelter\n",
    "rule = TargetRule(\"SLC Downtown Shelter for the Homeless\", \"TEMPORARY_HOUSING\")\n",
    "target_matcher.add([rule])\n",
    "\n",
    "visualize_ent(nlp(\"He is staying at SLC Downtown Shelter for the Homeless.\"), colors=ENT_COLORS)"
   ]
  },
  {
   "cell_type": "markdown",
   "id": "fde87fcd",
   "metadata": {},
   "source": [
    "### ConText"
   ]
  },
  {
   "cell_type": "code",
   "execution_count": 40,
   "id": "44c56213",
   "metadata": {},
   "outputs": [
    {
     "data": {
      "text/html": [
       "<span class=\"tex2jax_ignore\"><svg xmlns=\"http://www.w3.org/2000/svg\" xmlns:xlink=\"http://www.w3.org/1999/xlink\" xml:lang=\"en\" id=\"934f100bc5ec4733bd208a3668803346-0\" class=\"displacy\" width=\"750\" height=\"224.5\" direction=\"ltr\" style=\"max-width: none; height: 224.5px; color: #000000; background: #ffffff; font-family: Arial; direction: ltr\">\n",
       "<text class=\"displacy-token\" fill=\"currentColor\" text-anchor=\"middle\" y=\"134.5\">\n",
       "    <tspan class=\"displacy-word\" fill=\"currentColor\" x=\"50\">He</tspan>\n",
       "    <tspan class=\"displacy-tag\" dy=\"2em\" fill=\"currentColor\" x=\"50\"></tspan>\n",
       "</text>\n",
       "\n",
       "<text class=\"displacy-token\" fill=\"currentColor\" text-anchor=\"middle\" y=\"134.5\">\n",
       "    <tspan class=\"displacy-word\" fill=\"currentColor\" x=\"225\">was homeless</tspan>\n",
       "    <tspan class=\"displacy-tag\" dy=\"2em\" fill=\"currentColor\" x=\"225\">EVIDENCE_OF_HOMELESSNESS</tspan>\n",
       "</text>\n",
       "\n",
       "<text class=\"displacy-token\" fill=\"currentColor\" text-anchor=\"middle\" y=\"134.5\">\n",
       "    <tspan class=\"displacy-word\" fill=\"currentColor\" x=\"400\">in September 2016</tspan>\n",
       "    <tspan class=\"displacy-tag\" dy=\"2em\" fill=\"currentColor\" x=\"400\">HISTORICAL</tspan>\n",
       "</text>\n",
       "\n",
       "<text class=\"displacy-token\" fill=\"currentColor\" text-anchor=\"middle\" y=\"134.5\">\n",
       "    <tspan class=\"displacy-word\" fill=\"currentColor\" x=\"575\">.</tspan>\n",
       "    <tspan class=\"displacy-tag\" dy=\"2em\" fill=\"currentColor\" x=\"575\"></tspan>\n",
       "</text>\n",
       "\n",
       "<g class=\"displacy-arrow\">\n",
       "    <path class=\"displacy-arc\" id=\"arrow-934f100bc5ec4733bd208a3668803346-0-0\" stroke-width=\"2px\" d=\"M245,89.5 C245,2.0 400.0,2.0 400.0,89.5\" fill=\"none\" stroke=\"currentColor\"/>\n",
       "    <text dy=\"1.25em\" style=\"font-size: 0.8em; letter-spacing: 1px\">\n",
       "        <textPath xlink:href=\"#arrow-934f100bc5ec4733bd208a3668803346-0-0\" class=\"displacy-label\" startOffset=\"50%\" side=\"left\" fill=\"currentColor\" text-anchor=\"middle\">HISTORICAL</textPath>\n",
       "    </text>\n",
       "    <path class=\"displacy-arrowhead\" d=\"M245,91.5 L237,79.5 253,79.5\" fill=\"currentColor\"/>\n",
       "</g>\n",
       "</svg></span>"
      ],
      "text/plain": [
       "<IPython.core.display.HTML object>"
      ]
     },
     "metadata": {},
     "output_type": "display_data"
    }
   ],
   "source": [
    "from medspacy.context import ConTextRule\n",
    "\n",
    "context = nlp.get_pipe(\"medspacy_context\")\n",
    "# Add a phrase for matching dates and considering them historical\n",
    "rule = ConTextRule(\"in Xxx 20xx\", \"HISTORICAL\", direction=\"BIDIRECTIONAL\",\n",
    "                  pattern=[\n",
    "                      {\"LOWER\": \"in\"},\n",
    "                      {\"OP\": \"?\"},\n",
    "                      {\"LOWER\": {\"REGEX\": r\"20[01]\\d$\"}}\n",
    "                  ]\n",
    "                  )\n",
    "context.add([rule])\n",
    "\n",
    "visualize_dep(nlp(\"He was homeless in September 2016.\"))"
   ]
  },
  {
   "cell_type": "markdown",
   "id": "bc5f55cb",
   "metadata": {},
   "source": [
    "### Section detection"
   ]
  },
  {
   "cell_type": "code",
   "execution_count": 41,
   "id": "8b66da54",
   "metadata": {},
   "outputs": [
    {
     "data": {
      "text/html": [
       "<span class=\"tex2jax_ignore\"><div class=\"entities\" style=\"line-height: 2.5; direction: ltr\">\n",
       "<mark class=\"entity\" style=\"background: #ddd; padding: 0.45em 0.6em; margin: 0 0.25em; line-height: 1; border-radius: 0.35em;\">\n",
       "    Previous medical information:\n",
       "    <span style=\"font-size: 0.8em; font-weight: bold; line-height: 1; border-radius: 0.35em; vertical-align: middle; margin-left: 0.5rem\"><< PAST_MEDICAL_HISTORY >></span>\n",
       "</mark>\n",
       " \n",
       "<mark class=\"entity\" style=\"background: #d62728; padding: 0.45em 0.6em; margin: 0 0.25em; line-height: 1; border-radius: 0.35em;\">\n",
       "    Homelessness\n",
       "    <span style=\"font-size: 0.8em; font-weight: bold; line-height: 1; border-radius: 0.35em; vertical-align: middle; margin-left: 0.5rem\">EVIDENCE_OF_HOMELESSNESS</span>\n",
       "</mark>\n",
       "</div></span>"
      ],
      "text/plain": [
       "<IPython.core.display.HTML object>"
      ]
     },
     "metadata": {},
     "output_type": "display_data"
    }
   ],
   "source": [
    "from medspacy.section_detection import SectionRule\n",
    "\n",
    "sectionizer = nlp.get_pipe(\"medspacy_sectionizer\")\n",
    "# Add a specific note header\n",
    "rule = SectionRule(\"Previous medical information:\", \"past_medical_history\")\n",
    "sectionizer.add([rule])\n",
    "\n",
    "visualize_ent(nlp(\"Previous medical information: Homelessness\"), colors=ENT_COLORS)"
   ]
  },
  {
   "cell_type": "code",
   "execution_count": null,
   "id": "15ff1aba",
   "metadata": {},
   "outputs": [],
   "source": []
  }
 ],
 "metadata": {
  "kernelspec": {
   "display_name": "Python 3 (ipykernel)",
   "language": "python",
   "name": "python3"
  },
  "language_info": {
   "codemirror_mode": {
    "name": "ipython",
    "version": 3
   },
   "file_extension": ".py",
   "mimetype": "text/x-python",
   "name": "python",
   "nbconvert_exporter": "python",
   "pygments_lexer": "ipython3",
   "version": "3.10.13"
  }
 },
 "nbformat": 4,
 "nbformat_minor": 5
}
