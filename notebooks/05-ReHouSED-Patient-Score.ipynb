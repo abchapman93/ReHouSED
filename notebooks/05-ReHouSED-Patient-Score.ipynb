{
 "cells": [
  {
   "cell_type": "code",
   "execution_count": 1,
   "id": "426edd2f",
   "metadata": {},
   "outputs": [],
   "source": [
    "%load_ext autoreload\n",
    "%autoreload 2"
   ]
  },
  {
   "cell_type": "code",
   "execution_count": 2,
   "id": "f21278b5",
   "metadata": {},
   "outputs": [],
   "source": [
    "import sys\n",
    "sys.path.insert(0, \"..\")"
   ]
  },
  {
   "cell_type": "code",
   "execution_count": 3,
   "id": "e60e2963",
   "metadata": {},
   "outputs": [],
   "source": [
    "from rehoused_nlp import build_nlp, visualize_doc_classification\n",
    "from medspacy.visualization import visualize_ent, visualize_dep\n",
    "from rehoused_nlp import calculate_rehoused\n",
    "\n",
    "from helpers import ENT_COLORS"
   ]
  },
  {
   "cell_type": "code",
   "execution_count": 4,
   "id": "0eac076a",
   "metadata": {},
   "outputs": [],
   "source": [
    "%%capture\n",
    "nlp = build_nlp()"
   ]
  },
  {
   "cell_type": "code",
   "execution_count": 5,
   "id": "ed4592e1",
   "metadata": {},
   "outputs": [],
   "source": [
    "# !pip install matplotlib\n",
    "# !pip install pandas"
   ]
  },
  {
   "cell_type": "code",
   "execution_count": null,
   "id": "df27b99a",
   "metadata": {},
   "outputs": [],
   "source": [
    "import pandas as pd"
   ]
  },
  {
   "cell_type": "code",
   "execution_count": null,
   "id": "308994d2",
   "metadata": {},
   "outputs": [],
   "source": [
    "import matplotlib.pyplot as plt\n",
    "%matplotlib inline"
   ]
  },
  {
   "cell_type": "markdown",
   "id": "2843720d",
   "metadata": {},
   "source": [
    "# 5. ReHouSED Patient-Level Score\n",
    "The ultimate goal of this system is to describe a patient's current housing stability. NLP is used to extract information from individual documents, but this ultimately has to be aggregated to a patient level. This is challenging because different documents can contain conflicting information. These discrepancies could be due to:\n",
    "- NLP errors\n",
    "- Inconsistent documentation\n",
    "- Actual changes in the patient housing situation (e.g., they were homeless but one week later found an apartment)\n",
    "\n",
    "To do this, we developed the **Relative Housing Stability in Electronic Documentation (ReHouSED)** score. This is a simple calculation of the proportion of notes classified as stably housed out of all stably/unstably housed documents over a certain time period.\n",
    "\n",
    "$$ \\begin{equation} \\label{label} ReHouSED = \\frac{Stably Housed}{Stably Housed + Unstably Housed} \\end{equation} $$\n",
    "\n",
    "Note that this score discards documents classified as **\"UNKNOWN\"**, as these are deemed to not contain relevant information. \n",
    "\n",
    "In the manuscript, this score is calculated in discrete 30-day time windows at various intervals from a patient's discharge from SSVF, but other time windows/aggregation methods are possible and will be evaluated in the future.\n",
    "\n",
    "To demonstrate how ReHouSED is calculated, we'll use a set of simple fictional texts over a course of ~90 days. In this narrative, the patient is evicted from her apartment, stays temporarily in a shelter, and eventually finds stable housing. The column **time_to_index** denotes the difference in days from the date the note was written to whatever the index date is. In this example, that date is the day the patient lost housing; in the manuscript, it's the date the patient exited SSVF."
   ]
  },
  {
   "cell_type": "code",
   "execution_count": null,
   "id": "ac49780f",
   "metadata": {},
   "outputs": [],
   "source": [
    "df = pd.read_csv(\"./example_rehoused_longitudinal.tsv\", sep=\"\\t\")"
   ]
  },
  {
   "cell_type": "code",
   "execution_count": null,
   "id": "d026af91",
   "metadata": {},
   "outputs": [],
   "source": [
    "df"
   ]
  },
  {
   "cell_type": "markdown",
   "id": "a46d413b",
   "metadata": {},
   "source": [
    "First, we'll process all of these documents with our NLP model:"
   ]
  },
  {
   "cell_type": "code",
   "execution_count": 10,
   "id": "da725124",
   "metadata": {},
   "outputs": [],
   "source": [
    "docs = list(nlp.pipe(df[\"text\"]))"
   ]
  },
  {
   "cell_type": "code",
   "execution_count": 11,
   "id": "bcef4863",
   "metadata": {},
   "outputs": [],
   "source": [
    "df[\"doc\"] = docs"
   ]
  },
  {
   "cell_type": "code",
   "execution_count": 12,
   "id": "ee003f36",
   "metadata": {},
   "outputs": [],
   "source": [
    "df[\"document_classification\"] = [doc._.document_classification for doc in docs]"
   ]
  },
  {
   "cell_type": "markdown",
   "id": "b43f7c0b",
   "metadata": {},
   "source": [
    "Let's look at how each of these documents were processed. Notice that some examples may not exactly be correct, which could introduce some noise to our classification:"
   ]
  },
  {
   "cell_type": "code",
   "execution_count": 13,
   "id": "27cf483e",
   "metadata": {},
   "outputs": [
    {
     "name": "stdout",
     "output_type": "stream",
     "text": [
      "Time: 0\n"
     ]
    },
    {
     "data": {
      "text/html": [
       "<h3>Document Classification: UNSTABLY_HOUSED</h3><div class=\"entities\" style=\"line-height: 2.5; direction: ltr\">Vetern was \n",
       "<mark class=\"entity\" style=\"background: #ffbb78; padding: 0.45em 0.6em; margin: 0 0.25em; line-height: 1; border-radius: 0.35em;\">\n",
       "    evicted from her apartment\n",
       "    <span style=\"font-size: 0.8em; font-weight: bold; line-height: 1; border-radius: 0.35em; text-transform: uppercase; vertical-align: middle; margin-left: 0.5rem\">RISK_OF_HOMELESSNESS</span>\n",
       "</mark>\n",
       " last night. </div>"
      ],
      "text/plain": [
       "<IPython.core.display.HTML object>"
      ]
     },
     "metadata": {},
     "output_type": "display_data"
    },
    {
     "name": "stdout",
     "output_type": "stream",
     "text": [
      "--------------------\n",
      "\n",
      "Time: 4\n"
     ]
    },
    {
     "data": {
      "text/html": [
       "<h3>Document Classification: UNSTABLY_HOUSED</h3><div class=\"entities\" style=\"line-height: 2.5; direction: ltr\">Last night she \n",
       "<mark class=\"entity\" style=\"background: #d62728; padding: 0.45em 0.6em; margin: 0 0.25em; line-height: 1; border-radius: 0.35em;\">\n",
       "    slept on the\n",
       "    <span style=\"font-size: 0.8em; font-weight: bold; line-height: 1; border-radius: 0.35em; text-transform: uppercase; vertical-align: middle; margin-left: 0.5rem\">EVIDENCE_OF_HOMELESSNESS</span>\n",
       "</mark>\n",
       " streets.</div>"
      ],
      "text/plain": [
       "<IPython.core.display.HTML object>"
      ]
     },
     "metadata": {},
     "output_type": "display_data"
    },
    {
     "name": "stdout",
     "output_type": "stream",
     "text": [
      "--------------------\n",
      "\n",
      "Time: 12\n"
     ]
    },
    {
     "data": {
      "text/html": [
       "<h3>Document Classification: UNSTABLY_HOUSED</h3><div class=\"entities\" style=\"line-height: 2.5; direction: ltr\">Veteran came in to the clinic asking for help with her \n",
       "<mark class=\"entity\" style=\"background: #2ca02c; padding: 0.45em 0.6em; margin: 0 0.25em; line-height: 1; border-radius: 0.35em;\">\n",
       "    housing\n",
       "    <span style=\"font-size: 0.8em; font-weight: bold; line-height: 1; border-radius: 0.35em; text-transform: uppercase; vertical-align: middle; margin-left: 0.5rem\">EVIDENCE_OF_HOUSING</span>\n",
       "</mark>\n",
       ". She is \n",
       "<mark class=\"entity\" style=\"background: #17becf; padding: 0.45em 0.6em; margin: 0 0.25em; line-height: 1; border-radius: 0.35em;\">\n",
       "    currently\n",
       "    <span style=\"font-size: 0.8em; font-weight: bold; line-height: 1; border-radius: 0.35em; text-transform: uppercase; vertical-align: middle; margin-left: 0.5rem\">CURRENT</span>\n",
       "</mark>\n",
       " \n",
       "<mark class=\"entity\" style=\"background: #d62728; padding: 0.45em 0.6em; margin: 0 0.25em; line-height: 1; border-radius: 0.35em;\">\n",
       "    homeless\n",
       "    <span style=\"font-size: 0.8em; font-weight: bold; line-height: 1; border-radius: 0.35em; text-transform: uppercase; vertical-align: middle; margin-left: 0.5rem\">EVIDENCE_OF_HOMELESSNESS</span>\n",
       "</mark>\n",
       ".</div>"
      ],
      "text/plain": [
       "<IPython.core.display.HTML object>"
      ]
     },
     "metadata": {},
     "output_type": "display_data"
    },
    {
     "name": "stdout",
     "output_type": "stream",
     "text": [
      "--------------------\n",
      "\n",
      "Time: 25\n"
     ]
    },
    {
     "data": {
      "text/html": [
       "<h3>Document Classification: UNSTABLY_HOUSED</h3><div class=\"entities\" style=\"line-height: 2.5; direction: ltr\">She \n",
       "<mark class=\"entity\" style=\"background: #ddd; padding: 0.45em 0.6em; margin: 0 0.25em; line-height: 1; border-radius: 0.35em;\">\n",
       "    would like\n",
       "    <span style=\"font-size: 0.8em; font-weight: bold; line-height: 1; border-radius: 0.35em; text-transform: uppercase; vertical-align: middle; margin-left: 0.5rem\">HYPOTHETICAL</span>\n",
       "</mark>\n",
       " to \n",
       "<mark class=\"entity\" style=\"background: #ddd; padding: 0.45em 0.6em; margin: 0 0.25em; line-height: 1; border-radius: 0.35em;\">\n",
       "    find\n",
       "    <span style=\"font-size: 0.8em; font-weight: bold; line-height: 1; border-radius: 0.35em; text-transform: uppercase; vertical-align: middle; margin-left: 0.5rem\">HYPOTHETICAL</span>\n",
       "</mark>\n",
       " an \n",
       "<mark class=\"entity\" style=\"background: #2ca02c; padding: 0.45em 0.6em; margin: 0 0.25em; line-height: 1; border-radius: 0.35em;\">\n",
       "    apartment\n",
       "    <span style=\"font-size: 0.8em; font-weight: bold; line-height: 1; border-radius: 0.35em; text-transform: uppercase; vertical-align: middle; margin-left: 0.5rem\">EVIDENCE_OF_HOUSING</span>\n",
       "</mark>\n",
       ".</div>"
      ],
      "text/plain": [
       "<IPython.core.display.HTML object>"
      ]
     },
     "metadata": {},
     "output_type": "display_data"
    },
    {
     "name": "stdout",
     "output_type": "stream",
     "text": [
      "--------------------\n",
      "\n",
      "Time: 30\n"
     ]
    },
    {
     "data": {
      "text/html": [
       "<h3>Document Classification: UNSTABLY_HOUSED</h3><div class=\"entities\" style=\"line-height: 2.5; direction: ltr\">Veteran is \n",
       "<mark class=\"entity\" style=\"background: #ddd; padding: 0.45em 0.6em; margin: 0 0.25em; line-height: 1; border-radius: 0.35em;\">\n",
       "    looking for\n",
       "    <span style=\"font-size: 0.8em; font-weight: bold; line-height: 1; border-radius: 0.35em; text-transform: uppercase; vertical-align: middle; margin-left: 0.5rem\">HYPOTHETICAL</span>\n",
       "</mark>\n",
       " an \n",
       "<mark class=\"entity\" style=\"background: #2ca02c; padding: 0.45em 0.6em; margin: 0 0.25em; line-height: 1; border-radius: 0.35em;\">\n",
       "    apartment\n",
       "    <span style=\"font-size: 0.8em; font-weight: bold; line-height: 1; border-radius: 0.35em; text-transform: uppercase; vertical-align: middle; margin-left: 0.5rem\">EVIDENCE_OF_HOUSING</span>\n",
       "</mark>\n",
       ".</div>"
      ],
      "text/plain": [
       "<IPython.core.display.HTML object>"
      ]
     },
     "metadata": {},
     "output_type": "display_data"
    },
    {
     "name": "stdout",
     "output_type": "stream",
     "text": [
      "--------------------\n",
      "\n",
      "Time: 35\n"
     ]
    },
    {
     "data": {
      "text/html": [
       "<h3>Document Classification: UNSTABLY_HOUSED</h3><div class=\"entities\" style=\"line-height: 2.5; direction: ltr\">Met with Veteran today at the \n",
       "<mark class=\"entity\" style=\"background: #ff7f0e; padding: 0.45em 0.6em; margin: 0 0.25em; line-height: 1; border-radius: 0.35em;\">\n",
       "    shelter\n",
       "    <span style=\"font-size: 0.8em; font-weight: bold; line-height: 1; border-radius: 0.35em; text-transform: uppercase; vertical-align: middle; margin-left: 0.5rem\">TEMPORARY_HOUSING</span>\n",
       "</mark>\n",
       " to \n",
       "<mark class=\"entity\" style=\"background: #ddd; padding: 0.45em 0.6em; margin: 0 0.25em; line-height: 1; border-radius: 0.35em;\">\n",
       "    discuss\n",
       "    <span style=\"font-size: 0.8em; font-weight: bold; line-height: 1; border-radius: 0.35em; text-transform: uppercase; vertical-align: middle; margin-left: 0.5rem\">HYPOTHETICAL</span>\n",
       "</mark>\n",
       " \n",
       "<mark class=\"entity\" style=\"background: #2ca02c; padding: 0.45em 0.6em; margin: 0 0.25em; line-height: 1; border-radius: 0.35em;\">\n",
       "    her housing search\n",
       "    <span style=\"font-size: 0.8em; font-weight: bold; line-height: 1; border-radius: 0.35em; text-transform: uppercase; vertical-align: middle; margin-left: 0.5rem\">EVIDENCE_OF_HOUSING</span>\n",
       "</mark>\n",
       ".</div>"
      ],
      "text/plain": [
       "<IPython.core.display.HTML object>"
      ]
     },
     "metadata": {},
     "output_type": "display_data"
    },
    {
     "name": "stdout",
     "output_type": "stream",
     "text": [
      "--------------------\n",
      "\n",
      "Time: 45\n"
     ]
    },
    {
     "data": {
      "text/html": [
       "<h3>Document Classification: STABLY_HOUSED</h3><div class=\"entities\" style=\"line-height: 2.5; direction: ltr\">She is optimistic about being \n",
       "<mark class=\"entity\" style=\"background: #ddd; padding: 0.45em 0.6em; margin: 0 0.25em; line-height: 1; border-radius: 0.35em;\">\n",
       "    accepted to\n",
       "    <span style=\"font-size: 0.8em; font-weight: bold; line-height: 1; border-radius: 0.35em; text-transform: uppercase; vertical-align: middle; margin-left: 0.5rem\">ACCEPTED</span>\n",
       "</mark>\n",
       " this \n",
       "<mark class=\"entity\" style=\"background: #2ca02c; padding: 0.45em 0.6em; margin: 0 0.25em; line-height: 1; border-radius: 0.35em;\">\n",
       "    apartment\n",
       "    <span style=\"font-size: 0.8em; font-weight: bold; line-height: 1; border-radius: 0.35em; text-transform: uppercase; vertical-align: middle; margin-left: 0.5rem\">EVIDENCE_OF_HOUSING</span>\n",
       "</mark>\n",
       " building.</div>"
      ],
      "text/plain": [
       "<IPython.core.display.HTML object>"
      ]
     },
     "metadata": {},
     "output_type": "display_data"
    },
    {
     "name": "stdout",
     "output_type": "stream",
     "text": [
      "--------------------\n",
      "\n",
      "Time: 55\n"
     ]
    },
    {
     "data": {
      "text/html": [
       "<h3>Document Classification: UNKNOWN</h3><div class=\"entities\" style=\"line-height: 2.5; direction: ltr\">\n",
       "<mark class=\"entity\" style=\"background: #1f77b4; padding: 0.45em 0.6em; margin: 0 0.25em; line-height: 1; border-radius: 0.35em;\">\n",
       "    Past medical history\n",
       "    <span style=\"font-size: 0.8em; font-weight: bold; line-height: 1; border-radius: 0.35em; text-transform: uppercase; vertical-align: middle; margin-left: 0.5rem\">HISTORICAL</span>\n",
       "</mark>\n",
       "\n",
       "<mark class=\"entity\" style=\"background: #ddd; padding: 0.45em 0.6em; margin: 0 0.25em; line-height: 1; border-radius: 0.35em;\">\n",
       "    Past medical history:\n",
       "    <span style=\"font-size: 0.8em; font-weight: bold; line-height: 1; border-radius: 0.35em; text-transform: uppercase; vertical-align: middle; margin-left: 0.5rem\"><< PAST_MEDICAL_HISTORY >></span>\n",
       "</mark>\n",
       " \n",
       "<mark class=\"entity\" style=\"background: #d62728; padding: 0.45em 0.6em; margin: 0 0.25em; line-height: 1; border-radius: 0.35em;\">\n",
       "    Homelessness\n",
       "    <span style=\"font-size: 0.8em; font-weight: bold; line-height: 1; border-radius: 0.35em; text-transform: uppercase; vertical-align: middle; margin-left: 0.5rem\">EVIDENCE_OF_HOMELESSNESS</span>\n",
       "</mark>\n",
       "</div>"
      ],
      "text/plain": [
       "<IPython.core.display.HTML object>"
      ]
     },
     "metadata": {},
     "output_type": "display_data"
    },
    {
     "name": "stdout",
     "output_type": "stream",
     "text": [
      "--------------------\n",
      "\n",
      "Time: 60\n"
     ]
    },
    {
     "data": {
      "text/html": [
       "<h3>Document Classification: STABLY_HOUSED</h3><div class=\"entities\" style=\"line-height: 2.5; direction: ltr\">Veteran \n",
       "<mark class=\"entity\" style=\"background: #ddd; padding: 0.45em 0.6em; margin: 0 0.25em; line-height: 1; border-radius: 0.35em;\">\n",
       "    was accepted to\n",
       "    <span style=\"font-size: 0.8em; font-weight: bold; line-height: 1; border-radius: 0.35em; text-transform: uppercase; vertical-align: middle; margin-left: 0.5rem\">ACCEPTED</span>\n",
       "</mark>\n",
       " an \n",
       "<mark class=\"entity\" style=\"background: #2ca02c; padding: 0.45em 0.6em; margin: 0 0.25em; line-height: 1; border-radius: 0.35em;\">\n",
       "    apartment\n",
       "    <span style=\"font-size: 0.8em; font-weight: bold; line-height: 1; border-radius: 0.35em; text-transform: uppercase; vertical-align: middle; margin-left: 0.5rem\">EVIDENCE_OF_HOUSING</span>\n",
       "</mark>\n",
       " today and is waiting for inspection.</div>"
      ],
      "text/plain": [
       "<IPython.core.display.HTML object>"
      ]
     },
     "metadata": {},
     "output_type": "display_data"
    },
    {
     "name": "stdout",
     "output_type": "stream",
     "text": [
      "--------------------\n",
      "\n",
      "Time: 70\n"
     ]
    },
    {
     "data": {
      "text/html": [
       "<h3>Document Classification: UNSTABLY_HOUSED</h3><div class=\"entities\" style=\"line-height: 2.5; direction: ltr\">\n",
       "<mark class=\"entity\" style=\"background: #ffbb78; padding: 0.45em 0.6em; margin: 0 0.25em; line-height: 1; border-radius: 0.35em;\">\n",
       "    Apartment\n",
       "    <span style=\"font-size: 0.8em; font-weight: bold; line-height: 1; border-radius: 0.35em; text-transform: uppercase; vertical-align: middle; margin-left: 0.5rem\">RISK_OF_HOMELESSNESS</span>\n",
       "</mark>\n",
       " failed inspection today, but they will retry.</div>"
      ],
      "text/plain": [
       "<IPython.core.display.HTML object>"
      ]
     },
     "metadata": {},
     "output_type": "display_data"
    },
    {
     "name": "stdout",
     "output_type": "stream",
     "text": [
      "--------------------\n",
      "\n",
      "Time: 80\n"
     ]
    },
    {
     "data": {
      "text/html": [
       "<h3>Document Classification: UNKNOWN</h3><div class=\"entities\" style=\"line-height: 2.5; direction: ltr\">Patient and I discussed \n",
       "<mark class=\"entity\" style=\"background: #dee0e3; padding: 0.45em 0.6em; margin: 0 0.25em; line-height: 1; border-radius: 0.35em;\">\n",
       "    her housing situation\n",
       "    <span style=\"font-size: 0.8em; font-weight: bold; line-height: 1; border-radius: 0.35em; text-transform: uppercase; vertical-align: middle; margin-left: 0.5rem\">IGNORE</span>\n",
       "</mark>\n",
       ".</div>"
      ],
      "text/plain": [
       "<IPython.core.display.HTML object>"
      ]
     },
     "metadata": {},
     "output_type": "display_data"
    },
    {
     "name": "stdout",
     "output_type": "stream",
     "text": [
      "--------------------\n",
      "\n",
      "Time: 85\n"
     ]
    },
    {
     "data": {
      "text/html": [
       "<h3>Document Classification: STABLY_HOUSED</h3><div class=\"entities\" style=\"line-height: 2.5; direction: ltr\">\n",
       "<mark class=\"entity\" style=\"background: #dee0e3; padding: 0.45em 0.6em; margin: 0 0.25em; line-height: 1; border-radius: 0.35em;\">\n",
       "    Housing status\n",
       "    <span style=\"font-size: 0.8em; font-weight: bold; line-height: 1; border-radius: 0.35em; text-transform: uppercase; vertical-align: middle; margin-left: 0.5rem\">IGNORE</span>\n",
       "</mark>\n",
       "\n",
       "<mark class=\"entity\" style=\"background: #ddd; padding: 0.45em 0.6em; margin: 0 0.25em; line-height: 1; border-radius: 0.35em;\">\n",
       "    Housing status:\n",
       "    <span style=\"font-size: 0.8em; font-weight: bold; line-height: 1; border-radius: 0.35em; text-transform: uppercase; vertical-align: middle; margin-left: 0.5rem\"><< HOUSING_STATUS >></span>\n",
       "</mark>\n",
       " The \n",
       "<mark class=\"entity\" style=\"background: #2ca02c; padding: 0.45em 0.6em; margin: 0 0.25em; line-height: 1; border-radius: 0.35em;\">\n",
       "    apartment\n",
       "    <span style=\"font-size: 0.8em; font-weight: bold; line-height: 1; border-radius: 0.35em; text-transform: uppercase; vertical-align: middle; margin-left: 0.5rem\">EVIDENCE_OF_HOUSING</span>\n",
       "</mark>\n",
       " \n",
       "<mark class=\"entity\" style=\"background: #2ca02c; padding: 0.45em 0.6em; margin: 0 0.25em; line-height: 1; border-radius: 0.35em;\">\n",
       "    passed inspection\n",
       "    <span style=\"font-size: 0.8em; font-weight: bold; line-height: 1; border-radius: 0.35em; text-transform: uppercase; vertical-align: middle; margin-left: 0.5rem\">EVIDENCE_OF_HOUSING</span>\n",
       "</mark>\n",
       ". Patient \n",
       "<mark class=\"entity\" style=\"background: #2ca02c; padding: 0.45em 0.6em; margin: 0 0.25em; line-height: 1; border-radius: 0.35em;\">\n",
       "    signed a lease\n",
       "    <span style=\"font-size: 0.8em; font-weight: bold; line-height: 1; border-radius: 0.35em; text-transform: uppercase; vertical-align: middle; margin-left: 0.5rem\">EVIDENCE_OF_HOUSING</span>\n",
       "</mark>\n",
       " and \n",
       "<mark class=\"entity\" style=\"background: #2ca02c; padding: 0.45em 0.6em; margin: 0 0.25em; line-height: 1; border-radius: 0.35em;\">\n",
       "    moved into the apartment\n",
       "    <span style=\"font-size: 0.8em; font-weight: bold; line-height: 1; border-radius: 0.35em; text-transform: uppercase; vertical-align: middle; margin-left: 0.5rem\">EVIDENCE_OF_HOUSING</span>\n",
       "</mark>\n",
       ".</div>"
      ],
      "text/plain": [
       "<IPython.core.display.HTML object>"
      ]
     },
     "metadata": {},
     "output_type": "display_data"
    },
    {
     "name": "stdout",
     "output_type": "stream",
     "text": [
      "--------------------\n",
      "\n",
      "Time: 90\n"
     ]
    },
    {
     "data": {
      "text/html": [
       "<h3>Document Classification: STABLY_HOUSED</h3><div class=\"entities\" style=\"line-height: 2.5; direction: ltr\">Veteran is enjoying being in \n",
       "<mark class=\"entity\" style=\"background: #2ca02c; padding: 0.45em 0.6em; margin: 0 0.25em; line-height: 1; border-radius: 0.35em;\">\n",
       "    her current apartment.\n",
       "    <span style=\"font-size: 0.8em; font-weight: bold; line-height: 1; border-radius: 0.35em; text-transform: uppercase; vertical-align: middle; margin-left: 0.5rem\">EVIDENCE_OF_HOUSING</span>\n",
       "</mark>\n",
       "</div>"
      ],
      "text/plain": [
       "<IPython.core.display.HTML object>"
      ]
     },
     "metadata": {},
     "output_type": "display_data"
    },
    {
     "name": "stdout",
     "output_type": "stream",
     "text": [
      "--------------------\n",
      "\n",
      "Time: 95\n"
     ]
    },
    {
     "data": {
      "text/html": [
       "<h3>Document Classification: STABLY_HOUSED</h3><div class=\"entities\" style=\"line-height: 2.5; direction: ltr\">\n",
       "<mark class=\"entity\" style=\"background: #dee0e3; padding: 0.45em 0.6em; margin: 0 0.25em; line-height: 1; border-radius: 0.35em;\">\n",
       "    Housing status\n",
       "    <span style=\"font-size: 0.8em; font-weight: bold; line-height: 1; border-radius: 0.35em; text-transform: uppercase; vertical-align: middle; margin-left: 0.5rem\">IGNORE</span>\n",
       "</mark>\n",
       "\n",
       "<mark class=\"entity\" style=\"background: #ddd; padding: 0.45em 0.6em; margin: 0 0.25em; line-height: 1; border-radius: 0.35em;\">\n",
       "    Housing status:\n",
       "    <span style=\"font-size: 0.8em; font-weight: bold; line-height: 1; border-radius: 0.35em; text-transform: uppercase; vertical-align: middle; margin-left: 0.5rem\"><< HOUSING_STATUS >></span>\n",
       "</mark>\n",
       " \n",
       "<mark class=\"entity\" style=\"background: #2ca02c; padding: 0.45em 0.6em; margin: 0 0.25em; line-height: 1; border-radius: 0.35em;\">\n",
       "    Stably Housed\n",
       "    <span style=\"font-size: 0.8em; font-weight: bold; line-height: 1; border-radius: 0.35em; text-transform: uppercase; vertical-align: middle; margin-left: 0.5rem\">EVIDENCE_OF_HOUSING</span>\n",
       "</mark>\n",
       "</div>"
      ],
      "text/plain": [
       "<IPython.core.display.HTML object>"
      ]
     },
     "metadata": {},
     "output_type": "display_data"
    },
    {
     "name": "stdout",
     "output_type": "stream",
     "text": [
      "--------------------\n",
      "\n"
     ]
    }
   ],
   "source": [
    "for i, row in df.iterrows():\n",
    "    print(\"Time:\", row[\"time_to_index\"])\n",
    "    visualize_doc_classification(row[\"doc\"], colors=ENT_COLORS)\n",
    "    print(\"----\"*5)\n",
    "    print()"
   ]
  },
  {
   "cell_type": "markdown",
   "id": "fa9d6bba",
   "metadata": {},
   "source": [
    "The helper function `calculate_rehoused` will group the DataFrame into 30-day windows (or whatever time window is specified) and calculate the ReHouSED score at each time point. Because this is a simple step, you could also easily do this manually.\n",
    "\n",
    "The resulting DataFrame contains a column specifying the time window, how many documents were classfied as **\"STABLY_HOUSED\"**, how many were classified as **\"UNSTABLY_HOUSED\"**, and the ReHouSED score calculated as the proportion. Note that although the input had 4 documents per time window, some documents were classified as **\"UNKNOWN\"** and dropped from the output."
   ]
  },
  {
   "cell_type": "code",
   "execution_count": 14,
   "id": "afd074c9",
   "metadata": {},
   "outputs": [],
   "source": [
    "rehoused = calculate_rehoused(df, window_size=30, patient_col=\"pt_id\")"
   ]
  },
  {
   "cell_type": "code",
   "execution_count": 15,
   "id": "ad1e3676",
   "metadata": {},
   "outputs": [
    {
     "data": {
      "text/html": [
       "<div>\n",
       "<style scoped>\n",
       "    .dataframe tbody tr th:only-of-type {\n",
       "        vertical-align: middle;\n",
       "    }\n",
       "\n",
       "    .dataframe tbody tr th {\n",
       "        vertical-align: top;\n",
       "    }\n",
       "\n",
       "    .dataframe thead th {\n",
       "        text-align: right;\n",
       "    }\n",
       "</style>\n",
       "<table border=\"1\" class=\"dataframe\">\n",
       "  <thead>\n",
       "    <tr style=\"text-align: right;\">\n",
       "      <th></th>\n",
       "      <th>pt_id</th>\n",
       "      <th>time_window</th>\n",
       "      <th>STABLY_HOUSED</th>\n",
       "      <th>UNSTABLY_HOUSED</th>\n",
       "      <th>total_documents</th>\n",
       "      <th>rehoused</th>\n",
       "    </tr>\n",
       "  </thead>\n",
       "  <tbody>\n",
       "    <tr>\n",
       "      <th>0</th>\n",
       "      <td>1</td>\n",
       "      <td>0</td>\n",
       "      <td>0</td>\n",
       "      <td>4</td>\n",
       "      <td>4</td>\n",
       "      <td>0.000000</td>\n",
       "    </tr>\n",
       "    <tr>\n",
       "      <th>1</th>\n",
       "      <td>1</td>\n",
       "      <td>1</td>\n",
       "      <td>1</td>\n",
       "      <td>2</td>\n",
       "      <td>3</td>\n",
       "      <td>0.333333</td>\n",
       "    </tr>\n",
       "    <tr>\n",
       "      <th>2</th>\n",
       "      <td>1</td>\n",
       "      <td>2</td>\n",
       "      <td>2</td>\n",
       "      <td>1</td>\n",
       "      <td>3</td>\n",
       "      <td>0.666667</td>\n",
       "    </tr>\n",
       "    <tr>\n",
       "      <th>3</th>\n",
       "      <td>1</td>\n",
       "      <td>3</td>\n",
       "      <td>2</td>\n",
       "      <td>0</td>\n",
       "      <td>2</td>\n",
       "      <td>1.000000</td>\n",
       "    </tr>\n",
       "  </tbody>\n",
       "</table>\n",
       "</div>"
      ],
      "text/plain": [
       "   pt_id  time_window  STABLY_HOUSED  UNSTABLY_HOUSED  total_documents  \\\n",
       "0      1            0              0                4                4   \n",
       "1      1            1              1                2                3   \n",
       "2      1            2              2                1                3   \n",
       "3      1            3              2                0                2   \n",
       "\n",
       "   rehoused  \n",
       "0  0.000000  \n",
       "1  0.333333  \n",
       "2  0.666667  \n",
       "3  1.000000  "
      ]
     },
     "execution_count": 15,
     "metadata": {},
     "output_type": "execute_result"
    }
   ],
   "source": [
    "rehoused.head()"
   ]
  },
  {
   "cell_type": "markdown",
   "id": "70635ce7",
   "metadata": {},
   "source": [
    "The ReHouSED score can now be used to show a longitudinal representation of a patient's housing stability. If we plot the ReHouSED score over time, we can see the patient's change from homelessness to stable housing. "
   ]
  },
  {
   "cell_type": "code",
   "execution_count": 16,
   "id": "089f71a5",
   "metadata": {},
   "outputs": [
    {
     "data": {
      "image/png": "[encoded data removed]",
      "text/plain": [
       "<Figure size 432x288 with 1 Axes>"
      ]
     },
     "metadata": {
      "needs_background": "light"
     },
     "output_type": "display_data"
    }
   ],
   "source": [
    "plt.step(rehoused[\"time_window\"], rehoused[\"rehoused\"], marker=\"o\", where=\"post\")\n",
    "\n",
    "plt.xticks([0, 1, 2, 3])\n",
    "plt.xlabel(\"Time step\")\n",
    "plt.ylabel(\"ReHouSED\")\n",
    "plt.title(\"Patient ReHouSED score over 90 days\");"
   ]
  },
  {
   "cell_type": "markdown",
   "id": "2523dc80",
   "metadata": {},
   "source": [
    "This aggregation method allows for variation between documents. A patient with a large number of documents will likely have a more consistent and correct ReHouSED score. And calculating the ReHouSED score for a large number of patients may be used to do population-level analysis. Future work will look more at how to interpret this score and use it for population-level analysis."
   ]
  },
  {
   "cell_type": "code",
   "execution_count": null,
   "id": "0da95a03",
   "metadata": {},
   "outputs": [],
   "source": []
  }
 ],
 "metadata": {
  "kernelspec": {
   "display_name": "Python 3 (ipykernel)",
   "language": "python",
   "name": "python3"
  },
  "language_info": {
   "codemirror_mode": {
    "name": "ipython",
    "version": 3
   },
   "file_extension": ".py",
   "mimetype": "text/x-python",
   "name": "python",
   "nbconvert_exporter": "python",
   "pygments_lexer": "ipython3",
   "version": "3.9.16"
  }
 },
 "nbformat": 4,
 "nbformat_minor": 5
}
