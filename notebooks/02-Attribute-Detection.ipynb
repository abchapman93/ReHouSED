{
 "cells": [
  {
   "cell_type": "code",
   "execution_count": 1,
   "id": "426edd2f",
   "metadata": {},
   "outputs": [],
   "source": [
    "%load_ext autoreload\n",
    "%autoreload 2"
   ]
  },
  {
   "cell_type": "code",
   "execution_count": 2,
   "id": "f21278b5",
   "metadata": {},
   "outputs": [],
   "source": [
    "import sys\n",
    "sys.path.insert(0, \"..\")"
   ]
  },
  {
   "cell_type": "code",
   "execution_count": 3,
   "id": "0a8d5838",
   "metadata": {},
   "outputs": [],
   "source": [
    "from medspacy.visualization import visualize_ent, visualize_dep\n",
    "from helpers import ENT_COLORS"
   ]
  },
  {
   "cell_type": "code",
   "execution_count": 4,
   "id": "1e41095d",
   "metadata": {},
   "outputs": [],
   "source": [
    "import warnings\n",
    "warnings.filterwarnings(\"ignore\")"
   ]
  },
  {
   "cell_type": "markdown",
   "id": "d4183ddb",
   "metadata": {},
   "source": [
    "# 2. Attribute Detection\n",
    "After extracting entities, our next step will be to assign attributes to these entities which inform us as to the contextual meaning of these entites.\n",
    "\n",
    "There are 3 main ways that we will set attributes:\n",
    "- Using the `ConText` algorithm\n",
    "- Identifying which section of a clinical note a document occurs in\n",
    "- Postprocessing (which will be covered in the next section)"
   ]
  },
  {
   "cell_type": "code",
   "execution_count": 5,
   "id": "8c3210cb",
   "metadata": {},
   "outputs": [],
   "source": [
    "from rehoused_nlp import build_nlp"
   ]
  },
  {
   "cell_type": "code",
   "execution_count": 7,
   "id": "6ea325d4",
   "metadata": {},
   "outputs": [],
   "source": [
    "%%capture\n",
    "nlp = build_nlp()\n",
    "\n",
    "for pipe in ('medspacy_postprocessor', 'document_classifier'):\n",
    "    nlp.remove_pipe(pipe)"
   ]
  },
  {
   "cell_type": "code",
   "execution_count": 8,
   "id": "19aa11a7",
   "metadata": {},
   "outputs": [
    {
     "data": {
      "text/plain": [
       "['tok2vec',\n",
       " 'tagger',\n",
       " 'parser',\n",
       " 'attribute_ruler',\n",
       " 'lemmatizer',\n",
       " 'medspacy_concept_tagger',\n",
       " 'medspacy_target_matcher',\n",
       " 'medspacy_context',\n",
       " 'medspacy_sectionizer']"
      ]
     },
     "execution_count": 8,
     "metadata": {},
     "output_type": "execute_result"
    }
   ],
   "source": [
    "nlp.pipe_names"
   ]
  },
  {
   "cell_type": "markdown",
   "id": "99242464",
   "metadata": {},
   "source": [
    "## ConText\n",
    "Clinical text often contains mentions of concepts whose meaning depends on their context in the text. For example, perhaps they are talking about the past, patient goals, or explicitly negating some concept. Here are some examples involving housing status:\n",
    "\n",
    "- \"He does *not have* **stable housing**\"\n",
    "- \"The patient was *previously* **homeless** but does *not have* any current **housing problems**.\"\n",
    "- \"Patient goals: She *would like to find* **an apartment**\"\n",
    "\n",
    "In all of these instances, we need to use the contextual clues around the entity to assert attributes like negation, experiencer, and uncertainty.\n",
    "\n",
    "One method for this is the [ConText algorithm](https://www.sciencedirect.com/science/article/pii/S1532046409000744). ConText links target entities like problems with semantic modifiers like those shown above. The medSpaCy implementation of ConText is found in `medspacy.context`. More examples and documentation are available in [medspaCy's code](https://github.com/medspacy/medspacy).\n",
    "\n",
    "This section will demonstrate how ReHouSED uses ConText to handle different scenarios involving housing-related concepts. Let's start by looking at the first example shown above:\n",
    "\n",
    "**\"He does not have stable housing\"**\n",
    "\n",
    "If you only look at the entities being extracted, this might appear to be document stable housing. However, looking at the context around it, you can see that this entity is being **negated**. It's clearly very important to our task to differentiate these scenarios.\n",
    "\n",
    "**ConText** connects linguistic phrases like **\"not have\"**, called **modifiers**, with the entities in the sentences, also called **targets**. We can visualize the relationship between these concepts using the `visualize_dep` function:"
   ]
  },
  {
   "cell_type": "code",
   "execution_count": 9,
   "id": "59fec2a8",
   "metadata": {},
   "outputs": [],
   "source": [
    "text = \"He does not have stable housing\"\n",
    "doc = nlp(text)"
   ]
  },
  {
   "cell_type": "code",
   "execution_count": 10,
   "id": "ada862ff",
   "metadata": {},
   "outputs": [
    {
     "data": {
      "text/html": [
       "<span class=\"tex2jax_ignore\"><svg xmlns=\"http://www.w3.org/2000/svg\" xmlns:xlink=\"http://www.w3.org/1999/xlink\" xml:lang=\"en\" id=\"d4702025b39f4e3ead79f6d67eca7bfc-0\" class=\"displacy\" width=\"750\" height=\"224.5\" direction=\"ltr\" style=\"max-width: none; height: 224.5px; color: #000000; background: #ffffff; font-family: Arial; direction: ltr\">\n",
       "<text class=\"displacy-token\" fill=\"currentColor\" text-anchor=\"middle\" y=\"134.5\">\n",
       "    <tspan class=\"displacy-word\" fill=\"currentColor\" x=\"50\">He</tspan>\n",
       "    <tspan class=\"displacy-tag\" dy=\"2em\" fill=\"currentColor\" x=\"50\"></tspan>\n",
       "</text>\n",
       "\n",
       "<text class=\"displacy-token\" fill=\"currentColor\" text-anchor=\"middle\" y=\"134.5\">\n",
       "    <tspan class=\"displacy-word\" fill=\"currentColor\" x=\"225\">does</tspan>\n",
       "    <tspan class=\"displacy-tag\" dy=\"2em\" fill=\"currentColor\" x=\"225\"></tspan>\n",
       "</text>\n",
       "\n",
       "<text class=\"displacy-token\" fill=\"currentColor\" text-anchor=\"middle\" y=\"134.5\">\n",
       "    <tspan class=\"displacy-word\" fill=\"currentColor\" x=\"400\">not have</tspan>\n",
       "    <tspan class=\"displacy-tag\" dy=\"2em\" fill=\"currentColor\" x=\"400\"></tspan>\n",
       "</text>\n",
       "\n",
       "<text class=\"displacy-token\" fill=\"currentColor\" text-anchor=\"middle\" y=\"134.5\">\n",
       "    <tspan class=\"displacy-word\" fill=\"currentColor\" x=\"575\">stable housing</tspan>\n",
       "    <tspan class=\"displacy-tag\" dy=\"2em\" fill=\"currentColor\" x=\"575\">EVIDENCE_OF_HOUSING</tspan>\n",
       "</text>\n",
       "\n",
       "<g class=\"displacy-arrow\">\n",
       "    <path class=\"displacy-arc\" id=\"arrow-d4702025b39f4e3ead79f6d67eca7bfc-0-0\" stroke-width=\"2px\" d=\"M420,89.5 C420,2.0 575.0,2.0 575.0,89.5\" fill=\"none\" stroke=\"currentColor\"/>\n",
       "    <text dy=\"1.25em\" style=\"font-size: 0.8em; letter-spacing: 1px\">\n",
       "        <textPath xlink:href=\"#arrow-d4702025b39f4e3ead79f6d67eca7bfc-0-0\" class=\"displacy-label\" startOffset=\"50%\" side=\"left\" fill=\"currentColor\" text-anchor=\"middle\">NEGATED_EXISTENCE</textPath>\n",
       "    </text>\n",
       "    <path class=\"displacy-arrowhead\" d=\"M575.0,91.5 L583.0,79.5 567.0,79.5\" fill=\"currentColor\"/>\n",
       "</g>\n",
       "</svg></span>"
      ],
      "text/plain": [
       "<IPython.core.display.HTML object>"
      ]
     },
     "metadata": {},
     "output_type": "display_data"
    },
    {
     "data": {
      "text/html": [
       "<span class=\"tex2jax_ignore\"><div class=\"entities\" style=\"line-height: 2.5; direction: ltr\">He does \n",
       "<mark class=\"entity\" style=\"background: #1f77b4; padding: 0.45em 0.6em; margin: 0 0.25em; line-height: 1; border-radius: 0.35em;\">\n",
       "    not have\n",
       "    <span style=\"font-size: 0.8em; font-weight: bold; line-height: 1; border-radius: 0.35em; vertical-align: middle; margin-left: 0.5rem\">NEGATED_EXISTENCE</span>\n",
       "</mark>\n",
       " \n",
       "<mark class=\"entity\" style=\"background: #2ca02c; padding: 0.45em 0.6em; margin: 0 0.25em; line-height: 1; border-radius: 0.35em;\">\n",
       "    stable housing\n",
       "    <span style=\"font-size: 0.8em; font-weight: bold; line-height: 1; border-radius: 0.35em; vertical-align: middle; margin-left: 0.5rem\">EVIDENCE_OF_HOUSING</span>\n",
       "</mark>\n",
       "</div></span>"
      ],
      "text/plain": [
       "<IPython.core.display.HTML object>"
      ]
     },
     "metadata": {},
     "output_type": "display_data"
    }
   ],
   "source": [
    "visualize_dep(doc)\n",
    "visualize_ent(doc, colors=ENT_COLORS)"
   ]
  },
  {
   "cell_type": "markdown",
   "id": "83ddf70f",
   "metadata": {},
   "source": [
    "We can also see an entity's modifiers:"
   ]
  },
  {
   "cell_type": "code",
   "execution_count": 11,
   "id": "0d9e2731",
   "metadata": {},
   "outputs": [],
   "source": [
    "ent = doc.ents[0]"
   ]
  },
  {
   "cell_type": "code",
   "execution_count": 12,
   "id": "49556f7d",
   "metadata": {},
   "outputs": [
    {
     "data": {
      "text/plain": [
       "(<ConTextModifier> [not have, NEGATED_EXISTENCE],)"
      ]
     },
     "execution_count": 12,
     "metadata": {},
     "output_type": "execute_result"
    }
   ],
   "source": [
    "ent._.modifiers"
   ]
  },
  {
   "cell_type": "markdown",
   "id": "4c3e5b6c",
   "metadata": {},
   "source": [
    "When ConText links a negation phrase with an entity, it sets the entity's `is_negated` attribute to `True`:"
   ]
  },
  {
   "cell_type": "code",
   "execution_count": 13,
   "id": "82ba258c",
   "metadata": {},
   "outputs": [
    {
     "data": {
      "text/plain": [
       "True"
      ]
     },
     "execution_count": 13,
     "metadata": {},
     "output_type": "execute_result"
    }
   ],
   "source": [
    "ent._.is_negated"
   ]
  },
  {
   "cell_type": "markdown",
   "id": "8183b02b",
   "metadata": {},
   "source": [
    "Some other important attributes are:\n",
    "- `is_hypothetical`\n",
    "- `is_historical`\n",
    "- `is_ignored`"
   ]
  },
  {
   "cell_type": "code",
   "execution_count": 14,
   "id": "f0692b76",
   "metadata": {},
   "outputs": [
    {
     "name": "stdout",
     "output_type": "stream",
     "text": [
      "is_hypothetical: True\n"
     ]
    },
    {
     "data": {
      "text/html": [
       "<span class=\"tex2jax_ignore\"><svg xmlns=\"http://www.w3.org/2000/svg\" xmlns:xlink=\"http://www.w3.org/1999/xlink\" xml:lang=\"en\" id=\"ede7507566214302b72215cd70863fee-0\" class=\"displacy\" width=\"1450\" height=\"224.5\" direction=\"ltr\" style=\"max-width: none; height: 224.5px; color: #000000; background: #ffffff; font-family: Arial; direction: ltr\">\n",
       "<text class=\"displacy-token\" fill=\"currentColor\" text-anchor=\"middle\" y=\"134.5\">\n",
       "    <tspan class=\"displacy-word\" fill=\"currentColor\" x=\"50\">He</tspan>\n",
       "    <tspan class=\"displacy-tag\" dy=\"2em\" fill=\"currentColor\" x=\"50\"></tspan>\n",
       "</text>\n",
       "\n",
       "<text class=\"displacy-token\" fill=\"currentColor\" text-anchor=\"middle\" y=\"134.5\">\n",
       "    <tspan class=\"displacy-word\" fill=\"currentColor\" x=\"225\">would like</tspan>\n",
       "    <tspan class=\"displacy-tag\" dy=\"2em\" fill=\"currentColor\" x=\"225\"></tspan>\n",
       "</text>\n",
       "\n",
       "<text class=\"displacy-token\" fill=\"currentColor\" text-anchor=\"middle\" y=\"134.5\">\n",
       "    <tspan class=\"displacy-word\" fill=\"currentColor\" x=\"400\">a</tspan>\n",
       "    <tspan class=\"displacy-tag\" dy=\"2em\" fill=\"currentColor\" x=\"400\"></tspan>\n",
       "</text>\n",
       "\n",
       "<text class=\"displacy-token\" fill=\"currentColor\" text-anchor=\"middle\" y=\"134.5\">\n",
       "    <tspan class=\"displacy-word\" fill=\"currentColor\" x=\"575\">house</tspan>\n",
       "    <tspan class=\"displacy-tag\" dy=\"2em\" fill=\"currentColor\" x=\"575\">EVIDENCE_OF_HOUSING</tspan>\n",
       "</text>\n",
       "\n",
       "<text class=\"displacy-token\" fill=\"currentColor\" text-anchor=\"middle\" y=\"134.5\">\n",
       "    <tspan class=\"displacy-word\" fill=\"currentColor\" x=\"750\">of</tspan>\n",
       "    <tspan class=\"displacy-tag\" dy=\"2em\" fill=\"currentColor\" x=\"750\"></tspan>\n",
       "</text>\n",
       "\n",
       "<text class=\"displacy-token\" fill=\"currentColor\" text-anchor=\"middle\" y=\"134.5\">\n",
       "    <tspan class=\"displacy-word\" fill=\"currentColor\" x=\"925\">his</tspan>\n",
       "    <tspan class=\"displacy-tag\" dy=\"2em\" fill=\"currentColor\" x=\"925\"></tspan>\n",
       "</text>\n",
       "\n",
       "<text class=\"displacy-token\" fill=\"currentColor\" text-anchor=\"middle\" y=\"134.5\">\n",
       "    <tspan class=\"displacy-word\" fill=\"currentColor\" x=\"1100\">own</tspan>\n",
       "    <tspan class=\"displacy-tag\" dy=\"2em\" fill=\"currentColor\" x=\"1100\"></tspan>\n",
       "</text>\n",
       "\n",
       "<text class=\"displacy-token\" fill=\"currentColor\" text-anchor=\"middle\" y=\"134.5\">\n",
       "    <tspan class=\"displacy-word\" fill=\"currentColor\" x=\"1275\">.</tspan>\n",
       "    <tspan class=\"displacy-tag\" dy=\"2em\" fill=\"currentColor\" x=\"1275\"></tspan>\n",
       "</text>\n",
       "\n",
       "<g class=\"displacy-arrow\">\n",
       "    <path class=\"displacy-arc\" id=\"arrow-ede7507566214302b72215cd70863fee-0-0\" stroke-width=\"2px\" d=\"M245,89.5 C245,2.0 575.0,2.0 575.0,89.5\" fill=\"none\" stroke=\"currentColor\"/>\n",
       "    <text dy=\"1.25em\" style=\"font-size: 0.8em; letter-spacing: 1px\">\n",
       "        <textPath xlink:href=\"#arrow-ede7507566214302b72215cd70863fee-0-0\" class=\"displacy-label\" startOffset=\"50%\" side=\"left\" fill=\"currentColor\" text-anchor=\"middle\">HYPOTHETICAL</textPath>\n",
       "    </text>\n",
       "    <path class=\"displacy-arrowhead\" d=\"M575.0,91.5 L583.0,79.5 567.0,79.5\" fill=\"currentColor\"/>\n",
       "</g>\n",
       "</svg></span>"
      ],
      "text/plain": [
       "<IPython.core.display.HTML object>"
      ]
     },
     "metadata": {},
     "output_type": "display_data"
    }
   ],
   "source": [
    "doc = nlp(\"He would like a house of his own.\")\n",
    "print(\"is_hypothetical:\", doc.ents[0]._.is_hypothetical)\n",
    "visualize_dep(doc)\n"
   ]
  },
  {
   "cell_type": "code",
   "execution_count": 15,
   "id": "8b16a814",
   "metadata": {},
   "outputs": [
    {
     "name": "stdout",
     "output_type": "stream",
     "text": [
      "is_historical: True\n"
     ]
    },
    {
     "data": {
      "text/html": [
       "<span class=\"tex2jax_ignore\"><svg xmlns=\"http://www.w3.org/2000/svg\" xmlns:xlink=\"http://www.w3.org/1999/xlink\" xml:lang=\"en\" id=\"977a9354a3f24a5789aca53a10303184-0\" class=\"displacy\" width=\"750\" height=\"224.5\" direction=\"ltr\" style=\"max-width: none; height: 224.5px; color: #000000; background: #ffffff; font-family: Arial; direction: ltr\">\n",
       "<text class=\"displacy-token\" fill=\"currentColor\" text-anchor=\"middle\" y=\"134.5\">\n",
       "    <tspan class=\"displacy-word\" fill=\"currentColor\" x=\"50\">She</tspan>\n",
       "    <tspan class=\"displacy-tag\" dy=\"2em\" fill=\"currentColor\" x=\"50\"></tspan>\n",
       "</text>\n",
       "\n",
       "<text class=\"displacy-token\" fill=\"currentColor\" text-anchor=\"middle\" y=\"134.5\">\n",
       "    <tspan class=\"displacy-word\" fill=\"currentColor\" x=\"225\">was homeless</tspan>\n",
       "    <tspan class=\"displacy-tag\" dy=\"2em\" fill=\"currentColor\" x=\"225\">EVIDENCE_OF_HOMELESSNESS</tspan>\n",
       "</text>\n",
       "\n",
       "<text class=\"displacy-token\" fill=\"currentColor\" text-anchor=\"middle\" y=\"134.5\">\n",
       "    <tspan class=\"displacy-word\" fill=\"currentColor\" x=\"400\">in the past</tspan>\n",
       "    <tspan class=\"displacy-tag\" dy=\"2em\" fill=\"currentColor\" x=\"400\"></tspan>\n",
       "</text>\n",
       "\n",
       "<text class=\"displacy-token\" fill=\"currentColor\" text-anchor=\"middle\" y=\"134.5\">\n",
       "    <tspan class=\"displacy-word\" fill=\"currentColor\" x=\"575\">.</tspan>\n",
       "    <tspan class=\"displacy-tag\" dy=\"2em\" fill=\"currentColor\" x=\"575\"></tspan>\n",
       "</text>\n",
       "\n",
       "<g class=\"displacy-arrow\">\n",
       "    <path class=\"displacy-arc\" id=\"arrow-977a9354a3f24a5789aca53a10303184-0-0\" stroke-width=\"2px\" d=\"M245,89.5 C245,2.0 400.0,2.0 400.0,89.5\" fill=\"none\" stroke=\"currentColor\"/>\n",
       "    <text dy=\"1.25em\" style=\"font-size: 0.8em; letter-spacing: 1px\">\n",
       "        <textPath xlink:href=\"#arrow-977a9354a3f24a5789aca53a10303184-0-0\" class=\"displacy-label\" startOffset=\"50%\" side=\"left\" fill=\"currentColor\" text-anchor=\"middle\">HISTORICAL</textPath>\n",
       "    </text>\n",
       "    <path class=\"displacy-arrowhead\" d=\"M245,91.5 L237,79.5 253,79.5\" fill=\"currentColor\"/>\n",
       "</g>\n",
       "</svg></span>"
      ],
      "text/plain": [
       "<IPython.core.display.HTML object>"
      ]
     },
     "metadata": {},
     "output_type": "display_data"
    }
   ],
   "source": [
    "doc = nlp(\"She was homeless in the past.\")\n",
    "print(\"is_historical:\", doc.ents[0]._.is_historical)\n",
    "visualize_dep(doc)\n"
   ]
  },
  {
   "cell_type": "code",
   "execution_count": 16,
   "id": "76ceb178",
   "metadata": {},
   "outputs": [
    {
     "name": "stdout",
     "output_type": "stream",
     "text": [
      "is_ignored: True\n"
     ]
    },
    {
     "data": {
      "text/html": [
       "<span class=\"tex2jax_ignore\"><svg xmlns=\"http://www.w3.org/2000/svg\" xmlns:xlink=\"http://www.w3.org/1999/xlink\" xml:lang=\"en\" id=\"208d76d315d24404b9557b5dc00d642e-0\" class=\"displacy\" width=\"1100\" height=\"312.0\" direction=\"ltr\" style=\"max-width: none; height: 312.0px; color: #000000; background: #ffffff; font-family: Arial; direction: ltr\">\n",
       "<text class=\"displacy-token\" fill=\"currentColor\" text-anchor=\"middle\" y=\"222.0\">\n",
       "    <tspan class=\"displacy-word\" fill=\"currentColor\" x=\"50\">Do</tspan>\n",
       "    <tspan class=\"displacy-tag\" dy=\"2em\" fill=\"currentColor\" x=\"50\"></tspan>\n",
       "</text>\n",
       "\n",
       "<text class=\"displacy-token\" fill=\"currentColor\" text-anchor=\"middle\" y=\"222.0\">\n",
       "    <tspan class=\"displacy-word\" fill=\"currentColor\" x=\"225\">you</tspan>\n",
       "    <tspan class=\"displacy-tag\" dy=\"2em\" fill=\"currentColor\" x=\"225\"></tspan>\n",
       "</text>\n",
       "\n",
       "<text class=\"displacy-token\" fill=\"currentColor\" text-anchor=\"middle\" y=\"222.0\">\n",
       "    <tspan class=\"displacy-word\" fill=\"currentColor\" x=\"400\">live in</tspan>\n",
       "    <tspan class=\"displacy-tag\" dy=\"2em\" fill=\"currentColor\" x=\"400\"></tspan>\n",
       "</text>\n",
       "\n",
       "<text class=\"displacy-token\" fill=\"currentColor\" text-anchor=\"middle\" y=\"222.0\">\n",
       "    <tspan class=\"displacy-word\" fill=\"currentColor\" x=\"575\">an</tspan>\n",
       "    <tspan class=\"displacy-tag\" dy=\"2em\" fill=\"currentColor\" x=\"575\"></tspan>\n",
       "</text>\n",
       "\n",
       "<text class=\"displacy-token\" fill=\"currentColor\" text-anchor=\"middle\" y=\"222.0\">\n",
       "    <tspan class=\"displacy-word\" fill=\"currentColor\" x=\"750\">apartment</tspan>\n",
       "    <tspan class=\"displacy-tag\" dy=\"2em\" fill=\"currentColor\" x=\"750\">EVIDENCE_OF_HOUSING</tspan>\n",
       "</text>\n",
       "\n",
       "<text class=\"displacy-token\" fill=\"currentColor\" text-anchor=\"middle\" y=\"222.0\">\n",
       "    <tspan class=\"displacy-word\" fill=\"currentColor\" x=\"925\">?</tspan>\n",
       "    <tspan class=\"displacy-tag\" dy=\"2em\" fill=\"currentColor\" x=\"925\"></tspan>\n",
       "</text>\n",
       "\n",
       "<g class=\"displacy-arrow\">\n",
       "    <path class=\"displacy-arc\" id=\"arrow-208d76d315d24404b9557b5dc00d642e-0-0\" stroke-width=\"2px\" d=\"M420,177.0 C420,2.0 750.0,2.0 750.0,177.0\" fill=\"none\" stroke=\"currentColor\"/>\n",
       "    <text dy=\"1.25em\" style=\"font-size: 0.8em; letter-spacing: 1px\">\n",
       "        <textPath xlink:href=\"#arrow-208d76d315d24404b9557b5dc00d642e-0-0\" class=\"displacy-label\" startOffset=\"50%\" side=\"left\" fill=\"currentColor\" text-anchor=\"middle\">RESIDES_IN</textPath>\n",
       "    </text>\n",
       "    <path class=\"displacy-arrowhead\" d=\"M750.0,179.0 L758.0,167.0 742.0,167.0\" fill=\"currentColor\"/>\n",
       "</g>\n",
       "\n",
       "<g class=\"displacy-arrow\">\n",
       "    <path class=\"displacy-arc\" id=\"arrow-208d76d315d24404b9557b5dc00d642e-0-1\" stroke-width=\"2px\" d=\"M770,177.0 C770,89.5 920.0,89.5 920.0,177.0\" fill=\"none\" stroke=\"currentColor\"/>\n",
       "    <text dy=\"1.25em\" style=\"font-size: 0.8em; letter-spacing: 1px\">\n",
       "        <textPath xlink:href=\"#arrow-208d76d315d24404b9557b5dc00d642e-0-1\" class=\"displacy-label\" startOffset=\"50%\" side=\"left\" fill=\"currentColor\" text-anchor=\"middle\">NOT_RELEVANT</textPath>\n",
       "    </text>\n",
       "    <path class=\"displacy-arrowhead\" d=\"M770,179.0 L762,167.0 778,167.0\" fill=\"currentColor\"/>\n",
       "</g>\n",
       "</svg></span>"
      ],
      "text/plain": [
       "<IPython.core.display.HTML object>"
      ]
     },
     "metadata": {},
     "output_type": "display_data"
    }
   ],
   "source": [
    "doc = nlp(\"Do you live in an apartment?\")\n",
    "print(\"is_ignored:\", doc.ents[0]._.is_ignored)\n",
    "visualize_dep(doc)\n"
   ]
  },
  {
   "cell_type": "markdown",
   "id": "fbfef5b7",
   "metadata": {},
   "source": [
    "This logic is implemented in the `ConTextComponent` pipeline component, where we can also see the rules defining modifiers (similar to the `TargetRules` in the previous notebook):"
   ]
  },
  {
   "cell_type": "code",
   "execution_count": 18,
   "id": "796393b2",
   "metadata": {},
   "outputs": [
    {
     "data": {
      "text/plain": [
       "<medspacy.context.context_component.ConTextComponent at 0x7f999358b3d0>"
      ]
     },
     "execution_count": 18,
     "metadata": {},
     "output_type": "execute_result"
    }
   ],
   "source": [
    "context = nlp.get_pipe(\"medspacy_context\")\n",
    "context"
   ]
  },
  {
   "cell_type": "code",
   "execution_count": 19,
   "id": "dc87ce20",
   "metadata": {},
   "outputs": [
    {
     "data": {
      "text/plain": [
       "[ConTextRule(literal='absence of', category='NEGATED_EXISTENCE', pattern=None, direction='FORWARD'),\n",
       " ConTextRule(literal='adequate to rule out', category='NEGATED_EXISTENCE', pattern=[{'LOWER': {'IN': ['adequate', 'sufficient']}}, {'LOWER': 'to'}, {'LOWER': 'rule'}, {'LOWER': {'IN': ['him', 'her', 'them', 'patient', 'pt']}, 'OP': '?'}, {'LOWER': 'out'}, {'LOWER': {'IN': ['against', 'for']}, 'OP': '?'}], direction='FORWARD'),\n",
       " ConTextRule(literal='adequate to rule the patient out', category='NEGATED_EXISTENCE', pattern=[{'LOWER': {'IN': ['adequate', 'sufficient']}}, {'LOWER': 'to'}, {'LOWER': 'rule'}, {'LOWER': 'the'}, {'LOWER': {'IN': ['patient', 'pt']}}, {'LOWER': 'out'}, {'LOWER': {'IN': ['against', 'for']}, 'OP': '?'}], direction='FORWARD'),\n",
       " ConTextRule(literal='any other', category='NEGATED_EXISTENCE', pattern=None, direction='FORWARD'),\n",
       " ConTextRule(literal='apart from', category='NEGATED_EXISTENCE', pattern=[{'LOWER': 'apart'}, {'LOWER': {'IN': ['for', 'from']}}], direction='TERMINATE'),\n",
       " ConTextRule(literal='are ruled out', category='NEGATED_EXISTENCE', pattern=[{'LOWER': {'IN': ['are', 'is', 'was']}}, {'LOWER': 'ruled'}, {'LOWER': 'out'}], direction='BACKWARD'),\n",
       " ConTextRule(literal='as a cause for', category='NEGATED_EXISTENCE', pattern=[{'LOWER': 'as'}, {'LOWER': {'IN': ['a', 'an', 'the']}}, {'LOWER': 'secondary', 'OP': '?'}, {'LOWER': {'IN': ['cause', 'etiology', 'source', 'reason']}}, {'LOWER': {'IN': ['for', 'of']}}], direction='TERMINATE'),\n",
       " ConTextRule(literal='as has', category='NEGATED_EXISTENCE', pattern=None, direction='TERMINATE'),\n",
       " ConTextRule(literal='as needed', category='HYPOTHETICAL', pattern=None, direction='FORWARD'),\n",
       " ConTextRule(literal='as well as any', category='NEGATED_EXISTENCE', pattern=None, direction='FORWARD')]"
      ]
     },
     "execution_count": 19,
     "metadata": {},
     "output_type": "execute_result"
    }
   ],
   "source": [
    "context.rules[:10]"
   ]
  },
  {
   "cell_type": "code",
   "execution_count": null,
   "id": "493f1ec0",
   "metadata": {},
   "outputs": [],
   "source": []
  },
  {
   "cell_type": "markdown",
   "id": "4b11db02",
   "metadata": {},
   "source": [
    "## Section detection\n",
    "\n",
    "In addition to the sentence around an entity, the location of a concept in a clinical text indicates certain attributes. For example, the **Past Medical History** and **Problem List** often list medical problems a patient has had in the past which aren't necessarily active anymore. In the context of housing, sections like **Housing Status** give a clear documentation of what a patient's housing situation is, while **Patient Goals** might tell us that they are working to find stable housing.\n",
    "\n",
    "Consider this example below. When we visualize this document, the section headers will be highlighted in gray. (Note that when they overlap with a ConText modifier or entity they will be visualized twice.)"
   ]
  },
  {
   "cell_type": "code",
   "execution_count": 20,
   "id": "d151fe8d",
   "metadata": {},
   "outputs": [],
   "source": [
    "text = \"\"\"\n",
    "History of present illness: Veteran is here to discuss his housing situation.\n",
    "\n",
    "PmHX: \n",
    "- Pneumonia\n",
    "- Afib\n",
    "- Homelessness\n",
    "\n",
    "Housing Situation: staying in a shelter.\n",
    "\n",
    "Patient Goals: Stable housing\n",
    "\n",
    "Assessment/Plan: The patient will continue to work towards finding stable housing.\n",
    "\"\"\""
   ]
  },
  {
   "cell_type": "code",
   "execution_count": 21,
   "id": "544635ec",
   "metadata": {},
   "outputs": [
    {
     "data": {
      "text/html": [
       "<span class=\"tex2jax_ignore\"><div class=\"entities\" style=\"line-height: 2.5; direction: ltr\"></br>\n",
       "<mark class=\"entity\" style=\"background: #ddd; padding: 0.45em 0.6em; margin: 0 0.25em; line-height: 1; border-radius: 0.35em;\">\n",
       "    History of present illness:\n",
       "    <span style=\"font-size: 0.8em; font-weight: bold; line-height: 1; border-radius: 0.35em; vertical-align: middle; margin-left: 0.5rem\"><< HISTORY_OF_PRESENT_ILLNESS >></span>\n",
       "</mark>\n",
       " Veteran is here to discuss his \n",
       "<mark class=\"entity\" style=\"background: #dee0e3; padding: 0.45em 0.6em; margin: 0 0.25em; line-height: 1; border-radius: 0.35em;\">\n",
       "    housing situation\n",
       "    <span style=\"font-size: 0.8em; font-weight: bold; line-height: 1; border-radius: 0.35em; vertical-align: middle; margin-left: 0.5rem\">IGNORE</span>\n",
       "</mark>\n",
       ".</br></br>\n",
       "<mark class=\"entity\" style=\"background: #1f77b4; padding: 0.45em 0.6em; margin: 0 0.25em; line-height: 1; border-radius: 0.35em;\">\n",
       "    PmHX\n",
       "    <span style=\"font-size: 0.8em; font-weight: bold; line-height: 1; border-radius: 0.35em; vertical-align: middle; margin-left: 0.5rem\">HISTORICAL</span>\n",
       "</mark>\n",
       "\n",
       "<mark class=\"entity\" style=\"background: #ddd; padding: 0.45em 0.6em; margin: 0 0.25em; line-height: 1; border-radius: 0.35em;\">\n",
       "    PmHX:\n",
       "    <span style=\"font-size: 0.8em; font-weight: bold; line-height: 1; border-radius: 0.35em; vertical-align: middle; margin-left: 0.5rem\"><< PAST_MEDICAL_HISTORY >></span>\n",
       "</mark>\n",
       " </br>- Pneumonia</br>- Afib</br>- \n",
       "<mark class=\"entity\" style=\"background: #d62728; padding: 0.45em 0.6em; margin: 0 0.25em; line-height: 1; border-radius: 0.35em;\">\n",
       "    Homelessness\n",
       "    <span style=\"font-size: 0.8em; font-weight: bold; line-height: 1; border-radius: 0.35em; vertical-align: middle; margin-left: 0.5rem\">EVIDENCE_OF_HOMELESSNESS</span>\n",
       "</mark>\n",
       "</br></br>\n",
       "<mark class=\"entity\" style=\"background: #dee0e3; padding: 0.45em 0.6em; margin: 0 0.25em; line-height: 1; border-radius: 0.35em;\">\n",
       "    Housing Situation\n",
       "    <span style=\"font-size: 0.8em; font-weight: bold; line-height: 1; border-radius: 0.35em; vertical-align: middle; margin-left: 0.5rem\">IGNORE</span>\n",
       "</mark>\n",
       "\n",
       "<mark class=\"entity\" style=\"background: #ddd; padding: 0.45em 0.6em; margin: 0 0.25em; line-height: 1; border-radius: 0.35em;\">\n",
       "    Housing Situation:\n",
       "    <span style=\"font-size: 0.8em; font-weight: bold; line-height: 1; border-radius: 0.35em; vertical-align: middle; margin-left: 0.5rem\"><< HOUSING_STATUS >></span>\n",
       "</mark>\n",
       " \n",
       "<mark class=\"entity\" style=\"background: #9567bd; padding: 0.45em 0.6em; margin: 0 0.25em; line-height: 1; border-radius: 0.35em;\">\n",
       "    staying in\n",
       "    <span style=\"font-size: 0.8em; font-weight: bold; line-height: 1; border-radius: 0.35em; vertical-align: middle; margin-left: 0.5rem\">RESIDES_IN</span>\n",
       "</mark>\n",
       " a \n",
       "<mark class=\"entity\" style=\"background: #ff7f0e; padding: 0.45em 0.6em; margin: 0 0.25em; line-height: 1; border-radius: 0.35em;\">\n",
       "    shelter\n",
       "    <span style=\"font-size: 0.8em; font-weight: bold; line-height: 1; border-radius: 0.35em; vertical-align: middle; margin-left: 0.5rem\">TEMPORARY_HOUSING</span>\n",
       "</mark>\n",
       ".</br></br>Patient \n",
       "<mark class=\"entity\" style=\"background: #ddd; padding: 0.45em 0.6em; margin: 0 0.25em; line-height: 1; border-radius: 0.35em;\">\n",
       "    Goals\n",
       "    <span style=\"font-size: 0.8em; font-weight: bold; line-height: 1; border-radius: 0.35em; vertical-align: middle; margin-left: 0.5rem\">HYPOTHETICAL</span>\n",
       "</mark>\n",
       "\n",
       "<mark class=\"entity\" style=\"background: #ddd; padding: 0.45em 0.6em; margin: 0 0.25em; line-height: 1; border-radius: 0.35em;\">\n",
       "    Goals:\n",
       "    <span style=\"font-size: 0.8em; font-weight: bold; line-height: 1; border-radius: 0.35em; vertical-align: middle; margin-left: 0.5rem\"><< PATIENT_GOALS >></span>\n",
       "</mark>\n",
       " \n",
       "<mark class=\"entity\" style=\"background: #2ca02c; padding: 0.45em 0.6em; margin: 0 0.25em; line-height: 1; border-radius: 0.35em;\">\n",
       "    Stable housing\n",
       "    <span style=\"font-size: 0.8em; font-weight: bold; line-height: 1; border-radius: 0.35em; vertical-align: middle; margin-left: 0.5rem\">EVIDENCE_OF_HOUSING</span>\n",
       "</mark>\n",
       "</br></br>\n",
       "<mark class=\"entity\" style=\"background: #ddd; padding: 0.45em 0.6em; margin: 0 0.25em; line-height: 1; border-radius: 0.35em;\">\n",
       "    Assessment/Plan:\n",
       "    <span style=\"font-size: 0.8em; font-weight: bold; line-height: 1; border-radius: 0.35em; vertical-align: middle; margin-left: 0.5rem\"><< OBSERVATION_AND_PLAN >></span>\n",
       "</mark>\n",
       "\n",
       "<mark class=\"entity\" style=\"background: #ddd; padding: 0.45em 0.6em; margin: 0 0.25em; line-height: 1; border-radius: 0.35em;\">\n",
       "    Plan:\n",
       "    <span style=\"font-size: 0.8em; font-weight: bold; line-height: 1; border-radius: 0.35em; vertical-align: middle; margin-left: 0.5rem\">HEADER</span>\n",
       "</mark>\n",
       " The patient will continue to work towards \n",
       "<mark class=\"entity\" style=\"background: #ddd; padding: 0.45em 0.6em; margin: 0 0.25em; line-height: 1; border-radius: 0.35em;\">\n",
       "    finding\n",
       "    <span style=\"font-size: 0.8em; font-weight: bold; line-height: 1; border-radius: 0.35em; vertical-align: middle; margin-left: 0.5rem\">HYPOTHETICAL</span>\n",
       "</mark>\n",
       " \n",
       "<mark class=\"entity\" style=\"background: #2ca02c; padding: 0.45em 0.6em; margin: 0 0.25em; line-height: 1; border-radius: 0.35em;\">\n",
       "    stable housing\n",
       "    <span style=\"font-size: 0.8em; font-weight: bold; line-height: 1; border-radius: 0.35em; vertical-align: middle; margin-left: 0.5rem\">EVIDENCE_OF_HOUSING</span>\n",
       "</mark>\n",
       ".</br></div></span>"
      ],
      "text/plain": [
       "<IPython.core.display.HTML object>"
      ]
     },
     "metadata": {},
     "output_type": "display_data"
    }
   ],
   "source": [
    "doc = nlp(text)\n",
    "visualize_ent(doc, colors=ENT_COLORS)"
   ]
  },
  {
   "cell_type": "markdown",
   "id": "325a34c3",
   "metadata": {},
   "source": [
    "Here is an interpretation of the note:\n",
    "- In the **History of Present Illness (HPI)**, the author sets up the reason for this visit. In this case, they will be discussing housing, which shows that this note will be relevant to our task, although the phrase **\"housing situation\"** doesn't give any actual information about what their housing status is\n",
    "- In the **Past Medical History**, we see **\"Homelessness\"**. However, this just means that the patient was homeless at one point in the past, not necessarily now\n",
    "- The **Housing Situation** section gives us some clear and consie information: the patient is currently housed in a shelter\n",
    "- The **Goals** section implies that the patient would like to work towards getting stable housing (which also might imply that they do not have it now)\n",
    "- Finally, the **Assessment/Plan (A/P)** section summarizes the visit and next steps, indicating that the patient is going to work towards stable housing\n",
    "\n",
    "For our system to make use of this structural information, we look at the following attributes:\n",
    "- Similar to ConText, attributes like `is_hypothetical` and `is_historical` are set when they occur in certain sections, like **Goals** and **Past Medical History**\n",
    "- We can also access the specific section an entity occured in with the `section_category` attribute. This will be useful when we try to infer a document classification"
   ]
  },
  {
   "cell_type": "code",
   "execution_count": 22,
   "id": "7f8cfd7f",
   "metadata": {},
   "outputs": [
    {
     "name": "stdout",
     "output_type": "stream",
     "text": [
      "housing situation\n",
      "history_of_present_illness\n",
      "is_historical: False\n",
      "is_hypothetical: False\n",
      "\n",
      "Homelessness\n",
      "past_medical_history\n",
      "is_historical: True\n",
      "is_hypothetical: False\n",
      "\n",
      "Housing Situation\n",
      "housing_status\n",
      "is_historical: False\n",
      "is_hypothetical: False\n",
      "\n",
      "shelter\n",
      "housing_status\n",
      "is_historical: False\n",
      "is_hypothetical: False\n",
      "\n",
      "Stable housing\n",
      "patient_goals\n",
      "is_historical: False\n",
      "is_hypothetical: True\n",
      "\n",
      "Plan:\n",
      "observation_and_plan\n",
      "is_historical: False\n",
      "is_hypothetical: False\n",
      "\n",
      "stable housing\n",
      "observation_and_plan\n",
      "is_historical: False\n",
      "is_hypothetical: True\n",
      "\n"
     ]
    }
   ],
   "source": [
    "for ent in doc.ents:\n",
    "    print(ent)\n",
    "    print(ent._.section_category)\n",
    "    print(\"is_historical:\", ent._.is_historical)\n",
    "    print(\"is_hypothetical:\", ent._.is_hypothetical)\n",
    "    print()"
   ]
  },
  {
   "cell_type": "markdown",
   "id": "3497a67d",
   "metadata": {},
   "source": [
    "Section detection is implemented in the `Sectionizer` component:"
   ]
  },
  {
   "cell_type": "code",
   "execution_count": 23,
   "id": "51e8ec4c",
   "metadata": {},
   "outputs": [
    {
     "data": {
      "text/plain": [
       "<medspacy.section_detection.sectionizer.Sectionizer at 0x7f999360c700>"
      ]
     },
     "execution_count": 23,
     "metadata": {},
     "output_type": "execute_result"
    }
   ],
   "source": [
    "sectionizer = nlp.get_pipe(\"medspacy_sectionizer\")\n",
    "sectionizer"
   ]
  },
  {
   "cell_type": "code",
   "execution_count": 24,
   "id": "a93ceb2b",
   "metadata": {},
   "outputs": [
    {
     "data": {
      "text/plain": [
       "[SectionRule(literal=\"ADDENDUM:\", category=\"addendum\", pattern=None, on_match=None, parents=[], parent_required=False),\n",
       " SectionRule(literal=\"Addendum:\", category=\"addendum\", pattern=None, on_match=None, parents=[], parent_required=False),\n",
       " SectionRule(literal=\"ALLERGIC REACTIONS:\", category=\"allergy\", pattern=None, on_match=None, parents=[], parent_required=False),\n",
       " SectionRule(literal=\"ALLERGIES:\", category=\"allergy\", pattern=None, on_match=None, parents=[], parent_required=False),\n",
       " SectionRule(literal=\"Allergies\", category=\"allergies\", pattern=None, on_match=None, parents=[], parent_required=False),\n",
       " SectionRule(literal=\"CC:\", category=\"chief_complaint\", pattern=None, on_match=None, parents=[], parent_required=False),\n",
       " SectionRule(literal=\"CHIEF COMPLAINT:\", category=\"chief_complaint\", pattern=None, on_match=None, parents=[], parent_required=False),\n",
       " SectionRule(literal=\"Chief Complaint:\", category=\"chief_complaint\", pattern=None, on_match=None, parents=[], parent_required=False),\n",
       " SectionRule(literal=\"COMMENTS:\", category=\"comments\", pattern=None, on_match=None, parents=[], parent_required=False),\n",
       " SectionRule(literal=\"CONSENT:\", category=\"patient_education\", pattern=None, on_match=None, parents=[], parent_required=False)]"
      ]
     },
     "execution_count": 24,
     "metadata": {},
     "output_type": "execute_result"
    }
   ],
   "source": [
    "sectionizer.rules[:10]"
   ]
  },
  {
   "cell_type": "markdown",
   "id": "fab8a100",
   "metadata": {},
   "source": [
    "## `is_asserted`\n",
    "Another important attribute which isn't set explicitly is `is_asserted`. If all of the other primary attributes are `False`, then `is_asserted` returns `True`. This essentially means that an entity can be taken at face value - you don't need to look at specific attributes or context to understand its semantics."
   ]
  },
  {
   "cell_type": "code",
   "execution_count": 25,
   "id": "57b1ecf2",
   "metadata": {},
   "outputs": [
    {
     "name": "stdout",
     "output_type": "stream",
     "text": [
      "living in stable housing\n",
      "is_asserted: True\n"
     ]
    }
   ],
   "source": [
    "doc = nlp(\"He is living in stable housing.\")\n",
    "print(doc.ents[0])\n",
    "print(\"is_asserted:\", doc.ents[0]._.is_asserted)"
   ]
  },
  {
   "cell_type": "code",
   "execution_count": 26,
   "id": "94d3b002",
   "metadata": {},
   "outputs": [
    {
     "name": "stdout",
     "output_type": "stream",
     "text": [
      "living in stable housing\n",
      "is_asserted: False\n"
     ]
    }
   ],
   "source": [
    "doc = nlp(\"He is not living in stable housing.\")\n",
    "print(doc.ents[0])\n",
    "print(\"is_asserted:\", doc.ents[0]._.is_asserted)"
   ]
  },
  {
   "cell_type": "code",
   "execution_count": null,
   "id": "b8f26c5e",
   "metadata": {},
   "outputs": [],
   "source": []
  }
 ],
 "metadata": {
  "kernelspec": {
   "display_name": "Python 3 (ipykernel)",
   "language": "python",
   "name": "python3"
  },
  "language_info": {
   "codemirror_mode": {
    "name": "ipython",
    "version": 3
   },
   "file_extension": ".py",
   "mimetype": "text/x-python",
   "name": "python",
   "nbconvert_exporter": "python",
   "pygments_lexer": "ipython3",
   "version": "3.9.16"
  }
 },
 "nbformat": 4,
 "nbformat_minor": 5
}
