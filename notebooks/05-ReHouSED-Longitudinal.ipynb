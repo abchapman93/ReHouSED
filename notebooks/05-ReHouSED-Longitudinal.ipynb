{
 "cells": [
  {
   "cell_type": "markdown",
   "id": "2843720d",
   "metadata": {},
   "source": [
    "# 5. Studying longitudinal housing instability with ReHouSED\n",
    "The ultimate goal of this system is to describe a patient's current housing stability over time. NLP is used to extract information from individual documents, but this ultimately has to be aggregated to a patient level across time. This is challenging for several reasons. First, clinical documentation is authored at highly irregular intervals when patients come into a clinic and a provider documents their housing status. This means that we don't get to regularly observe the outcome variable. Second, among the SSVF population that ReHouSED was originally developed for, documentation happens more frequently for patients who are experiencing housing instability. That is, when a patient is not unstably housed they are less likely to come into a VA clinic and have their housing status put into a note.This can cause bias in longitudinal analyses. Additionally, documents can contain conflicting information. These discrepancies could be due to:\n",
    "- NLP errors\n",
    "- Inconsistent documentation\n",
    "- Actual changes in the patient housing situation (e.g., they were homeless but one week later found an apartment)\n",
    "\n",
    "To address these issues, we've implemented methods for handling **irregular observations** and studying longitudinal analyses. This work has been published in these two papers:\n",
    "- [Using natural language processing to study homelessness longitudinally with electronic health record data subject to irregular observations](https://www.ncbi.nlm.nih.gov/pmc/articles/PMC10785905) (AMIA 2023)\n",
    "- [Temporary Financial Assistance Reduced The Probability Of Unstable Housing Among Veterans For More Than 1 Year](https://www.healthaffairs.org/doi/10.1377/hlthaff.2023.00730?url_ver=Z39.88-2003&rfr_id=ori:rid:crossref.org&rfr_dat=cr_pub%20%200pubmed) (Health Affairs)\n",
    "\n",
    "I won't go into the details here other than to refer to those two papers and mention that additional work is ongoing."
   ]
  },
  {
   "cell_type": "code",
   "execution_count": null,
   "id": "0da95a03",
   "metadata": {},
   "outputs": [],
   "source": []
  }
 ],
 "metadata": {
  "kernelspec": {
   "display_name": "Python 3 (ipykernel)",
   "language": "python",
   "name": "python3"
  },
  "language_info": {
   "codemirror_mode": {
    "name": "ipython",
    "version": 3
   },
   "file_extension": ".py",
   "mimetype": "text/x-python",
   "name": "python",
   "nbconvert_exporter": "python",
   "pygments_lexer": "ipython3",
   "version": "3.10.13"
  }
 },
 "nbformat": 4,
 "nbformat_minor": 5
}
